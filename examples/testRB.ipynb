{
 "cells": [
  {
   "cell_type": "code",
   "execution_count": 1,
   "metadata": {},
   "outputs": [],
   "source": [
    "from qibocal.protocols.characterization.RB.utils import RBSequence\n",
    "from qibolab.platform import create_tii_IQM5q\n",
    "from qibolab.paths import qibolab_folder"
   ]
  },
  {
   "cell_type": "code",
   "execution_count": 2,
   "metadata": {},
   "outputs": [],
   "source": [
    "import pandas as pd\n",
    "import numpy as np\n",
    "from scipy.optimize import curve_fit\n",
    "\n",
    "from qibocal.protocols.characterization.RB import utils\n",
    "\n",
    "df = pd.read_csv('data.csv')"
   ]
  },
  {
   "cell_type": "code",
   "execution_count": 26,
   "metadata": {},
   "outputs": [],
   "source": [
    "new_df = df[['lenght','probabilities']].copy().drop([0], axis=0)\n",
    "# new_df = new_df.drop([0], axis=0)\n",
    "new_df[\"probabilities\"] = new_df[\"probabilities\"].astype(\"float\")\n",
    "data = new_df.groupby('lenght')['probabilities'].mean().sort_values(ascending=False)\n",
    "# data = data.sort_values(ascending=False)\n",
    "x = data.keys().to_numpy()\n",
    "y = data.to_numpy()"
   ]
  },
  {
   "cell_type": "code",
   "execution_count": 30,
   "metadata": {},
   "outputs": [],
   "source": [
    "new_df = df[['lenght','probabilities']].copy().drop([0], axis=0)\n",
    "# new_df = new_df.drop([0], axis=0)\n",
    "new_df[\"probabilities\"] = new_df[\"probabilities\"].astype(\"float\")"
   ]
  },
  {
   "cell_type": "code",
   "execution_count": 33,
   "metadata": {},
   "outputs": [],
   "source": [
    "x = new_df[\"lenght\"].to_numpy()\n",
    "y = new_df[\"probabilities\"].to_numpy()"
   ]
  },
  {
   "cell_type": "code",
   "execution_count": 36,
   "metadata": {},
   "outputs": [
    {
     "name": "stdout",
     "output_type": "stream",
     "text": [
      "p 0.9952105994579126\n",
      "sucess 0.9976052997289563\n"
     ]
    }
   ],
   "source": [
    "a_guess = np.max(y) - np.mean(y)\n",
    "p_guess = 0.9\n",
    "b_guess = np.mean(y)\n",
    "\n",
    "# # Another guess liza would use is:\n",
    "# a_guess = y[0]-y[-1] # (assuming p is close to 1)\n",
    "# p_guess = 0.9\n",
    "# b_guess = y[-1] # (because we assume p^m goes to 0 for large m)\n",
    "\n",
    "pguess = [a_guess, p_guess, b_guess]\n",
    "\n",
    "popt, pcov = curve_fit(\n",
    "    utils.RB_fit,\n",
    "    x,\n",
    "    y,\n",
    "    p0=pguess,\n",
    "    maxfev=100000,\n",
    "    bounds=((-np.inf, 0, -np.inf), (np.inf, 1, np.inf)),\n",
    ") \n",
    "\n",
    "p = popt[1]\n",
    "\n",
    "print(\"p\", p)\n",
    "\n",
    "fidelity = 1 - ((1 - p) / 2)\n",
    "# Divide by magic number\n",
    "magic_number = 1.875\n",
    "\n",
    "# fidelity_magic = fidelity / magic_number\n",
    "\n",
    "print(\"sucess\", fidelity)"
   ]
  },
  {
   "cell_type": "code",
   "execution_count": 1,
   "metadata": {},
   "outputs": [],
   "source": [
    "from qibocal.protocols.characterization.RB.utils import RBSequence\n",
    "from qibolab.platform import create_tii_IQM5q\n",
    "from qibolab.paths import qibolab_folder"
   ]
  },
  {
   "cell_type": "code",
   "execution_count": 2,
   "metadata": {},
   "outputs": [
    {
     "name": "stderr",
     "output_type": "stream",
     "text": [
      "[Qibo 0.1.13|INFO|2023-05-18 22:57:50]: Loading platform IQM5q from runcard /nfs/users/juan.cereijo/qibolab/src/qibolab/runcards/iqm5q.yml\n"
     ]
    }
   ],
   "source": [
    "runcard = qibolab_folder / \"runcards\" / \"iqm5q.yml\"\n",
    "\n",
    "IQM5q = create_tii_IQM5q(runcard)\n",
    "\n",
    "sequencer = RBSequence(platform = IQM5q,\n",
    "           depths = list(range(2,3,2)),\n",
    "           runs = 1,\n",
    "        )"
   ]
  },
  {
   "cell_type": "code",
   "execution_count": 3,
   "metadata": {},
   "outputs": [
    {
     "name": "stderr",
     "output_type": "stream",
     "text": [
      "[Qibo 0.1.13|INFO|2023-05-18 22:57:50]: Using numpy backend on /CPU:0\n"
     ]
    }
   ],
   "source": [
    "sequences, circuits = sequencer.get_sequences(IQM5q.qubits[0].name)"
   ]
  },
  {
   "cell_type": "code",
   "execution_count": 4,
   "metadata": {},
   "outputs": [
    {
     "name": "stdout",
     "output_type": "stream",
     "text": [
      "defaultdict(<class 'list'>, {'2_0': [PulseSequence\n",
      "ReadoutPulse(160, 2000, 0.5, 5_233_200_000, 0, Rectangular(), L2-7, 0)\n",
      "ReadoutPulse(300240, 2000, 0.5, 5_233_200_000, 0, Rectangular(), L2-7, 0)\n",
      "ReadoutPulse(600320, 2000, 0.5, 5_233_200_000, 0, Rectangular(), L2-7, 0)\n",
      "ReadoutPulse(900400, 2000, 0.5, 5_233_200_000, 0, Rectangular(), L2-7, 0)\n",
      "ReadoutPulse(1200480, 2000, 0.5, 5_233_200_000, 0, Rectangular(), L2-7, 0)\n",
      "Pulse(0, 40, 0.3015, 4_093_830_788, -1.570796, Gaussian(5), L4-15, PulseType.DRIVE, 0)\n",
      "Pulse(40, 40, 0.3015, 4_093_830_788, -3.141593, Gaussian(5), L4-15, PulseType.DRIVE, 0)\n",
      "Pulse(80, 40, 0.3015, 4_093_830_788, -3.141593, Gaussian(5), L4-15, PulseType.DRIVE, 0)\n",
      "Pulse(120, 40, 0.3015, 4_093_830_788, -4.712389, Gaussian(5), L4-15, PulseType.DRIVE, 0)\n",
      "Pulse(300080, 40, 0.3015, 4_093_830_788, 1.570796, Gaussian(5), L4-15, PulseType.DRIVE, 0)\n",
      "Pulse(300120, 40, 0.3015, 4_093_830_788, 0, Gaussian(5), L4-15, PulseType.DRIVE, 0)\n",
      "Pulse(300160, 40, 0.3015, 4_093_830_788, 0, Gaussian(5), L4-15, PulseType.DRIVE, 0)\n",
      "Pulse(300200, 40, 0.3015, 4_093_830_788, -1.570796, Gaussian(5), L4-15, PulseType.DRIVE, 0)\n",
      "Pulse(600160, 40, 0.3015, 4_093_830_788, 4.712389, Gaussian(5), L4-15, PulseType.DRIVE, 0)\n",
      "Pulse(600200, 40, 0.3015, 4_093_830_788, 3.141593, Gaussian(5), L4-15, PulseType.DRIVE, 0)\n",
      "Pulse(600240, 40, 0.3015, 4_093_830_788, 3.141593, Gaussian(5), L4-15, PulseType.DRIVE, 0)\n",
      "Pulse(600280, 40, 0.3015, 4_093_830_788, 1.570796, Gaussian(5), L4-15, PulseType.DRIVE, 0)\n",
      "Pulse(900240, 40, 0.3015, 4_093_830_788, 7.853982, Gaussian(5), L4-15, PulseType.DRIVE, 0)\n",
      "Pulse(900280, 40, 0.3015, 4_093_830_788, 6.283185, Gaussian(5), L4-15, PulseType.DRIVE, 0)\n",
      "Pulse(900320, 40, 0.3015, 4_093_830_788, 6.283185, Gaussian(5), L4-15, PulseType.DRIVE, 0)\n",
      "Pulse(900360, 40, 0.3015, 4_093_830_788, 4.712389, Gaussian(5), L4-15, PulseType.DRIVE, 0)\n",
      "Pulse(1200320, 40, 0.3015, 4_093_830_788, 10.995574, Gaussian(5), L4-15, PulseType.DRIVE, 0)\n",
      "Pulse(1200360, 40, 0.3015, 4_093_830_788, 9.424778, Gaussian(5), L4-15, PulseType.DRIVE, 0)\n",
      "Pulse(1200400, 40, 0.3015, 4_093_830_788, 9.424778, Gaussian(5), L4-15, PulseType.DRIVE, 0)\n",
      "Pulse(1200440, 40, 0.3015, 4_093_830_788, 7.853982, Gaussian(5), L4-15, PulseType.DRIVE, 0)]})\n"
     ]
    }
   ],
   "source": [
    "print(sequences)"
   ]
  },
  {
   "cell_type": "code",
   "execution_count": 5,
   "metadata": {},
   "outputs": [
    {
     "name": "stdout",
     "output_type": "stream",
     "text": [
      "PulseSequence\n",
      "ReadoutPulse(200, 2000, 0.5, 5_233_200_000, 0, Rectangular(), L2-7, 0)\n",
      "ReadoutPulse(300320, 2000, 0.5, 5_233_200_000, 0, Rectangular(), L2-7, 0)\n",
      "ReadoutPulse(600440, 2000, 0.5, 5_233_200_000, 0, Rectangular(), L2-7, 0)\n",
      "ReadoutPulse(900560, 2000, 0.5, 5_233_200_000, 0, Rectangular(), L2-7, 0)\n",
      "ReadoutPulse(1200680, 2000, 0.5, 5_233_200_000, 0, Rectangular(), L2-7, 0)\n"
     ]
    }
   ],
   "source": [
    "for sequence in sequences.values():\n",
    "    print(sequence[0].ro_pulses)"
   ]
  },
  {
   "cell_type": "code",
   "execution_count": 30,
   "metadata": {},
   "outputs": [],
   "source": [
    "circuit = [[23,1]]"
   ]
  },
  {
   "cell_type": "code",
   "execution_count": 33,
   "metadata": {},
   "outputs": [
    {
     "data": {
      "text/plain": [
       "[23, 1]"
      ]
     },
     "execution_count": 33,
     "metadata": {},
     "output_type": "execute_result"
    }
   ],
   "source": [
    "[int(x) for x in circuit[0]]"
   ]
  },
  {
   "cell_type": "code",
   "execution_count": 27,
   "metadata": {},
   "outputs": [
    {
     "data": {
      "text/plain": [
       "'ReadoutPulse(200, 2000, 0.5, 5_233_200_000, 0, Rectangular(), L2-7, 0)'"
      ]
     },
     "execution_count": 27,
     "metadata": {},
     "output_type": "execute_result"
    }
   ],
   "source": [
    "ro_pulses = sequence[0].ro_pulses\n",
    "ro_pulses[0].serial"
   ]
  },
  {
   "cell_type": "code",
   "execution_count": 34,
   "metadata": {},
   "outputs": [
    {
     "data": {
      "text/plain": [
       "[0, 0, 0]"
      ]
     },
     "execution_count": 34,
     "metadata": {},
     "output_type": "execute_result"
    }
   ],
   "source": [
    "[0] * 3"
   ]
  }
 ],
 "metadata": {
  "kernelspec": {
   "display_name": "qcal",
   "language": "python",
   "name": "python3"
  },
  "language_info": {
   "codemirror_mode": {
    "name": "ipython",
    "version": 3
   },
   "file_extension": ".py",
   "mimetype": "text/x-python",
   "name": "python",
   "nbconvert_exporter": "python",
   "pygments_lexer": "ipython3",
   "version": "3.9.13"
  },
  "orig_nbformat": 4
 },
 "nbformat": 4,
 "nbformat_minor": 2
}
