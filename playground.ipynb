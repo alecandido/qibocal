{
 "cells": [
  {
   "cell_type": "code",
   "execution_count": null,
   "metadata": {},
   "outputs": [],
   "source": [
    "from qibocal.protocols.characterization.RB.standard_rb import (\n",
    "    StandardRBParameters,\n",
    "    aquire,\n",
    "    extract,\n",
    "    plot,\n",
    ")\n",
    "niter = 10\n",
    "nshots = 20\n",
    "depths = [1,3,5,10,20]\n",
    "nqubits = 1\n",
    "qubits = [0]\n",
    "noise_model = 'PauliErrorOnAll'\n",
    "\n",
    "\n",
    "params = StandardRBParameters(nqubits, qubits, depths, niter, nshots, noise_model)\n",
    "data = aquire(params, None, None)\n",
    "result = extract(data)\n",
    "\n",
    "list_figs, str_table = plot(data, result, None)\n",
    "list_figs[0].show()"
   ]
  },
  {
   "cell_type": "code",
   "execution_count": null,
   "metadata": {},
   "outputs": [],
   "source": []
  }
 ],
 "metadata": {
  "kernelspec": {
   "display_name": "qibocalenv",
   "language": "python",
   "name": "python3"
  },
  "language_info": {
   "codemirror_mode": {
    "name": "ipython",
    "version": 3
   },
   "file_extension": ".py",
   "mimetype": "text/x-python",
   "name": "python",
   "nbconvert_exporter": "python",
   "pygments_lexer": "ipython3",
   "version": "3.8.16"
  },
  "orig_nbformat": 4
 },
 "nbformat": 4,
 "nbformat_minor": 2
}
