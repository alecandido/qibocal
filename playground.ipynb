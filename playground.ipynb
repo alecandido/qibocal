{
 "cells": [
  {
   "attachments": {},
   "cell_type": "markdown",
   "metadata": {},
   "source": [
    "## With auto calibration methods"
   ]
  },
  {
   "cell_type": "code",
   "execution_count": null,
   "metadata": {},
   "outputs": [],
   "source": [
    "from qibocal.protocols.characterization.RB.standard_rb import (\n",
    "    StandardRBParameters,\n",
    "    aquire,\n",
    "    extract,\n",
    "    plot,\n",
    ")\n",
    "niter = 10\n",
    "nshots = 20\n",
    "depths = [1,3,5,10,20]\n",
    "nqubits = 1\n",
    "qubits = [0]\n",
    "noise_model = 'PauliErrorOnAll'\n",
    "\n",
    "\n",
    "params = StandardRBParameters(nqubits, qubits, depths, niter, nshots, noise_model)\n",
    "data = aquire(params, None, None)\n",
    "result = extract(data)\n",
    "\n",
    "list_figs, str_table = plot(data, result, None)\n",
    "list_figs[0].show()"
   ]
  },
  {
   "attachments": {},
   "cell_type": "markdown",
   "metadata": {},
   "source": [
    "## Now atomic"
   ]
  },
  {
   "cell_type": "code",
   "execution_count": 19,
   "metadata": {},
   "outputs": [],
   "source": [
    "from qibocal.protocols.characterization.RB import standard_rb\n",
    "niter = 10\n",
    "nshots = 20\n",
    "depths = [1,3,5,10,20]\n",
    "nqubits = 1\n",
    "qubits = [0]\n",
    "noise_model_str = 'PauliErrorOnAll'"
   ]
  },
  {
   "cell_type": "code",
   "execution_count": 25,
   "metadata": {},
   "outputs": [],
   "source": [
    "# Set up\n",
    "params = standard_rb.StandardRBParameters(nqubits, qubits, depths, niter, nshots, noise_model_str)\n",
    "scan = standard_rb.setup_scan(params)"
   ]
  },
  {
   "cell_type": "code",
   "execution_count": 26,
   "metadata": {},
   "outputs": [],
   "source": [
    "if params.noise_model:\n",
    "    from qibocal.calibrations.niGSC.basics import noisemodels\n",
    "\n",
    "    noise_model = getattr(noisemodels, params.noise_model)(*params.noise_params)\n",
    "else:\n",
    "    noise_model = None"
   ]
  },
  {
   "cell_type": "code",
   "execution_count": 27,
   "metadata": {},
   "outputs": [],
   "source": [
    "# Execution\n",
    "data_list = standard_rb.execute(scan, nshots=params.nshots, noise_model=noise_model)"
   ]
  },
  {
   "cell_type": "code",
   "execution_count": 28,
   "metadata": {},
   "outputs": [
    {
     "ename": "KeyError",
     "evalue": "'niter'",
     "output_type": "error",
     "traceback": [
      "\u001b[0;31m---------------------------------------------------------------------------\u001b[0m",
      "\u001b[0;31mKeyError\u001b[0m                                  Traceback (most recent call last)",
      "Cell \u001b[0;32mIn[28], line 3\u001b[0m\n\u001b[1;32m      1\u001b[0m \u001b[39m# Analyze/Extract\u001b[39;00m\n\u001b[1;32m      2\u001b[0m standardrb_data \u001b[39m=\u001b[39m standard_rb\u001b[39m.\u001b[39mStandardRBData(data_list)\n\u001b[0;32m----> 3\u001b[0m result \u001b[39m=\u001b[39m standard_rb\u001b[39m.\u001b[39;49maggregate(standardrb_data)\n\u001b[1;32m      4\u001b[0m standardrb_data\u001b[39m.\u001b[39mattrs \u001b[39m=\u001b[39m params\u001b[39m.\u001b[39m\u001b[39m__dict__\u001b[39m\n\u001b[1;32m      5\u001b[0m result\u001b[39m.\u001b[39mfit()\n",
      "File \u001b[0;32m~/Physics/TII/qibo_universe/qibocal/src/qibocal/protocols/characterization/RB/standard_rb.py:103\u001b[0m, in \u001b[0;36maggregate\u001b[0;34m(data)\u001b[0m\n\u001b[1;32m    101\u001b[0m data_agg \u001b[39m=\u001b[39m data\u001b[39m.\u001b[39massign(p0\u001b[39m=\u001b[39m\u001b[39mlambda\u001b[39;00m x: \u001b[39m1\u001b[39m \u001b[39m-\u001b[39m np\u001b[39m.\u001b[39mmean(x\u001b[39m.\u001b[39msamples\u001b[39m.\u001b[39mto_list(), axis\u001b[39m=\u001b[39m\u001b[39m1\u001b[39m))\n\u001b[1;32m    102\u001b[0m \u001b[39m# Histogram\u001b[39;00m\n\u001b[0;32m--> 103\u001b[0m hists \u001b[39m=\u001b[39m get_hists(data_agg)\n\u001b[1;32m    104\u001b[0m \u001b[39m# Build the result object\u001b[39;00m\n\u001b[1;32m    105\u001b[0m \u001b[39mreturn\u001b[39;00m StandardRBResult(\n\u001b[1;32m    106\u001b[0m     \u001b[39m*\u001b[39mextract_from_data(data_agg, \u001b[39m\"\u001b[39m\u001b[39mp0\u001b[39m\u001b[39m\"\u001b[39m, \u001b[39m\"\u001b[39m\u001b[39mdepth\u001b[39m\u001b[39m\"\u001b[39m, \u001b[39m\"\u001b[39m\u001b[39mmean\u001b[39m\u001b[39m\"\u001b[39m), hists\u001b[39m=\u001b[39mhists\n\u001b[1;32m    107\u001b[0m )\n",
      "File \u001b[0;32m~/Physics/TII/qibo_universe/qibocal/src/qibocal/protocols/characterization/RB/standard_rb.py:90\u001b[0m, in \u001b[0;36mget_hists\u001b[0;34m(data_agg)\u001b[0m\n\u001b[1;32m     88\u001b[0m \u001b[39mdef\u001b[39;00m \u001b[39mget_hists\u001b[39m(data_agg: StandardRBData):\n\u001b[1;32m     89\u001b[0m     p0 \u001b[39m=\u001b[39m extract_from_data(data_agg, \u001b[39m\"\u001b[39m\u001b[39mp0\u001b[39m\u001b[39m\"\u001b[39m, \u001b[39m\"\u001b[39m\u001b[39mdepth\u001b[39m\u001b[39m\"\u001b[39m)[\u001b[39m1\u001b[39m]\u001b[39m.\u001b[39mreshape(\n\u001b[0;32m---> 90\u001b[0m         \u001b[39m-\u001b[39m\u001b[39m1\u001b[39m, data_agg\u001b[39m.\u001b[39;49mattrs[\u001b[39m\"\u001b[39;49m\u001b[39mniter\u001b[39;49m\u001b[39m\"\u001b[39;49m]\n\u001b[1;32m     91\u001b[0m     )\n\u001b[1;32m     92\u001b[0m     \u001b[39mif\u001b[39;00m data_agg\u001b[39m.\u001b[39mattrs[\u001b[39m\"\u001b[39m\u001b[39mniter\u001b[39m\u001b[39m\"\u001b[39m] \u001b[39m>\u001b[39m \u001b[39m10\u001b[39m:\n\u001b[1;32m     93\u001b[0m         nbins \u001b[39m=\u001b[39m choose_bins(data_agg\u001b[39m.\u001b[39mattrs[\u001b[39m\"\u001b[39m\u001b[39mniter\u001b[39m\u001b[39m\"\u001b[39m])\n",
      "\u001b[0;31mKeyError\u001b[0m: 'niter'"
     ]
    }
   ],
   "source": [
    "# Analyze/Extract\n",
    "standardrb_data = standard_rb.StandardRBData(data_list)\n",
    "result = standard_rb.aggregate(standardrb_data)\n",
    "standardrb_data.attrs = params.__dict__\n",
    "result.fit()\n",
    "result.calculate_fidelities()"
   ]
  },
  {
   "cell_type": "code",
   "execution_count": null,
   "metadata": {},
   "outputs": [],
   "source": [
    "# Plot\n",
    "result.plot()"
   ]
  },
  {
   "cell_type": "code",
   "execution_count": null,
   "metadata": {},
   "outputs": [],
   "source": []
  }
 ],
 "metadata": {
  "kernelspec": {
   "display_name": "qibocalenv",
   "language": "python",
   "name": "python3"
  },
  "language_info": {
   "codemirror_mode": {
    "name": "ipython",
    "version": 3
   },
   "file_extension": ".py",
   "mimetype": "text/x-python",
   "name": "python",
   "nbconvert_exporter": "python",
   "pygments_lexer": "ipython3",
   "version": "3.8.16"
  },
  "orig_nbformat": 4
 },
 "nbformat": 4,
 "nbformat_minor": 2
}
