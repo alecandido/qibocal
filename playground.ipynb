{
 "cells": [
  {
   "attachments": {},
   "cell_type": "markdown",
   "metadata": {},
   "source": [
    "## With auto calibration methods"
   ]
  },
  {
   "cell_type": "code",
   "execution_count": null,
   "metadata": {},
   "outputs": [],
   "source": [
    "from qibocal.protocols.characterization.RB.standard_rb import (\n",
    "    StandardRBParameters,\n",
    "    aquire,\n",
    "    extract,\n",
    "    plot,\n",
    ")\n",
    "niter = 10\n",
    "nshots = 20\n",
    "depths = [1,3,5,10,20]\n",
    "nqubits = 1\n",
    "qubits = [0]\n",
    "noise_model = 'PauliErrorOnAll'\n",
    "\n",
    "\n",
    "params = StandardRBParameters(nqubits, qubits, depths, niter, nshots, noise_model)\n",
    "data = aquire(params, None, None)\n",
    "result = extract(data)\n",
    "\n",
    "list_figs, str_table = plot(data, result, None)\n",
    "list_figs[0].show()"
   ]
  },
  {
   "attachments": {},
   "cell_type": "markdown",
   "metadata": {},
   "source": [
    "## Now atomic"
   ]
  },
  {
   "cell_type": "code",
   "execution_count": 6,
   "metadata": {},
   "outputs": [],
   "source": [
    "from qibocal.protocols.characterization.RB.standard_rb import (\n",
    "    StandardRBData,\n",
    "    StandardRBParameters,\n",
    "    setup_scan,\n",
    "    execute,\n",
    "    aggregate\n",
    ")\n",
    "niter = 10\n",
    "nshots = 20\n",
    "depths = [1,3,5,10,20]\n",
    "nqubits = 1\n",
    "qubits = [0]\n",
    "noise_model_str = 'PauliErrorOnAll'"
   ]
  },
  {
   "cell_type": "code",
   "execution_count": 7,
   "metadata": {},
   "outputs": [],
   "source": [
    "# Set up\n",
    "params = StandardRBParameters(nqubits, qubits, depths, niter, nshots, noise_model_str)\n",
    "scan = setup_scan(params)\n",
    "if params.noise_model:\n",
    "    from qibocal.calibrations.niGSC.basics import noisemodels\n",
    "\n",
    "    noise_model = getattr(noisemodels, params.noise_model)(*params.noise_params)\n",
    "else:\n",
    "    noise_model = None"
   ]
  },
  {
   "cell_type": "code",
   "execution_count": 8,
   "metadata": {},
   "outputs": [],
   "source": [
    "# Execution\n",
    "data_list = execute(scan, nshots=params.nshots, noise_model=noise_model)"
   ]
  },
  {
   "cell_type": "code",
   "execution_count": 9,
   "metadata": {},
   "outputs": [],
   "source": [
    "# Post processing\n",
    "standardrb_data = StandardRBData(data_list)\n",
    "standardrb_data.attrs = params.__dict__\n",
    "result = aggregate(standardrb_data)\n",
    "result.fit()\n",
    "result.calculate_fidelities()\n"
   ]
  },
  {
   "cell_type": "code",
   "execution_count": 10,
   "metadata": {},
   "outputs": [
    {
     "data": {
      "application/vnd.plotly.v1+json": {
       "config": {
        "plotlyServerURL": "https://plot.ly"
       },
       "data": [
        {
         "hovertemplate": "x=%{x}<br>y=%{y}<extra></extra>",
         "legendgroup": "",
         "marker": {
          "color": "#636efa",
          "symbol": "square"
         },
         "mode": "markers",
         "name": "",
         "orientation": "v",
         "showlegend": false,
         "type": "scatter",
         "x": [
          1,
          1,
          1,
          1,
          1,
          1,
          1,
          1,
          1,
          1,
          3,
          3,
          3,
          3,
          3,
          3,
          3,
          3,
          3,
          3,
          5,
          5,
          5,
          5,
          5,
          5,
          5,
          5,
          5,
          5,
          10,
          10,
          10,
          10,
          10,
          10,
          10,
          10,
          10,
          10,
          20,
          20,
          20,
          20,
          20,
          20,
          20,
          20,
          20,
          20
         ],
         "xaxis": "x",
         "y": [
          0.5,
          0.55,
          0.65,
          0.5,
          0.4,
          0.44999999999999996,
          0.75,
          0.9,
          0.7,
          0.55,
          0.44999999999999996,
          0.55,
          0.44999999999999996,
          0.55,
          0.55,
          0.5,
          0.6,
          0.30000000000000004,
          0.65,
          0.65,
          0.5,
          0.5,
          0.55,
          0.35,
          0.6,
          0.55,
          0.55,
          0.65,
          0.5,
          0.5,
          0.5,
          0.55,
          0.44999999999999996,
          0.6,
          0.6,
          0.7,
          0.5,
          0.44999999999999996,
          0.6,
          0.5,
          0.44999999999999996,
          0.5,
          0.55,
          0.5,
          0.44999999999999996,
          0.55,
          0.55,
          0.55,
          0.55,
          0.55
         ],
         "yaxis": "y"
        },
        {
         "line": {
          "color": "#aa6464"
         },
         "mode": "markers",
         "name": "average",
         "type": "scatter",
         "x": [
          1,
          3,
          5,
          10,
          20
         ],
         "y": [
          0.595,
          0.525,
          0.525,
          0.545,
          0.52
         ]
        },
        {
         "line": {
          "dash": "dot"
         },
         "name": "(1.000±27.025)(0.066±1.794)^m + (0.529±0.008)",
         "type": "scatter",
         "x": [
          1,
          1.1919191919191918,
          1.3838383838383839,
          1.5757575757575757,
          1.7676767676767677,
          1.9595959595959596,
          2.1515151515151514,
          2.3434343434343434,
          2.5353535353535355,
          2.727272727272727,
          2.919191919191919,
          3.111111111111111,
          3.3030303030303028,
          3.494949494949495,
          3.686868686868687,
          3.8787878787878785,
          4.070707070707071,
          4.262626262626263,
          4.454545454545454,
          4.646464646464646,
          4.838383838383838,
          5.03030303030303,
          5.222222222222222,
          5.4141414141414135,
          5.6060606060606055,
          5.797979797979798,
          5.98989898989899,
          6.181818181818182,
          6.373737373737374,
          6.565656565656565,
          6.757575757575757,
          6.949494949494949,
          7.141414141414141,
          7.333333333333333,
          7.525252525252525,
          7.717171717171717,
          7.909090909090908,
          8.1010101010101,
          8.292929292929292,
          8.484848484848484,
          8.676767676767676,
          8.868686868686869,
          9.06060606060606,
          9.252525252525253,
          9.444444444444445,
          9.636363636363635,
          9.828282828282827,
          10.020202020202019,
          10.212121212121211,
          10.404040404040403,
          10.595959595959595,
          10.787878787878787,
          10.97979797979798,
          11.171717171717171,
          11.363636363636363,
          11.555555555555555,
          11.747474747474747,
          11.93939393939394,
          12.13131313131313,
          12.323232323232322,
          12.515151515151514,
          12.707070707070706,
          12.898989898989898,
          13.09090909090909,
          13.282828282828282,
          13.474747474747474,
          13.666666666666666,
          13.858585858585858,
          14.05050505050505,
          14.242424242424242,
          14.434343434343434,
          14.626262626262625,
          14.818181818181817,
          15.010101010101009,
          15.2020202020202,
          15.393939393939393,
          15.585858585858585,
          15.777777777777777,
          15.969696969696969,
          16.16161616161616,
          16.353535353535353,
          16.545454545454547,
          16.737373737373737,
          16.929292929292927,
          17.12121212121212,
          17.31313131313131,
          17.505050505050505,
          17.696969696969695,
          17.88888888888889,
          18.08080808080808,
          18.27272727272727,
          18.464646464646464,
          18.656565656565654,
          18.848484848484848,
          19.040404040404038,
          19.232323232323232,
          19.424242424242422,
          19.616161616161616,
          19.808080808080806,
          20
         ],
         "y": [
          0.5949472139900727,
          0.5680455249294474,
          0.552066459695441,
          0.5425752145480742,
          0.5369376047675158,
          0.5335889773172319,
          0.5315999595885723,
          0.5304185228406334,
          0.5297167730425958,
          0.52929994769845,
          0.5290523617810647,
          0.5289053006981711,
          0.5288179493563411,
          0.5287660644064319,
          0.528735245783951,
          0.5287169401386089,
          0.528706066951412,
          0.5286996084956945,
          0.5286957723021757,
          0.5286934936799542,
          0.5286921402239301,
          0.5286913362981226,
          0.5286908587822724,
          0.5286905751474084,
          0.5286904066739722,
          0.5286903066041208,
          0.5286902471646305,
          0.5286902118587622,
          0.5286901908877826,
          0.5286901784314402,
          0.5286901710326218,
          0.5286901666378718,
          0.5286901640274781,
          0.5286901624769565,
          0.5286901615559777,
          0.5286901610089347,
          0.5286901606840021,
          0.5286901604909987,
          0.5286901603763585,
          0.5286901603082645,
          0.528690160267818,
          0.5286901602437937,
          0.5286901602295236,
          0.5286901602210475,
          0.5286901602160129,
          0.5286901602130224,
          0.5286901602112462,
          0.5286901602101911,
          0.5286901602095644,
          0.5286901602091921,
          0.528690160208971,
          0.5286901602088397,
          0.5286901602087617,
          0.5286901602087154,
          0.5286901602086879,
          0.5286901602086714,
          0.5286901602086618,
          0.528690160208656,
          0.5286901602086526,
          0.5286901602086506,
          0.5286901602086493,
          0.5286901602086486,
          0.5286901602086482,
          0.5286901602086479,
          0.5286901602086478,
          0.5286901602086477,
          0.5286901602086477,
          0.5286901602086476,
          0.5286901602086476,
          0.5286901602086476,
          0.5286901602086476,
          0.5286901602086476,
          0.5286901602086476,
          0.5286901602086476,
          0.5286901602086476,
          0.5286901602086476,
          0.5286901602086476,
          0.5286901602086476,
          0.5286901602086476,
          0.5286901602086476,
          0.5286901602086476,
          0.5286901602086476,
          0.5286901602086476,
          0.5286901602086476,
          0.5286901602086476,
          0.5286901602086476,
          0.5286901602086476,
          0.5286901602086476,
          0.5286901602086476,
          0.5286901602086476,
          0.5286901602086476,
          0.5286901602086476,
          0.5286901602086476,
          0.5286901602086476,
          0.5286901602086476,
          0.5286901602086476,
          0.5286901602086476,
          0.5286901602086476,
          0.5286901602086476,
          0.5286901602086476
         ]
        }
       ],
       "layout": {
        "coloraxis": {
         "colorbar": {
          "title": {
           "text": "count"
          },
          "x": -0.15
         }
        },
        "legend": {
         "tracegroupgap": 0
        },
        "margin": {
         "t": 60
        },
        "template": {
         "data": {
          "bar": [
           {
            "error_x": {
             "color": "#2a3f5f"
            },
            "error_y": {
             "color": "#2a3f5f"
            },
            "marker": {
             "line": {
              "color": "#E5ECF6",
              "width": 0.5
             },
             "pattern": {
              "fillmode": "overlay",
              "size": 10,
              "solidity": 0.2
             }
            },
            "type": "bar"
           }
          ],
          "barpolar": [
           {
            "marker": {
             "line": {
              "color": "#E5ECF6",
              "width": 0.5
             },
             "pattern": {
              "fillmode": "overlay",
              "size": 10,
              "solidity": 0.2
             }
            },
            "type": "barpolar"
           }
          ],
          "carpet": [
           {
            "aaxis": {
             "endlinecolor": "#2a3f5f",
             "gridcolor": "white",
             "linecolor": "white",
             "minorgridcolor": "white",
             "startlinecolor": "#2a3f5f"
            },
            "baxis": {
             "endlinecolor": "#2a3f5f",
             "gridcolor": "white",
             "linecolor": "white",
             "minorgridcolor": "white",
             "startlinecolor": "#2a3f5f"
            },
            "type": "carpet"
           }
          ],
          "choropleth": [
           {
            "colorbar": {
             "outlinewidth": 0,
             "ticks": ""
            },
            "type": "choropleth"
           }
          ],
          "contour": [
           {
            "colorbar": {
             "outlinewidth": 0,
             "ticks": ""
            },
            "colorscale": [
             [
              0,
              "#0d0887"
             ],
             [
              0.1111111111111111,
              "#46039f"
             ],
             [
              0.2222222222222222,
              "#7201a8"
             ],
             [
              0.3333333333333333,
              "#9c179e"
             ],
             [
              0.4444444444444444,
              "#bd3786"
             ],
             [
              0.5555555555555556,
              "#d8576b"
             ],
             [
              0.6666666666666666,
              "#ed7953"
             ],
             [
              0.7777777777777778,
              "#fb9f3a"
             ],
             [
              0.8888888888888888,
              "#fdca26"
             ],
             [
              1,
              "#f0f921"
             ]
            ],
            "type": "contour"
           }
          ],
          "contourcarpet": [
           {
            "colorbar": {
             "outlinewidth": 0,
             "ticks": ""
            },
            "type": "contourcarpet"
           }
          ],
          "heatmap": [
           {
            "colorbar": {
             "outlinewidth": 0,
             "ticks": ""
            },
            "colorscale": [
             [
              0,
              "#0d0887"
             ],
             [
              0.1111111111111111,
              "#46039f"
             ],
             [
              0.2222222222222222,
              "#7201a8"
             ],
             [
              0.3333333333333333,
              "#9c179e"
             ],
             [
              0.4444444444444444,
              "#bd3786"
             ],
             [
              0.5555555555555556,
              "#d8576b"
             ],
             [
              0.6666666666666666,
              "#ed7953"
             ],
             [
              0.7777777777777778,
              "#fb9f3a"
             ],
             [
              0.8888888888888888,
              "#fdca26"
             ],
             [
              1,
              "#f0f921"
             ]
            ],
            "type": "heatmap"
           }
          ],
          "heatmapgl": [
           {
            "colorbar": {
             "outlinewidth": 0,
             "ticks": ""
            },
            "colorscale": [
             [
              0,
              "#0d0887"
             ],
             [
              0.1111111111111111,
              "#46039f"
             ],
             [
              0.2222222222222222,
              "#7201a8"
             ],
             [
              0.3333333333333333,
              "#9c179e"
             ],
             [
              0.4444444444444444,
              "#bd3786"
             ],
             [
              0.5555555555555556,
              "#d8576b"
             ],
             [
              0.6666666666666666,
              "#ed7953"
             ],
             [
              0.7777777777777778,
              "#fb9f3a"
             ],
             [
              0.8888888888888888,
              "#fdca26"
             ],
             [
              1,
              "#f0f921"
             ]
            ],
            "type": "heatmapgl"
           }
          ],
          "histogram": [
           {
            "marker": {
             "pattern": {
              "fillmode": "overlay",
              "size": 10,
              "solidity": 0.2
             }
            },
            "type": "histogram"
           }
          ],
          "histogram2d": [
           {
            "colorbar": {
             "outlinewidth": 0,
             "ticks": ""
            },
            "colorscale": [
             [
              0,
              "#0d0887"
             ],
             [
              0.1111111111111111,
              "#46039f"
             ],
             [
              0.2222222222222222,
              "#7201a8"
             ],
             [
              0.3333333333333333,
              "#9c179e"
             ],
             [
              0.4444444444444444,
              "#bd3786"
             ],
             [
              0.5555555555555556,
              "#d8576b"
             ],
             [
              0.6666666666666666,
              "#ed7953"
             ],
             [
              0.7777777777777778,
              "#fb9f3a"
             ],
             [
              0.8888888888888888,
              "#fdca26"
             ],
             [
              1,
              "#f0f921"
             ]
            ],
            "type": "histogram2d"
           }
          ],
          "histogram2dcontour": [
           {
            "colorbar": {
             "outlinewidth": 0,
             "ticks": ""
            },
            "colorscale": [
             [
              0,
              "#0d0887"
             ],
             [
              0.1111111111111111,
              "#46039f"
             ],
             [
              0.2222222222222222,
              "#7201a8"
             ],
             [
              0.3333333333333333,
              "#9c179e"
             ],
             [
              0.4444444444444444,
              "#bd3786"
             ],
             [
              0.5555555555555556,
              "#d8576b"
             ],
             [
              0.6666666666666666,
              "#ed7953"
             ],
             [
              0.7777777777777778,
              "#fb9f3a"
             ],
             [
              0.8888888888888888,
              "#fdca26"
             ],
             [
              1,
              "#f0f921"
             ]
            ],
            "type": "histogram2dcontour"
           }
          ],
          "mesh3d": [
           {
            "colorbar": {
             "outlinewidth": 0,
             "ticks": ""
            },
            "type": "mesh3d"
           }
          ],
          "parcoords": [
           {
            "line": {
             "colorbar": {
              "outlinewidth": 0,
              "ticks": ""
             }
            },
            "type": "parcoords"
           }
          ],
          "pie": [
           {
            "automargin": true,
            "type": "pie"
           }
          ],
          "scatter": [
           {
            "fillpattern": {
             "fillmode": "overlay",
             "size": 10,
             "solidity": 0.2
            },
            "type": "scatter"
           }
          ],
          "scatter3d": [
           {
            "line": {
             "colorbar": {
              "outlinewidth": 0,
              "ticks": ""
             }
            },
            "marker": {
             "colorbar": {
              "outlinewidth": 0,
              "ticks": ""
             }
            },
            "type": "scatter3d"
           }
          ],
          "scattercarpet": [
           {
            "marker": {
             "colorbar": {
              "outlinewidth": 0,
              "ticks": ""
             }
            },
            "type": "scattercarpet"
           }
          ],
          "scattergeo": [
           {
            "marker": {
             "colorbar": {
              "outlinewidth": 0,
              "ticks": ""
             }
            },
            "type": "scattergeo"
           }
          ],
          "scattergl": [
           {
            "marker": {
             "colorbar": {
              "outlinewidth": 0,
              "ticks": ""
             }
            },
            "type": "scattergl"
           }
          ],
          "scattermapbox": [
           {
            "marker": {
             "colorbar": {
              "outlinewidth": 0,
              "ticks": ""
             }
            },
            "type": "scattermapbox"
           }
          ],
          "scatterpolar": [
           {
            "marker": {
             "colorbar": {
              "outlinewidth": 0,
              "ticks": ""
             }
            },
            "type": "scatterpolar"
           }
          ],
          "scatterpolargl": [
           {
            "marker": {
             "colorbar": {
              "outlinewidth": 0,
              "ticks": ""
             }
            },
            "type": "scatterpolargl"
           }
          ],
          "scatterternary": [
           {
            "marker": {
             "colorbar": {
              "outlinewidth": 0,
              "ticks": ""
             }
            },
            "type": "scatterternary"
           }
          ],
          "surface": [
           {
            "colorbar": {
             "outlinewidth": 0,
             "ticks": ""
            },
            "colorscale": [
             [
              0,
              "#0d0887"
             ],
             [
              0.1111111111111111,
              "#46039f"
             ],
             [
              0.2222222222222222,
              "#7201a8"
             ],
             [
              0.3333333333333333,
              "#9c179e"
             ],
             [
              0.4444444444444444,
              "#bd3786"
             ],
             [
              0.5555555555555556,
              "#d8576b"
             ],
             [
              0.6666666666666666,
              "#ed7953"
             ],
             [
              0.7777777777777778,
              "#fb9f3a"
             ],
             [
              0.8888888888888888,
              "#fdca26"
             ],
             [
              1,
              "#f0f921"
             ]
            ],
            "type": "surface"
           }
          ],
          "table": [
           {
            "cells": {
             "fill": {
              "color": "#EBF0F8"
             },
             "line": {
              "color": "white"
             }
            },
            "header": {
             "fill": {
              "color": "#C8D4E3"
             },
             "line": {
              "color": "white"
             }
            },
            "type": "table"
           }
          ]
         },
         "layout": {
          "annotationdefaults": {
           "arrowcolor": "#2a3f5f",
           "arrowhead": 0,
           "arrowwidth": 1
          },
          "autotypenumbers": "strict",
          "coloraxis": {
           "colorbar": {
            "outlinewidth": 0,
            "ticks": ""
           }
          },
          "colorscale": {
           "diverging": [
            [
             0,
             "#8e0152"
            ],
            [
             0.1,
             "#c51b7d"
            ],
            [
             0.2,
             "#de77ae"
            ],
            [
             0.3,
             "#f1b6da"
            ],
            [
             0.4,
             "#fde0ef"
            ],
            [
             0.5,
             "#f7f7f7"
            ],
            [
             0.6,
             "#e6f5d0"
            ],
            [
             0.7,
             "#b8e186"
            ],
            [
             0.8,
             "#7fbc41"
            ],
            [
             0.9,
             "#4d9221"
            ],
            [
             1,
             "#276419"
            ]
           ],
           "sequential": [
            [
             0,
             "#0d0887"
            ],
            [
             0.1111111111111111,
             "#46039f"
            ],
            [
             0.2222222222222222,
             "#7201a8"
            ],
            [
             0.3333333333333333,
             "#9c179e"
            ],
            [
             0.4444444444444444,
             "#bd3786"
            ],
            [
             0.5555555555555556,
             "#d8576b"
            ],
            [
             0.6666666666666666,
             "#ed7953"
            ],
            [
             0.7777777777777778,
             "#fb9f3a"
            ],
            [
             0.8888888888888888,
             "#fdca26"
            ],
            [
             1,
             "#f0f921"
            ]
           ],
           "sequentialminus": [
            [
             0,
             "#0d0887"
            ],
            [
             0.1111111111111111,
             "#46039f"
            ],
            [
             0.2222222222222222,
             "#7201a8"
            ],
            [
             0.3333333333333333,
             "#9c179e"
            ],
            [
             0.4444444444444444,
             "#bd3786"
            ],
            [
             0.5555555555555556,
             "#d8576b"
            ],
            [
             0.6666666666666666,
             "#ed7953"
            ],
            [
             0.7777777777777778,
             "#fb9f3a"
            ],
            [
             0.8888888888888888,
             "#fdca26"
            ],
            [
             1,
             "#f0f921"
            ]
           ]
          },
          "colorway": [
           "#636efa",
           "#EF553B",
           "#00cc96",
           "#ab63fa",
           "#FFA15A",
           "#19d3f3",
           "#FF6692",
           "#B6E880",
           "#FF97FF",
           "#FECB52"
          ],
          "font": {
           "color": "#2a3f5f"
          },
          "geo": {
           "bgcolor": "white",
           "lakecolor": "white",
           "landcolor": "#E5ECF6",
           "showlakes": true,
           "showland": true,
           "subunitcolor": "white"
          },
          "hoverlabel": {
           "align": "left"
          },
          "hovermode": "closest",
          "mapbox": {
           "style": "light"
          },
          "paper_bgcolor": "white",
          "plot_bgcolor": "#E5ECF6",
          "polar": {
           "angularaxis": {
            "gridcolor": "white",
            "linecolor": "white",
            "ticks": ""
           },
           "bgcolor": "#E5ECF6",
           "radialaxis": {
            "gridcolor": "white",
            "linecolor": "white",
            "ticks": ""
           }
          },
          "scene": {
           "xaxis": {
            "backgroundcolor": "#E5ECF6",
            "gridcolor": "white",
            "gridwidth": 2,
            "linecolor": "white",
            "showbackground": true,
            "ticks": "",
            "zerolinecolor": "white"
           },
           "yaxis": {
            "backgroundcolor": "#E5ECF6",
            "gridcolor": "white",
            "gridwidth": 2,
            "linecolor": "white",
            "showbackground": true,
            "ticks": "",
            "zerolinecolor": "white"
           },
           "zaxis": {
            "backgroundcolor": "#E5ECF6",
            "gridcolor": "white",
            "gridwidth": 2,
            "linecolor": "white",
            "showbackground": true,
            "ticks": "",
            "zerolinecolor": "white"
           }
          },
          "shapedefaults": {
           "line": {
            "color": "#2a3f5f"
           }
          },
          "ternary": {
           "aaxis": {
            "gridcolor": "white",
            "linecolor": "white",
            "ticks": ""
           },
           "baxis": {
            "gridcolor": "white",
            "linecolor": "white",
            "ticks": ""
           },
           "bgcolor": "#E5ECF6",
           "caxis": {
            "gridcolor": "white",
            "linecolor": "white",
            "ticks": ""
           }
          },
          "title": {
           "x": 0.05
          },
          "xaxis": {
           "automargin": true,
           "gridcolor": "white",
           "linecolor": "white",
           "ticks": "",
           "title": {
            "standoff": 15
           },
           "zerolinecolor": "white",
           "zerolinewidth": 2
          },
          "yaxis": {
           "automargin": true,
           "gridcolor": "white",
           "linecolor": "white",
           "ticks": "",
           "title": {
            "standoff": 15
           },
           "zerolinecolor": "white",
           "zerolinewidth": 2
          }
         }
        },
        "xaxis": {
         "anchor": "y",
         "domain": [
          0,
          1
         ],
         "title": {
          "text": "x"
         }
        },
        "yaxis": {
         "anchor": "x",
         "domain": [
          0,
          1
         ],
         "title": {
          "text": "y"
         }
        }
       }
      }
     },
     "metadata": {},
     "output_type": "display_data"
    }
   ],
   "source": [
    "# Plot\n",
    "result.plot().show()"
   ]
  },
  {
   "cell_type": "code",
   "execution_count": null,
   "metadata": {},
   "outputs": [],
   "source": []
  }
 ],
 "metadata": {
  "kernelspec": {
   "display_name": "qibocalenv",
   "language": "python",
   "name": "python3"
  },
  "language_info": {
   "codemirror_mode": {
    "name": "ipython",
    "version": 3
   },
   "file_extension": ".py",
   "mimetype": "text/x-python",
   "name": "python",
   "nbconvert_exporter": "python",
   "pygments_lexer": "ipython3",
   "version": "3.8.16"
  },
  "orig_nbformat": 4
 },
 "nbformat": 4,
 "nbformat_minor": 2
}
