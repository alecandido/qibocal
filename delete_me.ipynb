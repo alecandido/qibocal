{
 "cells": [
  {
   "cell_type": "code",
   "execution_count": null,
   "metadata": {},
   "outputs": [],
   "source": [
    "import pandas as pd\n",
    "from IPython.display import display, HTML\n",
    "from jinja2 import Environment, FileSystemLoader\n",
    "import os\n",
    "import pathlib"
   ]
  },
  {
   "cell_type": "code",
   "execution_count": null,
   "metadata": {},
   "outputs": [],
   "source": [
    "__file__ = 'src/qibocal/web/delete_me.ipynb'\n",
    "WEB_DIR = pathlib.Path(__file__).parent\n",
    "STYLES = WEB_DIR / \"static\" / \"styles.css\"\n",
    "TEMPLATES = WEB_DIR / \"templates\""
   ]
  },
  {
   "cell_type": "code",
   "execution_count": null,
   "metadata": {},
   "outputs": [],
   "source": [
    "mydf = pd.DataFrame([{'a':1, 'b':2, 'c':3}])#, index=['hello'])"
   ]
  },
  {
   "cell_type": "code",
   "execution_count": null,
   "metadata": {},
   "outputs": [],
   "source": [
    "mydf.to_html()#table_id=12, classes=['hello'], notebook=True)"
   ]
  },
  {
   "cell_type": "code",
   "execution_count": null,
   "metadata": {},
   "outputs": [],
   "source": [
    "with open(STYLES) as file:\n",
    "        css_styles = f\"<style>\\n{file.read()}\\n</style>\""
   ]
  },
  {
   "cell_type": "code",
   "execution_count": null,
   "metadata": {},
   "outputs": [],
   "source": [
    "mydf.style.css['row_heading'] = 'hi!'"
   ]
  },
  {
   "cell_type": "code",
   "execution_count": null,
   "metadata": {},
   "outputs": [],
   "source": [
    "mydf = mydf.style.set_table_styles(\n",
    "    [{'selector': 'thead th',\n",
    "    'props': [('background-color', '#f0e6ff')]},\n",
    "    # {'selector': 'thead th:first-child',\n",
    "    # 'props': [('display','none')]},\n",
    "    # {'selector': 'tbody th:first-child',\n",
    "    # 'props': [('display','none')]}\n",
    "    ]\n",
    ")\n",
    "# background-color: #f0e6ff;\n",
    "#   padding: 8px;\n",
    "#   text-align: center;\n",
    "env = Environment(loader=FileSystemLoader(TEMPLATES))\n",
    "template = env.get_template(\"test.html\")\n",
    "html = template.render(\n",
    "    is_static=True,\n",
    "    css_styles=css_styles,\n",
    "    reports = mydf,\n",
    "    )"
   ]
  },
  {
   "cell_type": "code",
   "execution_count": null,
   "metadata": {},
   "outputs": [],
   "source": [
    "with open(os.path.join('delete_me/', \"index.html\"), \"w\") as file:\n",
    "        file.write(html)"
   ]
  },
  {
   "cell_type": "code",
   "execution_count": null,
   "metadata": {},
   "outputs": [],
   "source": [
    "HTML(html)"
   ]
  },
  {
   "cell_type": "code",
   "execution_count": null,
   "metadata": {},
   "outputs": [],
   "source": [
    "import pandas as pd\n",
    "import numpy as np\n",
    "\n",
    "# Set up a DataFrame\n",
    "np.random.seed(24)\n",
    "df = pd.DataFrame({'A': np.linspace(1, 10, 10)})\n",
    "df = pd.concat([df, pd.DataFrame(np.random.randn(10, 4), columns=list('BCDE'))],\n",
    "               axis=1)\n",
    "df.iloc[0, 2] = np.nan\n",
    "\n",
    "df_html_output = df.style.set_table_styles(\n",
    "    [{'selector': 'thead th',\n",
    "    'props': [('background-color', '#f0e6ff'),\n",
    "              ( 'padding', '8px'),\n",
    "              ('text-align', 'center')]},\n",
    "    # {'selector': 'thead th:first-child',\n",
    "    # 'props': [('display','none')]},\n",
    "    # {'selector': 'tbody th:first-child',\n",
    "    # 'props': [('display','none')]}\n",
    "    ]\n",
    ").to_html()\n",
    "\n",
    "HTML(df_html_output)\n",
    "# html.append(df_html_output)\n",
    "# body = '\\r\\n\\n<br>'.join('%s'%item for item in html)\n",
    "# msg.attach(MIMEText(body, 'html'))"
   ]
  },
  {
   "cell_type": "code",
   "execution_count": 172,
   "metadata": {},
   "outputs": [],
   "source": [
    "from qibo.models import Circuit\n",
    "from qibo import gates\n",
    "import numpy as np"
   ]
  },
  {
   "cell_type": "code",
   "execution_count": null,
   "metadata": {},
   "outputs": [],
   "source": [
    "c = Circuit(3)\n",
    "c.add([gates.X(0), gates.Y(1), gates.CZ(0,2), gates.H(1), gates.M(0), gates.M(1)])"
   ]
  },
  {
   "cell_type": "code",
   "execution_count": null,
   "metadata": {},
   "outputs": [],
   "source": [
    "nqubits = 3\n",
    "qubits = [0,2]\n",
    "layers = 4\n",
    "\n",
    "gate_set = [gates.X, gates.Y, gates.H, gates.Unitary] #qasm\n",
    "\n",
    "moments_int = np.random.randint(0, len(gate_set),size=(layers, len(qubits)))\n",
    "\n",
    "\n",
    "init_kwargs_list = np.tile(np.arange(0, len(qubits)), layers).reshape((*moments_int.shape,1)).tolist()\n",
    "# ? inverse ? what is faster? using matrices of gates or a analytic function?\n",
    "\n",
    "collection_array = np.array([])\n",
    "for l in init_kwargs_list:\n",
    "    init_kwargs = np.empty(len(l), dtype=object)\n",
    "    init_kwargs[:] = tuple(l)\n",
    "    collection_array = np.append(collection_array, init_kwargs)\n",
    "collection_array =  collection_array.reshape(layers, len(qubits))"
   ]
  },
  {
   "cell_type": "code",
   "execution_count": null,
   "metadata": {},
   "outputs": [],
   "source": [
    "print(moments_int == 3)\n",
    "for init_list in collection_array[moments_int == 3]:\n",
    "    init_list.insert(0, np.random.uniform(0,1,(2,2)))\n",
    "\n",
    "myc = Circuit(len(qubits))\n",
    "for moment, moment_init in zip(moments_int, collection_array):\n",
    "    for gate_index, init in zip(moment, moment_init):\n",
    "        print(init)\n",
    "        myc.add(gate_set[gate_index](*init))\n"
   ]
  },
  {
   "cell_type": "code",
   "execution_count": null,
   "metadata": {},
   "outputs": [],
   "source": [
    "class sCircuit(Circuit):\n",
    "    def __init__(self, nqubits, accelerators=None, density_matrix=False):\n",
    "        super().__init__(nqubits, accelerators, density_matrix)\n",
    "\n",
    "    def build(self, gate_set, moment_gates_indices, init_args=None):\n",
    "        if init_args is None:\n",
    "            init_args = np.tile(\n",
    "                np.arange(0, len(qubits)), layers\n",
    "            ).reshape((*moment_gates_indices.shape,1))\n",
    "\n",
    "        for moment, moment_inits in zip(moment_gates_indices, init_args):\n",
    "            for gate_index, init in zip(moment, moment_inits):\n",
    "                self.add(gate_set[gate_index](*init))\n",
    "    \n",
    "    def compress(self):\n",
    "        # ...\n",
    "        # return gate_set, moment_gates_indices, init_args\n",
    "        pass\n",
    "\n",
    "    def save(self):\n",
    "        # gate_set, moment_gates_indices, init_args =  self.compress()\n",
    "        pass\n",
    "\n",
    "    @classmethod\n",
    "    def load(cls, path):\n",
    "        # unpack file to gate_set, moment_gates_indices, init_args\n",
    "        # obj = cls(len(moment_gates_inidices[0]))\n",
    "        # obj.build(gate_set, moment_gates_indices, init_args)\n",
    "        # return obj\n",
    "        pass"
   ]
  },
  {
   "cell_type": "code",
   "execution_count": 174,
   "metadata": {},
   "outputs": [],
   "source": [
    "from qibocal.auto.operation import Results\n",
    "from dataclasses import dataclass, field\n",
    "import numpy as np\n",
    "from typing import List, Union\n",
    "from qibocal.calibrations.niGSC.basics.fitting import fit_exp1B_func, exp1B_func\n",
    "import plotly.graph_objects as go\n",
    "from typing import Tuple, List\n",
    "\n",
    "\n",
    "real_numeric = Union[int, float, np.number]\n",
    "numeric = Union[int, float, complex, np.number]\n",
    "\n",
    "\n",
    "# @dataclass\n",
    "# class RResults(Results):\n",
    "#     def render_html(self):\n",
    "#         return \"<div>\"+self.__repr__()+\"</div>\"\n",
    "\n",
    "\n",
    "@dataclass\n",
    "class GSCResult(Results):\n",
    "    key: str \n",
    "    summary: Results\n",
    "    experiment_data: Union[str, List]\n",
    "\n",
    "    def _plot(self):\n",
    "        return self.summary._plot()\n",
    "\n",
    "    def get_figures(self):\n",
    "        return self.summary.get_figures()\n",
    "\n",
    "    def get_tables(self):\n",
    "        return self.summary.get_tables()\n",
    "    # Handle not always load experimental data and pickle somewhere else. \n",
    "\n",
    "# TODO: MAYBE one class more!\n",
    "# @dataclass\n",
    "# class SingleDecayModel:\n",
    "#     A: numeric = field(default=0.)\n",
    "#     p: numeric = field(default=0.)\n",
    "#     B: numeric = field(default=0.)\n",
    "#     Aerr: numeric = field(default=0.)\n",
    "#     perr: numeric = field(default=0.)\n",
    "#     Berr: numeric = field(default=0.) \n",
    "#     fit: callable = fit_exp1B_func\n",
    "\n",
    "\n",
    "@dataclass\n",
    "class ResultContainer(Results):\n",
    "    results: List[Results]\n",
    "    summary: Results\n",
    "    def _plot(self):\n",
    "        for result in self.results:\n",
    "            if hasattr(result, '_plot'):\n",
    "                result._plot()\n",
    "\n",
    "    def get_figures(self):\n",
    "        figures = []\n",
    "        for result in self.results:\n",
    "            if hasattr(result, 'figure'):\n",
    "                figures.extend(result.get_figures())\n",
    "        return figures\n",
    "\n",
    "    def get_tables(self):\n",
    "        tables = []\n",
    "        for result in self.results:\n",
    "            if hasattr(result, 'get_tables'):\n",
    "                tables.extend(result.get_tables())\n",
    "        return tables\n",
    "\n",
    "\n",
    "@dataclass\n",
    "class DecayResult(Results):\n",
    "    \"\"\"\n",
    "        y[i] = (A +- Aerr) (p +- perr)^m[i] + (B +- Berr)\n",
    "        # for later: y= sum_i A_i p_i^m (needs m integer) \n",
    "    \"\"\"\n",
    "    y: List[numeric]\n",
    "    m: List[numeric] = field(default_factory=list)\n",
    "#    model: SingleDecayModel\n",
    "    A: numeric = field(default=0.)\n",
    "    Aerr: numeric = field(default=0.)\n",
    "    p: numeric = field(default=0.)\n",
    "    perr: numeric = field(default=0.)\n",
    "    B: numeric = field(default=0.)\n",
    "    Berr: numeric = field(default=0.)\n",
    "#    figure: go.Figure = field(default_factory=go.Figure) #TODO: import plotly figure and do it!\n",
    "    name: str = ''\n",
    "    hist: Tuple[List[numeric], List[numeric], List[numeric]] = field(default_factory = lambda: (list(), list(), list()))\n",
    "    fig: go.Figure = field(default_factory=go.Figure)\n",
    "\n",
    "    def __post_init__(self):\n",
    "        if len(self.m) == 0:\n",
    "            self.m = list(range(len(self.y)))\n",
    "        if len(self.y) != len(self.m):\n",
    "            raise ValueError('Lenght of y and m must agree. len(m)={} != len(y)={}'.format(len(self.m), len(self.y)))\n",
    "\n",
    "    def __str__(self):\n",
    "        return 'DecayResult: {}, y = A p^m + B'.format(self.name)\n",
    "\n",
    "    def _fit(self):\n",
    "        params, errs, _ = fit_exp1B_func(self.m, self.y, p0=(self.A, self.p, self.B))\n",
    "        self.A, self.p, self.B = params\n",
    "        self.Aerr, self.perr, self.Berr = errs\n",
    "\n",
    "    # can be defined by quicker by dataclass\n",
    "    def _plot(self):\n",
    "        self.fig = plot_decay_result(self)\n",
    "        return self.fig\n",
    "\n",
    "    def __str__(self):\n",
    "        return u\"({:.3f}\\u00B1{:.3f})({:.3f}\\u00B1{:.3f})^m + ({:.3f}\\u00B1{:.3f})\".format(\n",
    "                self.A, self.Aerr, self.p, self.perr, self.B, self.Berr)\n",
    "\n",
    "    def get_tables(self):\n",
    "        return ['{} | {} '.format(self.name, str(self))]\n",
    "\n",
    "    def get_figures(self):\n",
    "        return [self.fig]\n",
    "\n",
    "@dataclass\n",
    "class MultiExponentialSeriesResult(Results): pass\n",
    "\n",
    "\n",
    "# Design pattern, define result transformation\n",
    "# Make transformation a type? \n",
    "\n",
    "def plot_decay_result(result: DecayResult, fig:go.Figure = None) -> go.Figure:\n",
    "    if fig is None:\n",
    "        fig = go.Figure()\n",
    "    fig.add_trace(\n",
    "        go.Scatter(\n",
    "            x=result.m,\n",
    "            y=result.y,\n",
    "            line=dict(color=\"#aa6464\"),\n",
    "            mode=\"markers\",\n",
    "            name=\"average\",\n",
    "        )\n",
    "    )\n",
    "    m_fit = np.linspace(min(result.m), max(result.m), 100)\n",
    "    y_fit = exp1B_func(m_fit, result.A, result.p, result.B)\n",
    "    fig.add_trace(\n",
    "        go.Scatter(\n",
    "            x=m_fit,\n",
    "            y=y_fit,\n",
    "            name=str(result),\n",
    "        line=go.scatter.Line(dash=\"dot\")\n",
    "        )\n",
    "    )\n",
    "    return fig\n",
    "\n",
    "def plot_decay_result_scatter(result: DecayResult): pass"
   ]
  },
  {
   "cell_type": "code",
   "execution_count": 238,
   "metadata": {},
   "outputs": [
    {
     "name": "stdout",
     "output_type": "stream",
     "text": [
      "[4 3 3 4 3 4 4 3 4 3]\n"
     ]
    },
    {
     "data": {
      "image/png": "[encoded data removed]",
      "text/plain": [
       "<Figure size 640x480 with 1 Axes>"
      ]
     },
     "metadata": {},
     "output_type": "display_data"
    }
   ],
   "source": [
    "import matplotlib.pyplot as plt\n",
    "size = 10\n",
    "# fig, ax = plt.subplots(2, 2, figsize=(14, 7))\n",
    "ydata1 = np.random.randint(0, 10, size=size)\n",
    "ydata2 = np.random.randint(1, 9, size=size)\n",
    "ydata3 = np.random.randint(3, 5, size=size)\n",
    "ydata = np.array([ydata1, ydata2, ydata3])\n",
    "yavg = np.mean(ydata, axis=1)\n",
    "counts_list, bins_list = [], []\n",
    "for data in ydata:\n",
    "    counts, bins = np.histogram(data, bins=10,)\n",
    "    counts_list.append(counts)\n",
    "    bins_list.append(bins)\n",
    "bins_array = np.array(bins_list)\n",
    "bins_array = bins_array[::-1] + (bins_array[:1] - bins_array[:1])/2\n",
    "plt.scatter([[1]*size, [2]*size, [3]*size], ydata, c=counts_list, cmap= plt.get_cmap('RdPu'), marker='_', linewidths=5, s=150)\n",
    "\n",
    "# # plt.scatter([1]*10,ydata,c=np.arange(10), cmap = plt.get_cmap('Greys'))\n",
    "# print(ydata)\n",
    "# print(len(counts), len(bins))\n",
    "# bins_middle = bins[:-1]+(bins[1] - bins[0])/2\n",
    "# print(bins_middle)\n",
    "# plt.scatter(\n",
    "#     [1]*len(bins_middle), bins_middle, c=counts, cmap = plt.get_cmap('RdPu'), marker='_',\n",
    "#                         linewidths=5, s=150)"
   ]
  },
  {
   "cell_type": "code",
   "execution_count": 226,
   "metadata": {},
   "outputs": [
    {
     "data": {
      "text/plain": [
       "<matplotlib.collections.PathCollection at 0x145581d00>"
      ]
     },
     "execution_count": 226,
     "metadata": {},
     "output_type": "execute_result"
    },
    {
     "data": {
      "image/png": "[encoded data removed]",
      "text/plain": [
       "<Figure size 640x480 with 1 Axes>"
      ]
     },
     "metadata": {},
     "output_type": "display_data"
    }
   ],
   "source": [
    "plt.scatter(np.arange(10), np.arange(10), c=np.arange(10), cmap=plt.get_cmap('RdPu'))"
   ]
  },
  {
   "cell_type": "code",
   "execution_count": 16,
   "metadata": {},
   "outputs": [
    {
     "data": {
      "image/png": "[encoded data removed]",
      "text/plain": [
       "<Figure size 640x480 with 1 Axes>"
      ]
     },
     "metadata": {},
     "output_type": "display_data"
    }
   ],
   "source": [
    "import matplotlib.pyplot as plt\n",
    "import base64\n",
    "from io import BytesIO\n",
    "\n",
    "fig = plt.figure()\n",
    "ydata = np.random.randint(0, 100, size=10)\n",
    "plt.plot(ydata)\n",
    "\n",
    "tmpfile = BytesIO()\n",
    "fig.savefig(tmpfile, format='png')\n",
    "encoded = base64.b64encode(tmpfile.getvalue()).decode('utf-8')\n",
    "\n",
    "html = 'Some html head' + '<img src=\\'data:image/png;base64,{}\\'>'.format(encoded) + 'Some more html'\n",
    "\n",
    "with open('test.html','w') as f:\n",
    "    f.write(html)"
   ]
  },
  {
   "cell_type": "code",
   "execution_count": 82,
   "metadata": {},
   "outputs": [
    {
     "name": "stdout",
     "output_type": "stream",
     "text": [
      "                                              samples  depth  \\\n",
      "0   [[1], [0], [0], [0], [0], [1], [0], [1], [0], ...      1   \n",
      "1   [[0], [1], [0], [1], [1], [0], [1], [0], [1], ...      3   \n",
      "2   [[1], [0], [0], [1], [1], [1], [1], [0], [0], ...      5   \n",
      "3   [[0], [1], [0], [0], [0], [0], [1], [1], [0], ...     10   \n",
      "4   [[0], [0], [0], [1], [0], [0], [0], [0], [1], ...      1   \n",
      "5   [[1], [1], [1], [1], [1], [0], [1], [0], [1], ...      3   \n",
      "6   [[1], [0], [0], [1], [0], [1], [1], [0], [0], ...      5   \n",
      "7   [[0], [1], [1], [0], [1], [0], [1], [1], [1], ...     10   \n",
      "8   [[1], [0], [0], [1], [1], [0], [1], [1], [0], ...      1   \n",
      "9   [[1], [0], [1], [0], [1], [1], [0], [0], [0], ...      3   \n",
      "10  [[1], [0], [1], [1], [0], [1], [1], [1], [1], ...      5   \n",
      "11  [[0], [1], [1], [0], [1], [1], [0], [0], [0], ...     10   \n",
      "12  [[0], [1], [0], [0], [0], [0], [0], [0], [1], ...      1   \n",
      "13  [[0], [0], [0], [0], [1], [1], [0], [1], [0], ...      3   \n",
      "14  [[1], [0], [0], [0], [1], [1], [1], [1], [0], ...      5   \n",
      "15  [[0], [1], [1], [0], [0], [0], [0], [1], [1], ...     10   \n",
      "16  [[0], [0], [0], [1], [0], [0], [1], [0], [1], ...      1   \n",
      "17  [[0], [0], [1], [1], [1], [1], [1], [0], [1], ...      3   \n",
      "18  [[1], [0], [1], [1], [0], [1], [0], [0], [1], ...      5   \n",
      "19  [[0], [0], [1], [1], [0], [1], [1], [1], [1], ...     10   \n",
      "20  [[0], [1], [1], [0], [0], [0], [0], [1], [0], ...      1   \n",
      "21  [[1], [0], [1], [0], [0], [1], [1], [0], [0], ...      3   \n",
      "22  [[1], [1], [0], [0], [1], [1], [0], [0], [1], ...      5   \n",
      "23  [[0], [0], [0], [1], [0], [0], [0], [0], [1], ...     10   \n",
      "24  [[1], [0], [1], [1], [0], [1], [0], [0], [1], ...      1   \n",
      "25  [[1], [0], [0], [1], [0], [0], [1], [0], [1], ...      3   \n",
      "26  [[0], [0], [0], [1], [1], [0], [0], [1], [1], ...      5   \n",
      "27  [[0], [0], [1], [0], [1], [0], [1], [1], [0], ...     10   \n",
      "28  [[1], [1], [0], [0], [1], [0], [0], [1], [1], ...      1   \n",
      "29  [[0], [1], [1], [0], [0], [0], [1], [1], [0], ...      3   \n",
      "30  [[0], [1], [0], [1], [0], [0], [0], [1], [0], ...      5   \n",
      "31  [[0], [1], [0], [0], [0], [1], [1], [0], [1], ...     10   \n",
      "32  [[1], [1], [0], [0], [1], [1], [1], [1], [0], ...      1   \n",
      "33  [[0], [0], [1], [0], [0], [0], [0], [1], [0], ...      3   \n",
      "34  [[0], [1], [0], [1], [0], [0], [1], [0], [0], ...      5   \n",
      "35  [[0], [0], [0], [1], [1], [0], [1], [0], [1], ...     10   \n",
      "36  [[0], [1], [1], [1], [0], [1], [1], [1], [1], ...      1   \n",
      "37  [[1], [0], [0], [1], [1], [0], [1], [1], [0], ...      3   \n",
      "38  [[0], [0], [1], [0], [0], [1], [1], [1], [0], ...      5   \n",
      "39  [[1], [1], [1], [0], [0], [1], [1], [1], [1], ...     10   \n",
      "\n",
      "    groundstate probability  \n",
      "0                       0.7  \n",
      "1                       0.5  \n",
      "2                       0.4  \n",
      "3                       0.6  \n",
      "4                       0.7  \n",
      "5                       0.2  \n",
      "6                       0.6  \n",
      "7                       0.3  \n",
      "8                       0.5  \n",
      "9                       0.5  \n",
      "10                      0.3  \n",
      "11                      0.6  \n",
      "12                      0.8  \n",
      "13                      0.7  \n",
      "14                      0.5  \n",
      "15                      0.6  \n",
      "16                      0.6  \n",
      "17                      0.4  \n",
      "18                      0.5  \n",
      "19                      0.4  \n",
      "20                      0.6  \n",
      "21                      0.6  \n",
      "22                      0.5  \n",
      "23                      0.8  \n",
      "24                      0.5  \n",
      "25                      0.5  \n",
      "26                      0.6  \n",
      "27                      0.6  \n",
      "28                      0.5  \n",
      "29                      0.5  \n",
      "30                      0.6  \n",
      "31                      0.6  \n",
      "32                      0.3  \n",
      "33                      0.8  \n",
      "34                      0.7  \n",
      "35                      0.5  \n",
      "36                      0.2  \n",
      "37                      0.4  \n",
      "38                      0.5  \n",
      "39                      0.3  \n",
      "[[0.2  0.26 0.32 0.38 0.44 0.5  0.56 0.62 0.68 0.74]\n",
      " [0.2  0.26 0.32 0.38 0.44 0.5  0.56 0.62 0.68 0.74]\n",
      " [0.3  0.34 0.38 0.42 0.46 0.5  0.54 0.58 0.62 0.66]\n",
      " [0.3  0.35 0.4  0.45 0.5  0.55 0.6  0.65 0.7  0.75]]\n",
      "[0.06 0.06 0.04 0.05]\n"
     ]
    },
    {
     "data": {
      "application/vnd.plotly.v1+json": {
       "config": {
        "plotlyServerURL": "https://plot.ly"
       },
       "data": [
        {
         "hovertemplate": "x=%{x}<br>y=%{y}<br>color=%{marker.color}<extra></extra>",
         "legendgroup": "",
         "marker": {
          "color": [
           1,
           1,
           0,
           0,
           0,
           3,
           2,
           0,
           2,
           1,
           1,
           0,
           0,
           2,
           0,
           4,
           1,
           0,
           1,
           1,
           1,
           0,
           1,
           0,
           0,
           4,
           0,
           3,
           0,
           1,
           2,
           0,
           1,
           0,
           1,
           5,
           0,
           0,
           0,
           1
          ],
          "coloraxis": "coloraxis",
          "symbol": "circle"
         },
         "mode": "markers",
         "name": "",
         "orientation": "v",
         "showlegend": false,
         "type": "scatter",
         "x": [
          1,
          1,
          1,
          1,
          1,
          1,
          1,
          1,
          1,
          1,
          3,
          3,
          3,
          3,
          3,
          3,
          3,
          3,
          3,
          3,
          5,
          5,
          5,
          5,
          5,
          5,
          5,
          5,
          5,
          5,
          10,
          10,
          10,
          10,
          10,
          10,
          10,
          10,
          10,
          10
         ],
         "xaxis": "x",
         "y": [
          0.23,
          0.29000000000000004,
          0.3500000000000001,
          0.41000000000000003,
          0.4700000000000001,
          0.53,
          0.5900000000000001,
          0.6500000000000001,
          0.7100000000000002,
          0.7700000000000002,
          0.23,
          0.29000000000000004,
          0.3500000000000001,
          0.41000000000000003,
          0.4700000000000001,
          0.53,
          0.5900000000000001,
          0.6500000000000001,
          0.7100000000000002,
          0.7700000000000002,
          0.31999999999999995,
          0.36,
          0.4,
          0.43999999999999995,
          0.48,
          0.5199999999999999,
          0.5599999999999999,
          0.6,
          0.6399999999999999,
          0.6799999999999999,
          0.32499999999999996,
          0.375,
          0.42500000000000004,
          0.475,
          0.525,
          0.5750000000000001,
          0.6250000000000001,
          0.675,
          0.725,
          0.775
         ],
         "yaxis": "y"
        }
       ],
       "layout": {
        "coloraxis": {
         "colorbar": {
          "title": {
           "text": "color"
          }
         },
         "colorscale": [
          [
           0,
           "#0d0887"
          ],
          [
           0.1111111111111111,
           "#46039f"
          ],
          [
           0.2222222222222222,
           "#7201a8"
          ],
          [
           0.3333333333333333,
           "#9c179e"
          ],
          [
           0.4444444444444444,
           "#bd3786"
          ],
          [
           0.5555555555555556,
           "#d8576b"
          ],
          [
           0.6666666666666666,
           "#ed7953"
          ],
          [
           0.7777777777777778,
           "#fb9f3a"
          ],
          [
           0.8888888888888888,
           "#fdca26"
          ],
          [
           1,
           "#f0f921"
          ]
         ]
        },
        "legend": {
         "tracegroupgap": 0
        },
        "margin": {
         "t": 60
        },
        "template": {
         "data": {
          "bar": [
           {
            "error_x": {
             "color": "#2a3f5f"
            },
            "error_y": {
             "color": "#2a3f5f"
            },
            "marker": {
             "line": {
              "color": "#E5ECF6",
              "width": 0.5
             },
             "pattern": {
              "fillmode": "overlay",
              "size": 10,
              "solidity": 0.2
             }
            },
            "type": "bar"
           }
          ],
          "barpolar": [
           {
            "marker": {
             "line": {
              "color": "#E5ECF6",
              "width": 0.5
             },
             "pattern": {
              "fillmode": "overlay",
              "size": 10,
              "solidity": 0.2
             }
            },
            "type": "barpolar"
           }
          ],
          "carpet": [
           {
            "aaxis": {
             "endlinecolor": "#2a3f5f",
             "gridcolor": "white",
             "linecolor": "white",
             "minorgridcolor": "white",
             "startlinecolor": "#2a3f5f"
            },
            "baxis": {
             "endlinecolor": "#2a3f5f",
             "gridcolor": "white",
             "linecolor": "white",
             "minorgridcolor": "white",
             "startlinecolor": "#2a3f5f"
            },
            "type": "carpet"
           }
          ],
          "choropleth": [
           {
            "colorbar": {
             "outlinewidth": 0,
             "ticks": ""
            },
            "type": "choropleth"
           }
          ],
          "contour": [
           {
            "colorbar": {
             "outlinewidth": 0,
             "ticks": ""
            },
            "colorscale": [
             [
              0,
              "#0d0887"
             ],
             [
              0.1111111111111111,
              "#46039f"
             ],
             [
              0.2222222222222222,
              "#7201a8"
             ],
             [
              0.3333333333333333,
              "#9c179e"
             ],
             [
              0.4444444444444444,
              "#bd3786"
             ],
             [
              0.5555555555555556,
              "#d8576b"
             ],
             [
              0.6666666666666666,
              "#ed7953"
             ],
             [
              0.7777777777777778,
              "#fb9f3a"
             ],
             [
              0.8888888888888888,
              "#fdca26"
             ],
             [
              1,
              "#f0f921"
             ]
            ],
            "type": "contour"
           }
          ],
          "contourcarpet": [
           {
            "colorbar": {
             "outlinewidth": 0,
             "ticks": ""
            },
            "type": "contourcarpet"
           }
          ],
          "heatmap": [
           {
            "colorbar": {
             "outlinewidth": 0,
             "ticks": ""
            },
            "colorscale": [
             [
              0,
              "#0d0887"
             ],
             [
              0.1111111111111111,
              "#46039f"
             ],
             [
              0.2222222222222222,
              "#7201a8"
             ],
             [
              0.3333333333333333,
              "#9c179e"
             ],
             [
              0.4444444444444444,
              "#bd3786"
             ],
             [
              0.5555555555555556,
              "#d8576b"
             ],
             [
              0.6666666666666666,
              "#ed7953"
             ],
             [
              0.7777777777777778,
              "#fb9f3a"
             ],
             [
              0.8888888888888888,
              "#fdca26"
             ],
             [
              1,
              "#f0f921"
             ]
            ],
            "type": "heatmap"
           }
          ],
          "heatmapgl": [
           {
            "colorbar": {
             "outlinewidth": 0,
             "ticks": ""
            },
            "colorscale": [
             [
              0,
              "#0d0887"
             ],
             [
              0.1111111111111111,
              "#46039f"
             ],
             [
              0.2222222222222222,
              "#7201a8"
             ],
             [
              0.3333333333333333,
              "#9c179e"
             ],
             [
              0.4444444444444444,
              "#bd3786"
             ],
             [
              0.5555555555555556,
              "#d8576b"
             ],
             [
              0.6666666666666666,
              "#ed7953"
             ],
             [
              0.7777777777777778,
              "#fb9f3a"
             ],
             [
              0.8888888888888888,
              "#fdca26"
             ],
             [
              1,
              "#f0f921"
             ]
            ],
            "type": "heatmapgl"
           }
          ],
          "histogram": [
           {
            "marker": {
             "pattern": {
              "fillmode": "overlay",
              "size": 10,
              "solidity": 0.2
             }
            },
            "type": "histogram"
           }
          ],
          "histogram2d": [
           {
            "colorbar": {
             "outlinewidth": 0,
             "ticks": ""
            },
            "colorscale": [
             [
              0,
              "#0d0887"
             ],
             [
              0.1111111111111111,
              "#46039f"
             ],
             [
              0.2222222222222222,
              "#7201a8"
             ],
             [
              0.3333333333333333,
              "#9c179e"
             ],
             [
              0.4444444444444444,
              "#bd3786"
             ],
             [
              0.5555555555555556,
              "#d8576b"
             ],
             [
              0.6666666666666666,
              "#ed7953"
             ],
             [
              0.7777777777777778,
              "#fb9f3a"
             ],
             [
              0.8888888888888888,
              "#fdca26"
             ],
             [
              1,
              "#f0f921"
             ]
            ],
            "type": "histogram2d"
           }
          ],
          "histogram2dcontour": [
           {
            "colorbar": {
             "outlinewidth": 0,
             "ticks": ""
            },
            "colorscale": [
             [
              0,
              "#0d0887"
             ],
             [
              0.1111111111111111,
              "#46039f"
             ],
             [
              0.2222222222222222,
              "#7201a8"
             ],
             [
              0.3333333333333333,
              "#9c179e"
             ],
             [
              0.4444444444444444,
              "#bd3786"
             ],
             [
              0.5555555555555556,
              "#d8576b"
             ],
             [
              0.6666666666666666,
              "#ed7953"
             ],
             [
              0.7777777777777778,
              "#fb9f3a"
             ],
             [
              0.8888888888888888,
              "#fdca26"
             ],
             [
              1,
              "#f0f921"
             ]
            ],
            "type": "histogram2dcontour"
           }
          ],
          "mesh3d": [
           {
            "colorbar": {
             "outlinewidth": 0,
             "ticks": ""
            },
            "type": "mesh3d"
           }
          ],
          "parcoords": [
           {
            "line": {
             "colorbar": {
              "outlinewidth": 0,
              "ticks": ""
             }
            },
            "type": "parcoords"
           }
          ],
          "pie": [
           {
            "automargin": true,
            "type": "pie"
           }
          ],
          "scatter": [
           {
            "fillpattern": {
             "fillmode": "overlay",
             "size": 10,
             "solidity": 0.2
            },
            "type": "scatter"
           }
          ],
          "scatter3d": [
           {
            "line": {
             "colorbar": {
              "outlinewidth": 0,
              "ticks": ""
             }
            },
            "marker": {
             "colorbar": {
              "outlinewidth": 0,
              "ticks": ""
             }
            },
            "type": "scatter3d"
           }
          ],
          "scattercarpet": [
           {
            "marker": {
             "colorbar": {
              "outlinewidth": 0,
              "ticks": ""
             }
            },
            "type": "scattercarpet"
           }
          ],
          "scattergeo": [
           {
            "marker": {
             "colorbar": {
              "outlinewidth": 0,
              "ticks": ""
             }
            },
            "type": "scattergeo"
           }
          ],
          "scattergl": [
           {
            "marker": {
             "colorbar": {
              "outlinewidth": 0,
              "ticks": ""
             }
            },
            "type": "scattergl"
           }
          ],
          "scattermapbox": [
           {
            "marker": {
             "colorbar": {
              "outlinewidth": 0,
              "ticks": ""
             }
            },
            "type": "scattermapbox"
           }
          ],
          "scatterpolar": [
           {
            "marker": {
             "colorbar": {
              "outlinewidth": 0,
              "ticks": ""
             }
            },
            "type": "scatterpolar"
           }
          ],
          "scatterpolargl": [
           {
            "marker": {
             "colorbar": {
              "outlinewidth": 0,
              "ticks": ""
             }
            },
            "type": "scatterpolargl"
           }
          ],
          "scatterternary": [
           {
            "marker": {
             "colorbar": {
              "outlinewidth": 0,
              "ticks": ""
             }
            },
            "type": "scatterternary"
           }
          ],
          "surface": [
           {
            "colorbar": {
             "outlinewidth": 0,
             "ticks": ""
            },
            "colorscale": [
             [
              0,
              "#0d0887"
             ],
             [
              0.1111111111111111,
              "#46039f"
             ],
             [
              0.2222222222222222,
              "#7201a8"
             ],
             [
              0.3333333333333333,
              "#9c179e"
             ],
             [
              0.4444444444444444,
              "#bd3786"
             ],
             [
              0.5555555555555556,
              "#d8576b"
             ],
             [
              0.6666666666666666,
              "#ed7953"
             ],
             [
              0.7777777777777778,
              "#fb9f3a"
             ],
             [
              0.8888888888888888,
              "#fdca26"
             ],
             [
              1,
              "#f0f921"
             ]
            ],
            "type": "surface"
           }
          ],
          "table": [
           {
            "cells": {
             "fill": {
              "color": "#EBF0F8"
             },
             "line": {
              "color": "white"
             }
            },
            "header": {
             "fill": {
              "color": "#C8D4E3"
             },
             "line": {
              "color": "white"
             }
            },
            "type": "table"
           }
          ]
         },
         "layout": {
          "annotationdefaults": {
           "arrowcolor": "#2a3f5f",
           "arrowhead": 0,
           "arrowwidth": 1
          },
          "autotypenumbers": "strict",
          "coloraxis": {
           "colorbar": {
            "outlinewidth": 0,
            "ticks": ""
           }
          },
          "colorscale": {
           "diverging": [
            [
             0,
             "#8e0152"
            ],
            [
             0.1,
             "#c51b7d"
            ],
            [
             0.2,
             "#de77ae"
            ],
            [
             0.3,
             "#f1b6da"
            ],
            [
             0.4,
             "#fde0ef"
            ],
            [
             0.5,
             "#f7f7f7"
            ],
            [
             0.6,
             "#e6f5d0"
            ],
            [
             0.7,
             "#b8e186"
            ],
            [
             0.8,
             "#7fbc41"
            ],
            [
             0.9,
             "#4d9221"
            ],
            [
             1,
             "#276419"
            ]
           ],
           "sequential": [
            [
             0,
             "#0d0887"
            ],
            [
             0.1111111111111111,
             "#46039f"
            ],
            [
             0.2222222222222222,
             "#7201a8"
            ],
            [
             0.3333333333333333,
             "#9c179e"
            ],
            [
             0.4444444444444444,
             "#bd3786"
            ],
            [
             0.5555555555555556,
             "#d8576b"
            ],
            [
             0.6666666666666666,
             "#ed7953"
            ],
            [
             0.7777777777777778,
             "#fb9f3a"
            ],
            [
             0.8888888888888888,
             "#fdca26"
            ],
            [
             1,
             "#f0f921"
            ]
           ],
           "sequentialminus": [
            [
             0,
             "#0d0887"
            ],
            [
             0.1111111111111111,
             "#46039f"
            ],
            [
             0.2222222222222222,
             "#7201a8"
            ],
            [
             0.3333333333333333,
             "#9c179e"
            ],
            [
             0.4444444444444444,
             "#bd3786"
            ],
            [
             0.5555555555555556,
             "#d8576b"
            ],
            [
             0.6666666666666666,
             "#ed7953"
            ],
            [
             0.7777777777777778,
             "#fb9f3a"
            ],
            [
             0.8888888888888888,
             "#fdca26"
            ],
            [
             1,
             "#f0f921"
            ]
           ]
          },
          "colorway": [
           "#636efa",
           "#EF553B",
           "#00cc96",
           "#ab63fa",
           "#FFA15A",
           "#19d3f3",
           "#FF6692",
           "#B6E880",
           "#FF97FF",
           "#FECB52"
          ],
          "font": {
           "color": "#2a3f5f"
          },
          "geo": {
           "bgcolor": "white",
           "lakecolor": "white",
           "landcolor": "#E5ECF6",
           "showlakes": true,
           "showland": true,
           "subunitcolor": "white"
          },
          "hoverlabel": {
           "align": "left"
          },
          "hovermode": "closest",
          "mapbox": {
           "style": "light"
          },
          "paper_bgcolor": "white",
          "plot_bgcolor": "#E5ECF6",
          "polar": {
           "angularaxis": {
            "gridcolor": "white",
            "linecolor": "white",
            "ticks": ""
           },
           "bgcolor": "#E5ECF6",
           "radialaxis": {
            "gridcolor": "white",
            "linecolor": "white",
            "ticks": ""
           }
          },
          "scene": {
           "xaxis": {
            "backgroundcolor": "#E5ECF6",
            "gridcolor": "white",
            "gridwidth": 2,
            "linecolor": "white",
            "showbackground": true,
            "ticks": "",
            "zerolinecolor": "white"
           },
           "yaxis": {
            "backgroundcolor": "#E5ECF6",
            "gridcolor": "white",
            "gridwidth": 2,
            "linecolor": "white",
            "showbackground": true,
            "ticks": "",
            "zerolinecolor": "white"
           },
           "zaxis": {
            "backgroundcolor": "#E5ECF6",
            "gridcolor": "white",
            "gridwidth": 2,
            "linecolor": "white",
            "showbackground": true,
            "ticks": "",
            "zerolinecolor": "white"
           }
          },
          "shapedefaults": {
           "line": {
            "color": "#2a3f5f"
           }
          },
          "ternary": {
           "aaxis": {
            "gridcolor": "white",
            "linecolor": "white",
            "ticks": ""
           },
           "baxis": {
            "gridcolor": "white",
            "linecolor": "white",
            "ticks": ""
           },
           "bgcolor": "#E5ECF6",
           "caxis": {
            "gridcolor": "white",
            "linecolor": "white",
            "ticks": ""
           }
          },
          "title": {
           "x": 0.05
          },
          "xaxis": {
           "automargin": true,
           "gridcolor": "white",
           "linecolor": "white",
           "ticks": "",
           "title": {
            "standoff": 15
           },
           "zerolinecolor": "white",
           "zerolinewidth": 2
          },
          "yaxis": {
           "automargin": true,
           "gridcolor": "white",
           "linecolor": "white",
           "ticks": "",
           "title": {
            "standoff": 15
           },
           "zerolinecolor": "white",
           "zerolinewidth": 2
          }
         }
        },
        "xaxis": {
         "anchor": "y",
         "domain": [
          0,
          1
         ],
         "title": {
          "text": "x"
         }
        },
        "yaxis": {
         "anchor": "x",
         "domain": [
          0,
          1
         ],
         "title": {
          "text": "y"
         }
        }
       }
      }
     },
     "metadata": {},
     "output_type": "display_data"
    },
    {
     "data": {
      "image/png": "[encoded data removed]",
      "text/plain": [
       "<Figure size 640x480 with 1 Axes>"
      ]
     },
     "metadata": {},
     "output_type": "display_data"
    }
   ],
   "source": [
    "from qibocal.calibrations.niGSC.standardrb import *\n",
    "from qibocal.calibrations.niGSC.basics.noisemodels import PauliErrorOnAll\n",
    "from qibocal.protocols.characterization.RB.utils import extract_from_data\n",
    "import plotly.graph_objects as go\n",
    "import plotly.express as px\n",
    "noise_model = PauliErrorOnAll()\n",
    "niter = 10\n",
    "f = ModuleFactory(1, [1,3,5,10]*10, [0])\n",
    "e = ModuleExperiment(f, nshots=10, noise_model=noise_model)\n",
    "e.perform(e.execute)\n",
    "post_processing_sequential(e)\n",
    "print(pd.DataFrame(e.data))\n",
    "depth, y = extract_from_data(e.data, 'groundstate probability', 'depth')\n",
    "depth = depth.reshape(-1, niter)\n",
    "y = y.reshape(-1, niter)\n",
    "df = get_aggregational_data(e)\n",
    "\n",
    "counts_list, bins_list = [], []\n",
    "for data in y:\n",
    "    counts, bins = np.histogram(data, bins=10)\n",
    "    counts_list.append(counts)\n",
    "    bins_list.append(bins)\n",
    "bins_array = np.array(bins_list)\n",
    "print(bins_array[::,:-1])\n",
    "print(bins_array[::,1] - bins_array[::,0])\n",
    "bins_array = bins_array[::,:-1] + (np.array(bins_array[::,1] - bins_array[::,0]).reshape(-1,1))/2\n",
    "plt.scatter(depth, bins_array, c=counts_list, cmap= plt.get_cmap('RdPu'), marker='_', linewidths=5, s=150)\n",
    "fig = go.Figure()\n",
    "fig = px.scatter(\n",
    "        x=depth.flatten(),\n",
    "        y=bins_array.flatten(),\n",
    "        color = np.array(counts_list).flatten(),\n",
    "        # line=dict(color=\"#aa6464\"),\n",
    "        # mode=\"markers\",\n",
    "        # name=\"average\",\n",
    ")\n",
    "fig.show()"
   ]
  },
  {
   "cell_type": "code",
   "execution_count": 1,
   "metadata": {},
   "outputs": [
    {
     "name": "stderr",
     "output_type": "stream",
     "text": [
      "[Qibo 0.1.14|INFO|2023-05-22 11:40:03]: Using numpy backend on /CPU:0\n"
     ]
    },
    {
     "data": {
      "application/vnd.plotly.v1+json": {
       "config": {
        "plotlyServerURL": "https://plot.ly"
       },
       "data": [
        {
         "hovertemplate": "x=%{x}<br>y=%{y}<br>color=%{marker.color}<extra></extra>",
         "legendgroup": "",
         "marker": {
          "color": [
           1,
           0,
           1,
           0,
           1,
           0,
           3,
           1,
           0,
           3,
           2,
           2,
           1,
           0,
           2,
           0,
           0,
           0,
           1,
           2,
           3,
           1,
           0,
           0,
           0,
           2,
           2,
           0,
           1,
           1,
           2,
           0,
           2,
           1,
           2,
           1,
           1,
           0,
           0,
           1,
           1,
           0,
           3,
           3,
           0,
           0,
           1,
           0,
           0,
           2
          ],
          "coloraxis": "coloraxis",
          "symbol": "circle"
         },
         "mode": "markers",
         "name": "",
         "orientation": "v",
         "showlegend": false,
         "type": "scatter",
         "x": [
          1,
          1,
          1,
          1,
          1,
          1,
          1,
          1,
          1,
          1,
          3,
          3,
          3,
          3,
          3,
          3,
          3,
          3,
          3,
          3,
          5,
          5,
          5,
          5,
          5,
          5,
          5,
          5,
          5,
          5,
          10,
          10,
          10,
          10,
          10,
          10,
          10,
          10,
          10,
          10,
          20,
          20,
          20,
          20,
          20,
          20,
          20,
          20,
          20,
          20
         ],
         "xaxis": "x",
         "y": [
          0.7235,
          0.7405000000000002,
          0.7575000000000001,
          0.7745,
          0.7915000000000001,
          0.8085,
          0.8255000000000001,
          0.8425,
          0.8594999999999999,
          0.8765000000000001,
          0.67125,
          0.68375,
          0.69625,
          0.70875,
          0.7212500000000001,
          0.73375,
          0.74625,
          0.75875,
          0.77125,
          0.7837500000000001,
          0.5905,
          0.6014999999999999,
          0.6125,
          0.6234999999999999,
          0.6345000000000001,
          0.6455,
          0.6565000000000001,
          0.6675,
          0.6785000000000001,
          0.6895,
          0.49124999999999996,
          0.50375,
          0.51625,
          0.5287499999999999,
          0.54125,
          0.55375,
          0.56625,
          0.57875,
          0.5912499999999999,
          0.60375,
          0.47075,
          0.48224999999999996,
          0.49375,
          0.50525,
          0.51675,
          0.52825,
          0.5397500000000001,
          0.5512500000000001,
          0.5627500000000001,
          0.57425
         ],
         "yaxis": "y"
        }
       ],
       "layout": {
        "coloraxis": {
         "colorbar": {
          "title": {
           "text": "color"
          }
         },
         "colorscale": [
          [
           0,
           "#0d0887"
          ],
          [
           0.1111111111111111,
           "#46039f"
          ],
          [
           0.2222222222222222,
           "#7201a8"
          ],
          [
           0.3333333333333333,
           "#9c179e"
          ],
          [
           0.4444444444444444,
           "#bd3786"
          ],
          [
           0.5555555555555556,
           "#d8576b"
          ],
          [
           0.6666666666666666,
           "#ed7953"
          ],
          [
           0.7777777777777778,
           "#fb9f3a"
          ],
          [
           0.8888888888888888,
           "#fdca26"
          ],
          [
           1,
           "#f0f921"
          ]
         ]
        },
        "legend": {
         "tracegroupgap": 0
        },
        "margin": {
         "t": 60
        },
        "template": {
         "data": {
          "bar": [
           {
            "error_x": {
             "color": "#2a3f5f"
            },
            "error_y": {
             "color": "#2a3f5f"
            },
            "marker": {
             "line": {
              "color": "#E5ECF6",
              "width": 0.5
             },
             "pattern": {
              "fillmode": "overlay",
              "size": 10,
              "solidity": 0.2
             }
            },
            "type": "bar"
           }
          ],
          "barpolar": [
           {
            "marker": {
             "line": {
              "color": "#E5ECF6",
              "width": 0.5
             },
             "pattern": {
              "fillmode": "overlay",
              "size": 10,
              "solidity": 0.2
             }
            },
            "type": "barpolar"
           }
          ],
          "carpet": [
           {
            "aaxis": {
             "endlinecolor": "#2a3f5f",
             "gridcolor": "white",
             "linecolor": "white",
             "minorgridcolor": "white",
             "startlinecolor": "#2a3f5f"
            },
            "baxis": {
             "endlinecolor": "#2a3f5f",
             "gridcolor": "white",
             "linecolor": "white",
             "minorgridcolor": "white",
             "startlinecolor": "#2a3f5f"
            },
            "type": "carpet"
           }
          ],
          "choropleth": [
           {
            "colorbar": {
             "outlinewidth": 0,
             "ticks": ""
            },
            "type": "choropleth"
           }
          ],
          "contour": [
           {
            "colorbar": {
             "outlinewidth": 0,
             "ticks": ""
            },
            "colorscale": [
             [
              0,
              "#0d0887"
             ],
             [
              0.1111111111111111,
              "#46039f"
             ],
             [
              0.2222222222222222,
              "#7201a8"
             ],
             [
              0.3333333333333333,
              "#9c179e"
             ],
             [
              0.4444444444444444,
              "#bd3786"
             ],
             [
              0.5555555555555556,
              "#d8576b"
             ],
             [
              0.6666666666666666,
              "#ed7953"
             ],
             [
              0.7777777777777778,
              "#fb9f3a"
             ],
             [
              0.8888888888888888,
              "#fdca26"
             ],
             [
              1,
              "#f0f921"
             ]
            ],
            "type": "contour"
           }
          ],
          "contourcarpet": [
           {
            "colorbar": {
             "outlinewidth": 0,
             "ticks": ""
            },
            "type": "contourcarpet"
           }
          ],
          "heatmap": [
           {
            "colorbar": {
             "outlinewidth": 0,
             "ticks": ""
            },
            "colorscale": [
             [
              0,
              "#0d0887"
             ],
             [
              0.1111111111111111,
              "#46039f"
             ],
             [
              0.2222222222222222,
              "#7201a8"
             ],
             [
              0.3333333333333333,
              "#9c179e"
             ],
             [
              0.4444444444444444,
              "#bd3786"
             ],
             [
              0.5555555555555556,
              "#d8576b"
             ],
             [
              0.6666666666666666,
              "#ed7953"
             ],
             [
              0.7777777777777778,
              "#fb9f3a"
             ],
             [
              0.8888888888888888,
              "#fdca26"
             ],
             [
              1,
              "#f0f921"
             ]
            ],
            "type": "heatmap"
           }
          ],
          "heatmapgl": [
           {
            "colorbar": {
             "outlinewidth": 0,
             "ticks": ""
            },
            "colorscale": [
             [
              0,
              "#0d0887"
             ],
             [
              0.1111111111111111,
              "#46039f"
             ],
             [
              0.2222222222222222,
              "#7201a8"
             ],
             [
              0.3333333333333333,
              "#9c179e"
             ],
             [
              0.4444444444444444,
              "#bd3786"
             ],
             [
              0.5555555555555556,
              "#d8576b"
             ],
             [
              0.6666666666666666,
              "#ed7953"
             ],
             [
              0.7777777777777778,
              "#fb9f3a"
             ],
             [
              0.8888888888888888,
              "#fdca26"
             ],
             [
              1,
              "#f0f921"
             ]
            ],
            "type": "heatmapgl"
           }
          ],
          "histogram": [
           {
            "marker": {
             "pattern": {
              "fillmode": "overlay",
              "size": 10,
              "solidity": 0.2
             }
            },
            "type": "histogram"
           }
          ],
          "histogram2d": [
           {
            "colorbar": {
             "outlinewidth": 0,
             "ticks": ""
            },
            "colorscale": [
             [
              0,
              "#0d0887"
             ],
             [
              0.1111111111111111,
              "#46039f"
             ],
             [
              0.2222222222222222,
              "#7201a8"
             ],
             [
              0.3333333333333333,
              "#9c179e"
             ],
             [
              0.4444444444444444,
              "#bd3786"
             ],
             [
              0.5555555555555556,
              "#d8576b"
             ],
             [
              0.6666666666666666,
              "#ed7953"
             ],
             [
              0.7777777777777778,
              "#fb9f3a"
             ],
             [
              0.8888888888888888,
              "#fdca26"
             ],
             [
              1,
              "#f0f921"
             ]
            ],
            "type": "histogram2d"
           }
          ],
          "histogram2dcontour": [
           {
            "colorbar": {
             "outlinewidth": 0,
             "ticks": ""
            },
            "colorscale": [
             [
              0,
              "#0d0887"
             ],
             [
              0.1111111111111111,
              "#46039f"
             ],
             [
              0.2222222222222222,
              "#7201a8"
             ],
             [
              0.3333333333333333,
              "#9c179e"
             ],
             [
              0.4444444444444444,
              "#bd3786"
             ],
             [
              0.5555555555555556,
              "#d8576b"
             ],
             [
              0.6666666666666666,
              "#ed7953"
             ],
             [
              0.7777777777777778,
              "#fb9f3a"
             ],
             [
              0.8888888888888888,
              "#fdca26"
             ],
             [
              1,
              "#f0f921"
             ]
            ],
            "type": "histogram2dcontour"
           }
          ],
          "mesh3d": [
           {
            "colorbar": {
             "outlinewidth": 0,
             "ticks": ""
            },
            "type": "mesh3d"
           }
          ],
          "parcoords": [
           {
            "line": {
             "colorbar": {
              "outlinewidth": 0,
              "ticks": ""
             }
            },
            "type": "parcoords"
           }
          ],
          "pie": [
           {
            "automargin": true,
            "type": "pie"
           }
          ],
          "scatter": [
           {
            "fillpattern": {
             "fillmode": "overlay",
             "size": 10,
             "solidity": 0.2
            },
            "type": "scatter"
           }
          ],
          "scatter3d": [
           {
            "line": {
             "colorbar": {
              "outlinewidth": 0,
              "ticks": ""
             }
            },
            "marker": {
             "colorbar": {
              "outlinewidth": 0,
              "ticks": ""
             }
            },
            "type": "scatter3d"
           }
          ],
          "scattercarpet": [
           {
            "marker": {
             "colorbar": {
              "outlinewidth": 0,
              "ticks": ""
             }
            },
            "type": "scattercarpet"
           }
          ],
          "scattergeo": [
           {
            "marker": {
             "colorbar": {
              "outlinewidth": 0,
              "ticks": ""
             }
            },
            "type": "scattergeo"
           }
          ],
          "scattergl": [
           {
            "marker": {
             "colorbar": {
              "outlinewidth": 0,
              "ticks": ""
             }
            },
            "type": "scattergl"
           }
          ],
          "scattermapbox": [
           {
            "marker": {
             "colorbar": {
              "outlinewidth": 0,
              "ticks": ""
             }
            },
            "type": "scattermapbox"
           }
          ],
          "scatterpolar": [
           {
            "marker": {
             "colorbar": {
              "outlinewidth": 0,
              "ticks": ""
             }
            },
            "type": "scatterpolar"
           }
          ],
          "scatterpolargl": [
           {
            "marker": {
             "colorbar": {
              "outlinewidth": 0,
              "ticks": ""
             }
            },
            "type": "scatterpolargl"
           }
          ],
          "scatterternary": [
           {
            "marker": {
             "colorbar": {
              "outlinewidth": 0,
              "ticks": ""
             }
            },
            "type": "scatterternary"
           }
          ],
          "surface": [
           {
            "colorbar": {
             "outlinewidth": 0,
             "ticks": ""
            },
            "colorscale": [
             [
              0,
              "#0d0887"
             ],
             [
              0.1111111111111111,
              "#46039f"
             ],
             [
              0.2222222222222222,
              "#7201a8"
             ],
             [
              0.3333333333333333,
              "#9c179e"
             ],
             [
              0.4444444444444444,
              "#bd3786"
             ],
             [
              0.5555555555555556,
              "#d8576b"
             ],
             [
              0.6666666666666666,
              "#ed7953"
             ],
             [
              0.7777777777777778,
              "#fb9f3a"
             ],
             [
              0.8888888888888888,
              "#fdca26"
             ],
             [
              1,
              "#f0f921"
             ]
            ],
            "type": "surface"
           }
          ],
          "table": [
           {
            "cells": {
             "fill": {
              "color": "#EBF0F8"
             },
             "line": {
              "color": "white"
             }
            },
            "header": {
             "fill": {
              "color": "#C8D4E3"
             },
             "line": {
              "color": "white"
             }
            },
            "type": "table"
           }
          ]
         },
         "layout": {
          "annotationdefaults": {
           "arrowcolor": "#2a3f5f",
           "arrowhead": 0,
           "arrowwidth": 1
          },
          "autotypenumbers": "strict",
          "coloraxis": {
           "colorbar": {
            "outlinewidth": 0,
            "ticks": ""
           }
          },
          "colorscale": {
           "diverging": [
            [
             0,
             "#8e0152"
            ],
            [
             0.1,
             "#c51b7d"
            ],
            [
             0.2,
             "#de77ae"
            ],
            [
             0.3,
             "#f1b6da"
            ],
            [
             0.4,
             "#fde0ef"
            ],
            [
             0.5,
             "#f7f7f7"
            ],
            [
             0.6,
             "#e6f5d0"
            ],
            [
             0.7,
             "#b8e186"
            ],
            [
             0.8,
             "#7fbc41"
            ],
            [
             0.9,
             "#4d9221"
            ],
            [
             1,
             "#276419"
            ]
           ],
           "sequential": [
            [
             0,
             "#0d0887"
            ],
            [
             0.1111111111111111,
             "#46039f"
            ],
            [
             0.2222222222222222,
             "#7201a8"
            ],
            [
             0.3333333333333333,
             "#9c179e"
            ],
            [
             0.4444444444444444,
             "#bd3786"
            ],
            [
             0.5555555555555556,
             "#d8576b"
            ],
            [
             0.6666666666666666,
             "#ed7953"
            ],
            [
             0.7777777777777778,
             "#fb9f3a"
            ],
            [
             0.8888888888888888,
             "#fdca26"
            ],
            [
             1,
             "#f0f921"
            ]
           ],
           "sequentialminus": [
            [
             0,
             "#0d0887"
            ],
            [
             0.1111111111111111,
             "#46039f"
            ],
            [
             0.2222222222222222,
             "#7201a8"
            ],
            [
             0.3333333333333333,
             "#9c179e"
            ],
            [
             0.4444444444444444,
             "#bd3786"
            ],
            [
             0.5555555555555556,
             "#d8576b"
            ],
            [
             0.6666666666666666,
             "#ed7953"
            ],
            [
             0.7777777777777778,
             "#fb9f3a"
            ],
            [
             0.8888888888888888,
             "#fdca26"
            ],
            [
             1,
             "#f0f921"
            ]
           ]
          },
          "colorway": [
           "#636efa",
           "#EF553B",
           "#00cc96",
           "#ab63fa",
           "#FFA15A",
           "#19d3f3",
           "#FF6692",
           "#B6E880",
           "#FF97FF",
           "#FECB52"
          ],
          "font": {
           "color": "#2a3f5f"
          },
          "geo": {
           "bgcolor": "white",
           "lakecolor": "white",
           "landcolor": "#E5ECF6",
           "showlakes": true,
           "showland": true,
           "subunitcolor": "white"
          },
          "hoverlabel": {
           "align": "left"
          },
          "hovermode": "closest",
          "mapbox": {
           "style": "light"
          },
          "paper_bgcolor": "white",
          "plot_bgcolor": "#E5ECF6",
          "polar": {
           "angularaxis": {
            "gridcolor": "white",
            "linecolor": "white",
            "ticks": ""
           },
           "bgcolor": "#E5ECF6",
           "radialaxis": {
            "gridcolor": "white",
            "linecolor": "white",
            "ticks": ""
           }
          },
          "scene": {
           "xaxis": {
            "backgroundcolor": "#E5ECF6",
            "gridcolor": "white",
            "gridwidth": 2,
            "linecolor": "white",
            "showbackground": true,
            "ticks": "",
            "zerolinecolor": "white"
           },
           "yaxis": {
            "backgroundcolor": "#E5ECF6",
            "gridcolor": "white",
            "gridwidth": 2,
            "linecolor": "white",
            "showbackground": true,
            "ticks": "",
            "zerolinecolor": "white"
           },
           "zaxis": {
            "backgroundcolor": "#E5ECF6",
            "gridcolor": "white",
            "gridwidth": 2,
            "linecolor": "white",
            "showbackground": true,
            "ticks": "",
            "zerolinecolor": "white"
           }
          },
          "shapedefaults": {
           "line": {
            "color": "#2a3f5f"
           }
          },
          "ternary": {
           "aaxis": {
            "gridcolor": "white",
            "linecolor": "white",
            "ticks": ""
           },
           "baxis": {
            "gridcolor": "white",
            "linecolor": "white",
            "ticks": ""
           },
           "bgcolor": "#E5ECF6",
           "caxis": {
            "gridcolor": "white",
            "linecolor": "white",
            "ticks": ""
           }
          },
          "title": {
           "x": 0.05
          },
          "xaxis": {
           "automargin": true,
           "gridcolor": "white",
           "linecolor": "white",
           "ticks": "",
           "title": {
            "standoff": 15
           },
           "zerolinecolor": "white",
           "zerolinewidth": 2
          },
          "yaxis": {
           "automargin": true,
           "gridcolor": "white",
           "linecolor": "white",
           "ticks": "",
           "title": {
            "standoff": 15
           },
           "zerolinecolor": "white",
           "zerolinewidth": 2
          }
         }
        },
        "xaxis": {
         "anchor": "y",
         "domain": [
          0,
          1
         ],
         "title": {
          "text": "x"
         }
        },
        "yaxis": {
         "anchor": "x",
         "domain": [
          0,
          1
         ],
         "title": {
          "text": "y"
         }
        }
       }
      }
     },
     "metadata": {},
     "output_type": "display_data"
    }
   ],
   "source": [
    "from qibocal.calibrations.niGSC.standardrb import *\n",
    "from qibocal.calibrations.niGSC.basics.noisemodels import PauliErrorOnAll\n",
    "from qibocal.protocols.characterization.RB.utils import extract_from_data\n",
    "import plotly.graph_objects as go\n",
    "import plotly.express as px\n",
    "import pandas as pd\n",
    "from qibocal.protocols.characterization.RB.result import DecayResult\n",
    "noise_model = PauliErrorOnAll()\n",
    "niter = 10\n",
    "nshots = 200\n",
    "f = ModuleFactory(1, [1,3,5,10, 20]*niter, [0])\n",
    "data_list = []\n",
    "\n",
    "# Execute\n",
    "for c in f:\n",
    "    depth = (c.depth - 2) if c.depth > 1 else 0\n",
    "    if noise_model is not None:\n",
    "        c = noise_model.apply(c)\n",
    "    samples = c.execute(nshots=nshots).samples()\n",
    "    data_list.append({'depth': depth, 'samples': samples})\n",
    "\n",
    "# Aggregate\n",
    "for element in data_list:\n",
    "    element['p0'] = 1-np.mean(element['samples'])\n",
    "df_data = pd.DataFrame(data_list)\n",
    "\n",
    "# Histogram\n",
    "m, p0 = extract_from_data(df_data, 'p0', 'depth')\n",
    "p0_r = p0.reshape(-1, niter)\n",
    "counts_list, bins_list = [], []\n",
    "for data in p0_r:\n",
    "    counts, bins = np.histogram(data, bins=10)\n",
    "    counts_list.append(counts)\n",
    "    bins_list.append(bins)\n",
    "\n",
    "result = DecayResult(*extract_from_data(df_data, 'p0', 'depth', 'mean'), hists=(counts_list, bins_list))\n",
    "\n",
    "# bins_array = np.array(bins_list)\n",
    "\n",
    "# bins_array = bins_array[::,:-1] + (np.array(bins_array[::,1] - bins_array[::,0]).reshape(-1,1))/2\n",
    "# # plt.scatter(depth, bins_array, c=counts_list, cmap= plt.get_cmap('RdPu'), marker='_', linewidths=5, s=150)\n",
    "# fig = px.scatter(\n",
    "#         x=np.repeat(result.m, bins_array.shape[-1]),\n",
    "#         y=bins_array.flatten(),\n",
    "#         color = np.array(counts_list).flatten(),\n",
    "# )\n",
    "# fig.show()\n",
    "\n",
    "# fig = px.scatter(\n",
    "#     x = m,\n",
    "#     y = p0\n",
    "# )\n",
    "# fig.show()\n",
    "result._fit()\n",
    "\n",
    "result._plot()\n",
    "\n",
    "# print(df_data.groupby('depth').agg(np.mean))#agg('mean'))\n",
    "# print(df_data['samples'].mean(axis=0))\n",
    "# print(extract_from_data(df_data, 'samples'))\n",
    "\n",
    "# depth = depth.reshape(-1, niter)\n",
    "# y = y.reshape(-1, niter)\n",
    "\n",
    "# counts_list, bins_list = [], []\n",
    "# for data in y:\n",
    "#     counts, bins = np.histogram(data, bins=10)\n",
    "#     counts_list.append(counts)\n",
    "#     bins_list.append(bins)\n",
    "# bins_array = np.array(bins_list)\n",
    "# print(bins_array[::,:-1])\n",
    "# print(bins_array[::,1] - bins_array[::,0])\n",
    "# bins_array = bins_array[::,:-1] + (np.array(bins_array[::,1] - bins_array[::,0]).reshape(-1,1))/2\n",
    "# plt.scatter(depth, bins_array, c=counts_list, cmap= plt.get_cmap('RdPu'), marker='_', linewidths=5, s=150)\n",
    "# fig = go.Figure()\n",
    "# fig = px.scatter(\n",
    "#         x=depth.flatten(),\n",
    "#         y=bins_array.flatten(),\n",
    "#         color = np.array(counts_list).flatten(),\n",
    "#         # line=dict(color=\"#aa6464\"),\n",
    "#         # mode=\"markers\",\n",
    "#         # name=\"average\",\n",
    "# )\n",
    "# fig.show()"
   ]
  },
  {
   "cell_type": "code",
   "execution_count": null,
   "metadata": {},
   "outputs": [],
   "source": []
  }
 ],
 "metadata": {
  "kernelspec": {
   "display_name": "qibocalenv",
   "language": "python",
   "name": "python3"
  },
  "language_info": {
   "codemirror_mode": {
    "name": "ipython",
    "version": 3
   },
   "file_extension": ".py",
   "mimetype": "text/x-python",
   "name": "python",
   "nbconvert_exporter": "python",
   "pygments_lexer": "ipython3",
   "version": "3.8.16"
  },
  "orig_nbformat": 4
 },
 "nbformat": 4,
 "nbformat_minor": 2
}
