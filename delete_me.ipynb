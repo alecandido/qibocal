{
 "cells": [
  {
   "cell_type": "code",
   "execution_count": null,
   "metadata": {},
   "outputs": [],
   "source": [
    "import pandas as pd\n",
    "from IPython.display import display, HTML\n",
    "from jinja2 import Environment, FileSystemLoader\n",
    "import os\n",
    "import pathlib"
   ]
  },
  {
   "cell_type": "code",
   "execution_count": null,
   "metadata": {},
   "outputs": [],
   "source": [
    "__file__ = 'src/qibocal/web/delete_me.ipynb'\n",
    "WEB_DIR = pathlib.Path(__file__).parent\n",
    "STYLES = WEB_DIR / \"static\" / \"styles.css\"\n",
    "TEMPLATES = WEB_DIR / \"templates\""
   ]
  },
  {
   "cell_type": "code",
   "execution_count": null,
   "metadata": {},
   "outputs": [],
   "source": [
    "mydf = pd.DataFrame([{'a':1, 'b':2, 'c':3}])#, index=['hello'])"
   ]
  },
  {
   "cell_type": "code",
   "execution_count": null,
   "metadata": {},
   "outputs": [],
   "source": [
    "mydf.to_html()#table_id=12, classes=['hello'], notebook=True)"
   ]
  },
  {
   "cell_type": "code",
   "execution_count": null,
   "metadata": {},
   "outputs": [],
   "source": [
    "with open(STYLES) as file:\n",
    "        css_styles = f\"<style>\\n{file.read()}\\n</style>\""
   ]
  },
  {
   "cell_type": "code",
   "execution_count": null,
   "metadata": {},
   "outputs": [],
   "source": [
    "mydf.style.css['row_heading'] = 'hi!'"
   ]
  },
  {
   "cell_type": "code",
   "execution_count": null,
   "metadata": {},
   "outputs": [],
   "source": [
    "mydf = mydf.style.set_table_styles(\n",
    "    [{'selector': 'thead th',\n",
    "    'props': [('background-color', '#f0e6ff')]},\n",
    "    # {'selector': 'thead th:first-child',\n",
    "    # 'props': [('display','none')]},\n",
    "    # {'selector': 'tbody th:first-child',\n",
    "    # 'props': [('display','none')]}\n",
    "    ]\n",
    ")\n",
    "# background-color: #f0e6ff;\n",
    "#   padding: 8px;\n",
    "#   text-align: center;\n",
    "env = Environment(loader=FileSystemLoader(TEMPLATES))\n",
    "template = env.get_template(\"test.html\")\n",
    "html = template.render(\n",
    "    is_static=True,\n",
    "    css_styles=css_styles,\n",
    "    reports = mydf,\n",
    "    )"
   ]
  },
  {
   "cell_type": "code",
   "execution_count": null,
   "metadata": {},
   "outputs": [],
   "source": [
    "with open(os.path.join('delete_me/', \"index.html\"), \"w\") as file:\n",
    "        file.write(html)"
   ]
  },
  {
   "cell_type": "code",
   "execution_count": null,
   "metadata": {},
   "outputs": [],
   "source": [
    "HTML(html)"
   ]
  },
  {
   "cell_type": "code",
   "execution_count": null,
   "metadata": {},
   "outputs": [],
   "source": [
    "import pandas as pd\n",
    "import numpy as np\n",
    "\n",
    "# Set up a DataFrame\n",
    "np.random.seed(24)\n",
    "df = pd.DataFrame({'A': np.linspace(1, 10, 10)})\n",
    "df = pd.concat([df, pd.DataFrame(np.random.randn(10, 4), columns=list('BCDE'))],\n",
    "               axis=1)\n",
    "df.iloc[0, 2] = np.nan\n",
    "\n",
    "df_html_output = df.style.set_table_styles(\n",
    "    [{'selector': 'thead th',\n",
    "    'props': [('background-color', '#f0e6ff'),\n",
    "              ( 'padding', '8px'),\n",
    "              ('text-align', 'center')]},\n",
    "    # {'selector': 'thead th:first-child',\n",
    "    # 'props': [('display','none')]},\n",
    "    # {'selector': 'tbody th:first-child',\n",
    "    # 'props': [('display','none')]}\n",
    "    ]\n",
    ").to_html()\n",
    "\n",
    "HTML(df_html_output)\n",
    "# html.append(df_html_output)\n",
    "# body = '\\r\\n\\n<br>'.join('%s'%item for item in html)\n",
    "# msg.attach(MIMEText(body, 'html'))"
   ]
  },
  {
   "cell_type": "code",
   "execution_count": null,
   "metadata": {},
   "outputs": [],
   "source": [
    "from qibo.models import Circuit\n",
    "from qibo import gates\n",
    "import numpy as np"
   ]
  },
  {
   "cell_type": "code",
   "execution_count": null,
   "metadata": {},
   "outputs": [],
   "source": [
    "c = Circuit(3)\n",
    "c.add([gates.X(0), gates.Y(1), gates.CZ(0,2), gates.H(1), gates.M(0), gates.M(1)])"
   ]
  },
  {
   "cell_type": "code",
   "execution_count": null,
   "metadata": {},
   "outputs": [],
   "source": [
    "nqubits = 3\n",
    "qubits = [0,2]\n",
    "layers = 4\n",
    "\n",
    "gate_set = [gates.X, gates.Y, gates.H, gates.Unitary] #qasm\n",
    "\n",
    "moments_int = np.random.randint(0, len(gate_set),size=(layers, len(qubits)))\n",
    "\n",
    "\n",
    "init_kwargs_list = np.tile(np.arange(0, len(qubits)), layers).reshape((*moments_int.shape,1)).tolist()\n",
    "# ? inverse ? what is faster? using matrices of gates or a analytic function?\n",
    "\n",
    "collection_array = np.array([])\n",
    "for l in init_kwargs_list:\n",
    "    init_kwargs = np.empty(len(l), dtype=object)\n",
    "    init_kwargs[:] = tuple(l)\n",
    "    collection_array = np.append(collection_array, init_kwargs)\n",
    "collection_array =  collection_array.reshape(layers, len(qubits))"
   ]
  },
  {
   "cell_type": "code",
   "execution_count": null,
   "metadata": {},
   "outputs": [],
   "source": [
    "print(moments_int == 3)\n",
    "for init_list in collection_array[moments_int == 3]:\n",
    "    init_list.insert(0, np.random.uniform(0,1,(2,2)))\n",
    "\n",
    "myc = Circuit(len(qubits))\n",
    "for moment, moment_init in zip(moments_int, collection_array):\n",
    "    for gate_index, init in zip(moment, moment_init):\n",
    "        print(init)\n",
    "        myc.add(gate_set[gate_index](*init))\n"
   ]
  },
  {
   "cell_type": "code",
   "execution_count": null,
   "metadata": {},
   "outputs": [],
   "source": [
    "class sCircuit(Circuit):\n",
    "    def __init__(self, nqubits, accelerators=None, density_matrix=False):\n",
    "        super().__init__(nqubits, accelerators, density_matrix)\n",
    "\n",
    "    def build(self, gate_set, moment_gates_indices, init_args=None):\n",
    "        if init_args is None:\n",
    "            init_args = np.tile(\n",
    "                np.arange(0, len(qubits)), layers\n",
    "            ).reshape((*moment_gates_indices.shape,1))\n",
    "\n",
    "        for moment, moment_inits in zip(moment_gates_indices, init_args):\n",
    "            for gate_index, init in zip(moment, moment_inits):\n",
    "                self.add(gate_set[gate_index](*init))\n",
    "    \n",
    "    def compress(self):\n",
    "        # ...\n",
    "        # return gate_set, moment_gates_indices, init_args\n",
    "        pass\n",
    "\n",
    "    def save(self):\n",
    "        # gate_set, moment_gates_indices, init_args =  self.compress()\n",
    "        pass\n",
    "\n",
    "    @classmethod\n",
    "    def load(cls, path):\n",
    "        # unpack file to gate_set, moment_gates_indices, init_args\n",
    "        # obj = cls(len(moment_gates_inidices[0]))\n",
    "        # obj.build(gate_set, moment_gates_indices, init_args)\n",
    "        # return obj\n",
    "        pass"
   ]
  },
  {
   "cell_type": "code",
   "execution_count": null,
   "metadata": {},
   "outputs": [],
   "source": [
    "from qibocal.auto.operation import Results\n",
    "from dataclasses import dataclass, field\n",
    "import numpy as np\n",
    "from typing import List, Union\n",
    "from qibocal.calibrations.niGSC.basics.fitting import fit_exp1B_func, exp1B_func\n",
    "import plotly.graph_objects as go\n",
    "from typing import Tuple, List\n",
    "\n",
    "\n",
    "real_numeric = Union[int, float, np.number]\n",
    "numeric = Union[int, float, complex, np.number]\n",
    "\n",
    "\n",
    "# @dataclass\n",
    "# class RResults(Results):\n",
    "#     def render_html(self):\n",
    "#         return \"<div>\"+self.__repr__()+\"</div>\"\n",
    "\n",
    "\n",
    "@dataclass\n",
    "class GSCResult(Results):\n",
    "    key: str \n",
    "    summary: Results\n",
    "    experiment_data: Union[str, List]\n",
    "\n",
    "    def _plot(self):\n",
    "        return self.summary._plot()\n",
    "\n",
    "    def get_figures(self):\n",
    "        return self.summary.get_figures()\n",
    "\n",
    "    def get_tables(self):\n",
    "        return self.summary.get_tables()\n",
    "    # Handle not always load experimental data and pickle somewhere else. \n",
    "\n",
    "# TODO: MAYBE one class more!\n",
    "# @dataclass\n",
    "# class SingleDecayModel:\n",
    "#     A: numeric = field(default=0.)\n",
    "#     p: numeric = field(default=0.)\n",
    "#     B: numeric = field(default=0.)\n",
    "#     Aerr: numeric = field(default=0.)\n",
    "#     perr: numeric = field(default=0.)\n",
    "#     Berr: numeric = field(default=0.) \n",
    "#     fit: callable = fit_exp1B_func\n",
    "\n",
    "\n",
    "@dataclass\n",
    "class ResultContainer(Results):\n",
    "    results: List[Results]\n",
    "    summary: Results\n",
    "    def _plot(self):\n",
    "        for result in self.results:\n",
    "            if hasattr(result, '_plot'):\n",
    "                result._plot()\n",
    "\n",
    "    def get_figures(self):\n",
    "        figures = []\n",
    "        for result in self.results:\n",
    "            if hasattr(result, 'figure'):\n",
    "                figures.extend(result.get_figures())\n",
    "        return figures\n",
    "\n",
    "    def get_tables(self):\n",
    "        tables = []\n",
    "        for result in self.results:\n",
    "            if hasattr(result, 'get_tables'):\n",
    "                tables.extend(result.get_tables())\n",
    "        return tables\n",
    "\n",
    "\n",
    "@dataclass\n",
    "class DecayResult(Results):\n",
    "    \"\"\"\n",
    "        y[i] = (A +- Aerr) (p +- perr)^m[i] + (B +- Berr)\n",
    "        # for later: y= sum_i A_i p_i^m (needs m integer) \n",
    "    \"\"\"\n",
    "    y: List[numeric]\n",
    "    m: List[numeric] = field(default_factory=list)\n",
    "#    model: SingleDecayModel\n",
    "    A: numeric = field(default=0.)\n",
    "    Aerr: numeric = field(default=0.)\n",
    "    p: numeric = field(default=0.)\n",
    "    perr: numeric = field(default=0.)\n",
    "    B: numeric = field(default=0.)\n",
    "    Berr: numeric = field(default=0.)\n",
    "#    figure: go.Figure = field(default_factory=go.Figure) #TODO: import plotly figure and do it!\n",
    "    name: str = ''\n",
    "    hist: Tuple[List[numeric], List[numeric], List[numeric]] = field(default_factory = lambda: (list(), list(), list()))\n",
    "    fig: go.Figure = field(default_factory=go.Figure)\n",
    "\n",
    "    def __post_init__(self):\n",
    "        if len(self.m) == 0:\n",
    "            self.m = list(range(len(self.y)))\n",
    "        if len(self.y) != len(self.m):\n",
    "            raise ValueError('Lenght of y and m must agree. len(m)={} != len(y)={}'.format(len(self.m), len(self.y)))\n",
    "\n",
    "    def __str__(self):\n",
    "        return 'DecayResult: {}, y = A p^m + B'.format(self.name)\n",
    "\n",
    "    def _fit(self):\n",
    "        params, errs, _ = fit_exp1B_func(self.m, self.y, p0=(self.A, self.p, self.B))\n",
    "        self.A, self.p, self.B = params\n",
    "        self.Aerr, self.perr, self.Berr = errs\n",
    "\n",
    "    # can be defined by quicker by dataclass\n",
    "    def _plot(self):\n",
    "        self.fig = plot_decay_result(self)\n",
    "        return self.fig\n",
    "\n",
    "    def __str__(self):\n",
    "        return u\"({:.3f}\\u00B1{:.3f})({:.3f}\\u00B1{:.3f})^m + ({:.3f}\\u00B1{:.3f})\".format(\n",
    "                self.A, self.Aerr, self.p, self.perr, self.B, self.Berr)\n",
    "\n",
    "    def get_tables(self):\n",
    "        return ['{} | {} '.format(self.name, str(self))]\n",
    "\n",
    "    def get_figures(self):\n",
    "        return [self.fig]\n",
    "\n",
    "@dataclass\n",
    "class MultiExponentialSeriesResult(Results): pass\n",
    "\n",
    "\n",
    "# Design pattern, define result transformation\n",
    "# Make transformation a type? \n",
    "\n",
    "def plot_decay_result(result: DecayResult, fig:go.Figure = None) -> go.Figure:\n",
    "    if fig is None:\n",
    "        fig = go.Figure()\n",
    "    fig.add_trace(\n",
    "        go.Scatter(\n",
    "            x=result.m,\n",
    "            y=result.y,\n",
    "            line=dict(color=\"#aa6464\"),\n",
    "            mode=\"markers\",\n",
    "            name=\"average\",\n",
    "        )\n",
    "    )\n",
    "    m_fit = np.linspace(min(result.m), max(result.m), 100)\n",
    "    y_fit = exp1B_func(m_fit, result.A, result.p, result.B)\n",
    "    fig.add_trace(\n",
    "        go.Scatter(\n",
    "            x=m_fit,\n",
    "            y=y_fit,\n",
    "            name=str(result),\n",
    "        line=go.scatter.Line(dash=\"dot\")\n",
    "        )\n",
    "    )\n",
    "    return fig\n",
    "\n",
    "def plot_decay_result_scatter(result: DecayResult): pass"
   ]
  },
  {
   "cell_type": "code",
   "execution_count": null,
   "metadata": {},
   "outputs": [],
   "source": [
    "import matplotlib.pyplot as plt\n",
    "size = 10\n",
    "# fig, ax = plt.subplots(2, 2, figsize=(14, 7))\n",
    "ydata1 = np.random.randint(0, 10, size=size)\n",
    "ydata2 = np.random.randint(1, 9, size=size)\n",
    "ydata3 = np.random.randint(3, 5, size=size)\n",
    "ydata = np.array([ydata1, ydata2, ydata3])\n",
    "yavg = np.mean(ydata, axis=1)\n",
    "counts_list, bins_list = [], []\n",
    "for data in ydata:\n",
    "    counts, bins = np.histogram(data, bins=10,)\n",
    "    counts_list.append(counts)\n",
    "    bins_list.append(bins)\n",
    "bins_array = np.array(bins_list)\n",
    "bins_array = bins_array[::-1] + (bins_array[:1] - bins_array[:1])/2\n",
    "plt.scatter([[1]*size, [2]*size, [3]*size], ydata, c=counts_list, cmap= plt.get_cmap('RdPu'), marker='_', linewidths=5, s=150)\n",
    "\n",
    "# # plt.scatter([1]*10,ydata,c=np.arange(10), cmap = plt.get_cmap('Greys'))\n",
    "# print(ydata)\n",
    "# print(len(counts), len(bins))\n",
    "# bins_middle = bins[:-1]+(bins[1] - bins[0])/2\n",
    "# print(bins_middle)\n",
    "# plt.scatter(\n",
    "#     [1]*len(bins_middle), bins_middle, c=counts, cmap = plt.get_cmap('RdPu'), marker='_',\n",
    "#                         linewidths=5, s=150)"
   ]
  },
  {
   "cell_type": "code",
   "execution_count": null,
   "metadata": {},
   "outputs": [],
   "source": [
    "plt.scatter(np.arange(10), np.arange(10), c=np.arange(10), cmap=plt.get_cmap('RdPu'))"
   ]
  },
  {
   "cell_type": "code",
   "execution_count": null,
   "metadata": {},
   "outputs": [],
   "source": [
    "import matplotlib.pyplot as plt\n",
    "import base64\n",
    "from io import BytesIO\n",
    "\n",
    "fig = plt.figure()\n",
    "ydata = np.random.randint(0, 100, size=10)\n",
    "plt.plot(ydata)\n",
    "\n",
    "tmpfile = BytesIO()\n",
    "fig.savefig(tmpfile, format='png')\n",
    "encoded = base64.b64encode(tmpfile.getvalue()).decode('utf-8')\n",
    "\n",
    "html = 'Some html head' + '<img src=\\'data:image/png;base64,{}\\'>'.format(encoded) + 'Some more html'\n",
    "\n",
    "with open('test.html','w') as f:\n",
    "    f.write(html)"
   ]
  },
  {
   "cell_type": "code",
   "execution_count": null,
   "metadata": {},
   "outputs": [],
   "source": [
    "from qibocal.calibrations.niGSC.standardrb import *\n",
    "from qibocal.calibrations.niGSC.basics.noisemodels import PauliErrorOnAll\n",
    "from qibocal.protocols.characterization.RB.utils import extract_from_data\n",
    "import plotly.graph_objects as go\n",
    "import plotly.express as px\n",
    "noise_model = PauliErrorOnAll()\n",
    "niter = 10\n",
    "f = ModuleFactory(1, [1,3,5,10]*10, [0])\n",
    "e = ModuleExperiment(f, nshots=10, noise_model=noise_model)\n",
    "e.perform(e.execute)\n",
    "post_processing_sequential(e)\n",
    "print(pd.DataFrame(e.data))\n",
    "depth, y = extract_from_data(e.data, 'groundstate probability', 'depth')\n",
    "depth = depth.reshape(-1, niter)\n",
    "y = y.reshape(-1, niter)\n",
    "df = get_aggregational_data(e)\n",
    "\n",
    "counts_list, bins_list = [], []\n",
    "for data in y:\n",
    "    counts, bins = np.histogram(data, bins=10)\n",
    "    counts_list.append(counts)\n",
    "    bins_list.append(bins)\n",
    "bins_array = np.array(bins_list)\n",
    "print(bins_array[::,:-1])\n",
    "print(bins_array[::,1] - bins_array[::,0])\n",
    "bins_array = bins_array[::,:-1] + (np.array(bins_array[::,1] - bins_array[::,0]).reshape(-1,1))/2\n",
    "plt.scatter(depth, bins_array, c=counts_list, cmap= plt.get_cmap('RdPu'), marker='_', linewidths=5, s=150)\n",
    "fig = go.Figure()\n",
    "fig = px.scatter(\n",
    "        x=depth.flatten(),\n",
    "        y=bins_array.flatten(),\n",
    "        color = np.array(counts_list).flatten(),\n",
    "        # line=dict(color=\"#aa6464\"),\n",
    "        # mode=\"markers\",\n",
    "        # name=\"average\",\n",
    ")\n",
    "fig.show()"
   ]
  },
  {
   "cell_type": "code",
   "execution_count": 151,
   "metadata": {},
   "outputs": [],
   "source": [
    "from qibocal.calibrations.niGSC.standardrb import ModuleFactory as StandardRBExperimentFactory\n",
    "from qibocal.calibrations.niGSC.basics.noisemodels import PauliErrorOnAll\n",
    "from qibocal.protocols.characterization.RB.utils import extract_from_data\n",
    "\n",
    "import pandas as pd\n",
    "from qibocal.protocols.characterization.RB.result import DecayResult\n",
    "\n",
    "\n",
    "niter = 10\n",
    "nshots = 20\n",
    "depths = [1,3,5,10,20]\n",
    "nqubits = 1\n",
    "qubit = [0]\n",
    "noise_model = PauliErrorOnAll()\n",
    "\n",
    "# Setup\n",
    "f = StandardRBExperimentFactory(nqubits, depths * niter, qubit)\n",
    "\n",
    "# Execute\n",
    "data_list = []\n",
    "for c in f:\n",
    "    depth = (c.depth - 2) if c.depth > 1 else 0\n",
    "    if noise_model is not None:\n",
    "        c = noise_model.apply(c)\n",
    "    samples = c.execute(nshots=nshots).samples()\n",
    "    data_list.append({'depth': depth, 'samples': samples})\n",
    "\n",
    "# Aggregate\n",
    "for datarow in data_list:\n",
    "    datarow['p0'] = 1-np.mean(datarow['samples'])\n",
    "\n",
    "# Histogram\n",
    "p0 = extract_from_data(data_list, 'p0', 'depth')[1].reshape(-1, niter)\n",
    "counts_list, bins_list = zip(*[np.histogram(data, bins=10) for data in p0])\n",
    "# Build the result object\n",
    "result = DecayResult(*extract_from_data(data_list, 'p0', 'depth', 'mean'), hists=(counts_list, bins_list))\n",
    "\n",
    "# Analyze/fit\n",
    "result._fit()\n",
    "\n",
    "# Display\n",
    "result._plot()\n",
    "\n",
    "# import plotly.express as px\n",
    "bins_array = np.array(bins_list)\n",
    "\n",
    "bins_array = bins_array[::,:-1] + (np.array(bins_array[::,1] - bins_array[::,0]).reshape(-1,1))/2\n",
    "# # # plt.scatter(depth, bins_array, c=counts_list, cmap= plt.get_cmap('RdPu'), marker='_', linewidths=5, s=150)\n",
    "# fig = px.scatter(\n",
    "#         x=np.repeat(result.m, bins_array.shape[-1]),\n",
    "#         y=bins_array.flatten(),\n",
    "#         color = np.array(counts_list).flatten(),\n",
    "#         color_continuous_scale=px.colors.sequential.Tealgrn\n",
    "# )\n",
    "# fig.add_trace(\n",
    "#     px.scatter(\n",
    "#         x=[1,2,3],\n",
    "#         y=[1,2,3]\n",
    "# ).data[0]\n",
    "# )\n",
    "# fig.show()\n",
    "\n",
    "# fig = px.scatter(\n",
    "#     x = m,\n",
    "#     y = p0\n",
    "# )\n",
    "# fig.show()\n",
    "\n",
    "# print(df_data.groupby('depth').agg(np.mean))#agg('mean'))\n",
    "# print(df_data['samples'].mean(axis=0))\n",
    "# print(extract_from_data(df_data, 'samples'))\n",
    "\n",
    "# depth = depth.reshape(-1, niter)\n",
    "# y = y.reshape(-1, niter)\n",
    "\n",
    "# counts_list, bins_list = [], []\n",
    "# for data in y:\n",
    "#     counts, bins = np.histogram(data, bins=10)\n",
    "#     counts_list.append(counts)\n",
    "#     bins_list.append(bins)\n",
    "# bins_array = np.array(bins_list)\n",
    "# print(bins_array[::,:-1])\n",
    "# print(bins_array[::,1] - bins_array[::,0])\n",
    "# bins_array = bins_array[::,:-1] + (np.array(bins_array[::,1] - bins_array[::,0]).reshape(-1,1))/2\n",
    "# plt.scatter(depth, bins_array, c=counts_list, cmap= plt.get_cmap('RdPu'), marker='_', linewidths=5, s=150)\n",
    "# fig = go.Figure()\n",
    "# fig = px.scatter(\n",
    "#         x=depth.flatten(),\n",
    "#         y=bins_array.flatten(),\n",
    "#         color = np.array(counts_list).flatten(),\n",
    "#         # line=dict(color=\"#aa6464\"),\n",
    "#         # mode=\"markers\",\n",
    "#         # name=\"average\",\n",
    "# )\n",
    "# fig.show()"
   ]
  },
  {
   "cell_type": "code",
   "execution_count": 155,
   "metadata": {},
   "outputs": [
    {
     "data": {
      "application/vnd.plotly.v1+json": {
       "config": {
        "plotlyServerURL": "https://plot.ly"
       },
       "data": [
        {
         "hovertemplate": "x=%{x}<br>y=%{y}<extra></extra>",
         "legendgroup": "",
         "marker": {
          "color": "#636efa",
          "symbol": "circle"
         },
         "mode": "markers",
         "name": "",
         "orientation": "v",
         "showlegend": false,
         "type": "scatter",
         "x": [
          1,
          1,
          1,
          1,
          1,
          1,
          1,
          1,
          1,
          1,
          3,
          3,
          3,
          3,
          3,
          3,
          3,
          3,
          3,
          3,
          5,
          5,
          5,
          5,
          5,
          5,
          5,
          5,
          5,
          5,
          10,
          10,
          10,
          10,
          10,
          10,
          10,
          10,
          10,
          10,
          20,
          20,
          20,
          20,
          20,
          20,
          20,
          20,
          20,
          20
         ],
         "xaxis": "x",
         "y": [
          0.37249999999999994,
          0.4175,
          0.4625,
          0.5075,
          0.5525,
          0.5974999999999999,
          0.6425,
          0.6875,
          0.7324999999999999,
          0.7775,
          0.42000000000000004,
          0.45999999999999996,
          0.5,
          0.54,
          0.5800000000000001,
          0.6200000000000001,
          0.66,
          0.7000000000000001,
          0.74,
          0.78,
          0.27249999999999996,
          0.3175,
          0.36249999999999993,
          0.4075,
          0.4525,
          0.49749999999999994,
          0.5425,
          0.5874999999999999,
          0.6325,
          0.6775,
          0.31500000000000006,
          0.345,
          0.375,
          0.405,
          0.43500000000000005,
          0.46499999999999997,
          0.495,
          0.525,
          0.555,
          0.585,
          0.22499999999999995,
          0.2749999999999999,
          0.32499999999999996,
          0.375,
          0.42499999999999993,
          0.475,
          0.525,
          0.5750000000000001,
          0.625,
          0.6749999999999999
         ],
         "yaxis": "y"
        },
        {
         "type": "scatter",
         "x": [
          1,
          2,
          3
         ],
         "y": [
          1,
          2,
          3
         ]
        }
       ],
       "layout": {
        "legend": {
         "tracegroupgap": 0
        },
        "margin": {
         "t": 60
        },
        "template": {
         "data": {
          "bar": [
           {
            "error_x": {
             "color": "#2a3f5f"
            },
            "error_y": {
             "color": "#2a3f5f"
            },
            "marker": {
             "line": {
              "color": "#E5ECF6",
              "width": 0.5
             },
             "pattern": {
              "fillmode": "overlay",
              "size": 10,
              "solidity": 0.2
             }
            },
            "type": "bar"
           }
          ],
          "barpolar": [
           {
            "marker": {
             "line": {
              "color": "#E5ECF6",
              "width": 0.5
             },
             "pattern": {
              "fillmode": "overlay",
              "size": 10,
              "solidity": 0.2
             }
            },
            "type": "barpolar"
           }
          ],
          "carpet": [
           {
            "aaxis": {
             "endlinecolor": "#2a3f5f",
             "gridcolor": "white",
             "linecolor": "white",
             "minorgridcolor": "white",
             "startlinecolor": "#2a3f5f"
            },
            "baxis": {
             "endlinecolor": "#2a3f5f",
             "gridcolor": "white",
             "linecolor": "white",
             "minorgridcolor": "white",
             "startlinecolor": "#2a3f5f"
            },
            "type": "carpet"
           }
          ],
          "choropleth": [
           {
            "colorbar": {
             "outlinewidth": 0,
             "ticks": ""
            },
            "type": "choropleth"
           }
          ],
          "contour": [
           {
            "colorbar": {
             "outlinewidth": 0,
             "ticks": ""
            },
            "colorscale": [
             [
              0,
              "#0d0887"
             ],
             [
              0.1111111111111111,
              "#46039f"
             ],
             [
              0.2222222222222222,
              "#7201a8"
             ],
             [
              0.3333333333333333,
              "#9c179e"
             ],
             [
              0.4444444444444444,
              "#bd3786"
             ],
             [
              0.5555555555555556,
              "#d8576b"
             ],
             [
              0.6666666666666666,
              "#ed7953"
             ],
             [
              0.7777777777777778,
              "#fb9f3a"
             ],
             [
              0.8888888888888888,
              "#fdca26"
             ],
             [
              1,
              "#f0f921"
             ]
            ],
            "type": "contour"
           }
          ],
          "contourcarpet": [
           {
            "colorbar": {
             "outlinewidth": 0,
             "ticks": ""
            },
            "type": "contourcarpet"
           }
          ],
          "heatmap": [
           {
            "colorbar": {
             "outlinewidth": 0,
             "ticks": ""
            },
            "colorscale": [
             [
              0,
              "#0d0887"
             ],
             [
              0.1111111111111111,
              "#46039f"
             ],
             [
              0.2222222222222222,
              "#7201a8"
             ],
             [
              0.3333333333333333,
              "#9c179e"
             ],
             [
              0.4444444444444444,
              "#bd3786"
             ],
             [
              0.5555555555555556,
              "#d8576b"
             ],
             [
              0.6666666666666666,
              "#ed7953"
             ],
             [
              0.7777777777777778,
              "#fb9f3a"
             ],
             [
              0.8888888888888888,
              "#fdca26"
             ],
             [
              1,
              "#f0f921"
             ]
            ],
            "type": "heatmap"
           }
          ],
          "heatmapgl": [
           {
            "colorbar": {
             "outlinewidth": 0,
             "ticks": ""
            },
            "colorscale": [
             [
              0,
              "#0d0887"
             ],
             [
              0.1111111111111111,
              "#46039f"
             ],
             [
              0.2222222222222222,
              "#7201a8"
             ],
             [
              0.3333333333333333,
              "#9c179e"
             ],
             [
              0.4444444444444444,
              "#bd3786"
             ],
             [
              0.5555555555555556,
              "#d8576b"
             ],
             [
              0.6666666666666666,
              "#ed7953"
             ],
             [
              0.7777777777777778,
              "#fb9f3a"
             ],
             [
              0.8888888888888888,
              "#fdca26"
             ],
             [
              1,
              "#f0f921"
             ]
            ],
            "type": "heatmapgl"
           }
          ],
          "histogram": [
           {
            "marker": {
             "pattern": {
              "fillmode": "overlay",
              "size": 10,
              "solidity": 0.2
             }
            },
            "type": "histogram"
           }
          ],
          "histogram2d": [
           {
            "colorbar": {
             "outlinewidth": 0,
             "ticks": ""
            },
            "colorscale": [
             [
              0,
              "#0d0887"
             ],
             [
              0.1111111111111111,
              "#46039f"
             ],
             [
              0.2222222222222222,
              "#7201a8"
             ],
             [
              0.3333333333333333,
              "#9c179e"
             ],
             [
              0.4444444444444444,
              "#bd3786"
             ],
             [
              0.5555555555555556,
              "#d8576b"
             ],
             [
              0.6666666666666666,
              "#ed7953"
             ],
             [
              0.7777777777777778,
              "#fb9f3a"
             ],
             [
              0.8888888888888888,
              "#fdca26"
             ],
             [
              1,
              "#f0f921"
             ]
            ],
            "type": "histogram2d"
           }
          ],
          "histogram2dcontour": [
           {
            "colorbar": {
             "outlinewidth": 0,
             "ticks": ""
            },
            "colorscale": [
             [
              0,
              "#0d0887"
             ],
             [
              0.1111111111111111,
              "#46039f"
             ],
             [
              0.2222222222222222,
              "#7201a8"
             ],
             [
              0.3333333333333333,
              "#9c179e"
             ],
             [
              0.4444444444444444,
              "#bd3786"
             ],
             [
              0.5555555555555556,
              "#d8576b"
             ],
             [
              0.6666666666666666,
              "#ed7953"
             ],
             [
              0.7777777777777778,
              "#fb9f3a"
             ],
             [
              0.8888888888888888,
              "#fdca26"
             ],
             [
              1,
              "#f0f921"
             ]
            ],
            "type": "histogram2dcontour"
           }
          ],
          "mesh3d": [
           {
            "colorbar": {
             "outlinewidth": 0,
             "ticks": ""
            },
            "type": "mesh3d"
           }
          ],
          "parcoords": [
           {
            "line": {
             "colorbar": {
              "outlinewidth": 0,
              "ticks": ""
             }
            },
            "type": "parcoords"
           }
          ],
          "pie": [
           {
            "automargin": true,
            "type": "pie"
           }
          ],
          "scatter": [
           {
            "fillpattern": {
             "fillmode": "overlay",
             "size": 10,
             "solidity": 0.2
            },
            "type": "scatter"
           }
          ],
          "scatter3d": [
           {
            "line": {
             "colorbar": {
              "outlinewidth": 0,
              "ticks": ""
             }
            },
            "marker": {
             "colorbar": {
              "outlinewidth": 0,
              "ticks": ""
             }
            },
            "type": "scatter3d"
           }
          ],
          "scattercarpet": [
           {
            "marker": {
             "colorbar": {
              "outlinewidth": 0,
              "ticks": ""
             }
            },
            "type": "scattercarpet"
           }
          ],
          "scattergeo": [
           {
            "marker": {
             "colorbar": {
              "outlinewidth": 0,
              "ticks": ""
             }
            },
            "type": "scattergeo"
           }
          ],
          "scattergl": [
           {
            "marker": {
             "colorbar": {
              "outlinewidth": 0,
              "ticks": ""
             }
            },
            "type": "scattergl"
           }
          ],
          "scattermapbox": [
           {
            "marker": {
             "colorbar": {
              "outlinewidth": 0,
              "ticks": ""
             }
            },
            "type": "scattermapbox"
           }
          ],
          "scatterpolar": [
           {
            "marker": {
             "colorbar": {
              "outlinewidth": 0,
              "ticks": ""
             }
            },
            "type": "scatterpolar"
           }
          ],
          "scatterpolargl": [
           {
            "marker": {
             "colorbar": {
              "outlinewidth": 0,
              "ticks": ""
             }
            },
            "type": "scatterpolargl"
           }
          ],
          "scatterternary": [
           {
            "marker": {
             "colorbar": {
              "outlinewidth": 0,
              "ticks": ""
             }
            },
            "type": "scatterternary"
           }
          ],
          "surface": [
           {
            "colorbar": {
             "outlinewidth": 0,
             "ticks": ""
            },
            "colorscale": [
             [
              0,
              "#0d0887"
             ],
             [
              0.1111111111111111,
              "#46039f"
             ],
             [
              0.2222222222222222,
              "#7201a8"
             ],
             [
              0.3333333333333333,
              "#9c179e"
             ],
             [
              0.4444444444444444,
              "#bd3786"
             ],
             [
              0.5555555555555556,
              "#d8576b"
             ],
             [
              0.6666666666666666,
              "#ed7953"
             ],
             [
              0.7777777777777778,
              "#fb9f3a"
             ],
             [
              0.8888888888888888,
              "#fdca26"
             ],
             [
              1,
              "#f0f921"
             ]
            ],
            "type": "surface"
           }
          ],
          "table": [
           {
            "cells": {
             "fill": {
              "color": "#EBF0F8"
             },
             "line": {
              "color": "white"
             }
            },
            "header": {
             "fill": {
              "color": "#C8D4E3"
             },
             "line": {
              "color": "white"
             }
            },
            "type": "table"
           }
          ]
         },
         "layout": {
          "annotationdefaults": {
           "arrowcolor": "#2a3f5f",
           "arrowhead": 0,
           "arrowwidth": 1
          },
          "autotypenumbers": "strict",
          "coloraxis": {
           "colorbar": {
            "outlinewidth": 0,
            "ticks": ""
           }
          },
          "colorscale": {
           "diverging": [
            [
             0,
             "#8e0152"
            ],
            [
             0.1,
             "#c51b7d"
            ],
            [
             0.2,
             "#de77ae"
            ],
            [
             0.3,
             "#f1b6da"
            ],
            [
             0.4,
             "#fde0ef"
            ],
            [
             0.5,
             "#f7f7f7"
            ],
            [
             0.6,
             "#e6f5d0"
            ],
            [
             0.7,
             "#b8e186"
            ],
            [
             0.8,
             "#7fbc41"
            ],
            [
             0.9,
             "#4d9221"
            ],
            [
             1,
             "#276419"
            ]
           ],
           "sequential": [
            [
             0,
             "#0d0887"
            ],
            [
             0.1111111111111111,
             "#46039f"
            ],
            [
             0.2222222222222222,
             "#7201a8"
            ],
            [
             0.3333333333333333,
             "#9c179e"
            ],
            [
             0.4444444444444444,
             "#bd3786"
            ],
            [
             0.5555555555555556,
             "#d8576b"
            ],
            [
             0.6666666666666666,
             "#ed7953"
            ],
            [
             0.7777777777777778,
             "#fb9f3a"
            ],
            [
             0.8888888888888888,
             "#fdca26"
            ],
            [
             1,
             "#f0f921"
            ]
           ],
           "sequentialminus": [
            [
             0,
             "#0d0887"
            ],
            [
             0.1111111111111111,
             "#46039f"
            ],
            [
             0.2222222222222222,
             "#7201a8"
            ],
            [
             0.3333333333333333,
             "#9c179e"
            ],
            [
             0.4444444444444444,
             "#bd3786"
            ],
            [
             0.5555555555555556,
             "#d8576b"
            ],
            [
             0.6666666666666666,
             "#ed7953"
            ],
            [
             0.7777777777777778,
             "#fb9f3a"
            ],
            [
             0.8888888888888888,
             "#fdca26"
            ],
            [
             1,
             "#f0f921"
            ]
           ]
          },
          "colorway": [
           "#636efa",
           "#EF553B",
           "#00cc96",
           "#ab63fa",
           "#FFA15A",
           "#19d3f3",
           "#FF6692",
           "#B6E880",
           "#FF97FF",
           "#FECB52"
          ],
          "font": {
           "color": "#2a3f5f"
          },
          "geo": {
           "bgcolor": "white",
           "lakecolor": "white",
           "landcolor": "#E5ECF6",
           "showlakes": true,
           "showland": true,
           "subunitcolor": "white"
          },
          "hoverlabel": {
           "align": "left"
          },
          "hovermode": "closest",
          "mapbox": {
           "style": "light"
          },
          "paper_bgcolor": "white",
          "plot_bgcolor": "#E5ECF6",
          "polar": {
           "angularaxis": {
            "gridcolor": "white",
            "linecolor": "white",
            "ticks": ""
           },
           "bgcolor": "#E5ECF6",
           "radialaxis": {
            "gridcolor": "white",
            "linecolor": "white",
            "ticks": ""
           }
          },
          "scene": {
           "xaxis": {
            "backgroundcolor": "#E5ECF6",
            "gridcolor": "white",
            "gridwidth": 2,
            "linecolor": "white",
            "showbackground": true,
            "ticks": "",
            "zerolinecolor": "white"
           },
           "yaxis": {
            "backgroundcolor": "#E5ECF6",
            "gridcolor": "white",
            "gridwidth": 2,
            "linecolor": "white",
            "showbackground": true,
            "ticks": "",
            "zerolinecolor": "white"
           },
           "zaxis": {
            "backgroundcolor": "#E5ECF6",
            "gridcolor": "white",
            "gridwidth": 2,
            "linecolor": "white",
            "showbackground": true,
            "ticks": "",
            "zerolinecolor": "white"
           }
          },
          "shapedefaults": {
           "line": {
            "color": "#2a3f5f"
           }
          },
          "ternary": {
           "aaxis": {
            "gridcolor": "white",
            "linecolor": "white",
            "ticks": ""
           },
           "baxis": {
            "gridcolor": "white",
            "linecolor": "white",
            "ticks": ""
           },
           "bgcolor": "#E5ECF6",
           "caxis": {
            "gridcolor": "white",
            "linecolor": "white",
            "ticks": ""
           }
          },
          "title": {
           "x": 0.05
          },
          "xaxis": {
           "automargin": true,
           "gridcolor": "white",
           "linecolor": "white",
           "ticks": "",
           "title": {
            "standoff": 15
           },
           "zerolinecolor": "white",
           "zerolinewidth": 2
          },
          "yaxis": {
           "automargin": true,
           "gridcolor": "white",
           "linecolor": "white",
           "ticks": "",
           "title": {
            "standoff": 15
           },
           "zerolinecolor": "white",
           "zerolinewidth": 2
          }
         }
        },
        "xaxis": {
         "anchor": "y",
         "domain": [
          0,
          1
         ],
         "title": {
          "text": "x"
         }
        },
        "yaxis": {
         "anchor": "x",
         "domain": [
          0,
          1
         ],
         "title": {
          "text": "y"
         }
        }
       }
      }
     },
     "metadata": {},
     "output_type": "display_data"
    }
   ],
   "source": [
    "from plotly import graph_objects as go\n",
    "fig = px.scatter(\n",
    "        x=np.repeat(result.m, bins_array.shape[-1]),\n",
    "        y=bins_array.flatten(),\n",
    "        color = None, #np.array(counts_list).flatten(),\n",
    "        color_continuous_scale=px.colors.sequential.Tealgrn\n",
    ")\n",
    "fig.add_trace(\n",
    "    go.Scatter(x=[1,2,3], y=[1,2,3])\n",
    ")\n",
    "# fig.add_trace(\n",
    "#     go.Scatter(x=[4,5], y=[1,1])\n",
    "# )\n",
    "fig.show()"
   ]
  },
  {
   "cell_type": "code",
   "execution_count": 149,
   "metadata": {},
   "outputs": [
    {
     "data": {
      "application/vnd.plotly.v1+json": {
       "config": {
        "plotlyServerURL": "https://plot.ly"
       },
       "data": [
        {
         "hovertemplate": "x=%{x}<br>y=%{y}<extra></extra>",
         "legendgroup": "",
         "marker": {
          "color": "#636efa",
          "symbol": "circle"
         },
         "mode": "markers",
         "name": "",
         "orientation": "v",
         "showlegend": false,
         "type": "scatter",
         "x": [
          1,
          2,
          3
         ],
         "xaxis": "x",
         "y": [
          1,
          2,
          3
         ],
         "yaxis": "y"
        }
       ],
       "layout": {
        "legend": {
         "tracegroupgap": 0
        },
        "margin": {
         "t": 60
        },
        "template": {
         "data": {
          "bar": [
           {
            "error_x": {
             "color": "#2a3f5f"
            },
            "error_y": {
             "color": "#2a3f5f"
            },
            "marker": {
             "line": {
              "color": "#E5ECF6",
              "width": 0.5
             },
             "pattern": {
              "fillmode": "overlay",
              "size": 10,
              "solidity": 0.2
             }
            },
            "type": "bar"
           }
          ],
          "barpolar": [
           {
            "marker": {
             "line": {
              "color": "#E5ECF6",
              "width": 0.5
             },
             "pattern": {
              "fillmode": "overlay",
              "size": 10,
              "solidity": 0.2
             }
            },
            "type": "barpolar"
           }
          ],
          "carpet": [
           {
            "aaxis": {
             "endlinecolor": "#2a3f5f",
             "gridcolor": "white",
             "linecolor": "white",
             "minorgridcolor": "white",
             "startlinecolor": "#2a3f5f"
            },
            "baxis": {
             "endlinecolor": "#2a3f5f",
             "gridcolor": "white",
             "linecolor": "white",
             "minorgridcolor": "white",
             "startlinecolor": "#2a3f5f"
            },
            "type": "carpet"
           }
          ],
          "choropleth": [
           {
            "colorbar": {
             "outlinewidth": 0,
             "ticks": ""
            },
            "type": "choropleth"
           }
          ],
          "contour": [
           {
            "colorbar": {
             "outlinewidth": 0,
             "ticks": ""
            },
            "colorscale": [
             [
              0,
              "#0d0887"
             ],
             [
              0.1111111111111111,
              "#46039f"
             ],
             [
              0.2222222222222222,
              "#7201a8"
             ],
             [
              0.3333333333333333,
              "#9c179e"
             ],
             [
              0.4444444444444444,
              "#bd3786"
             ],
             [
              0.5555555555555556,
              "#d8576b"
             ],
             [
              0.6666666666666666,
              "#ed7953"
             ],
             [
              0.7777777777777778,
              "#fb9f3a"
             ],
             [
              0.8888888888888888,
              "#fdca26"
             ],
             [
              1,
              "#f0f921"
             ]
            ],
            "type": "contour"
           }
          ],
          "contourcarpet": [
           {
            "colorbar": {
             "outlinewidth": 0,
             "ticks": ""
            },
            "type": "contourcarpet"
           }
          ],
          "heatmap": [
           {
            "colorbar": {
             "outlinewidth": 0,
             "ticks": ""
            },
            "colorscale": [
             [
              0,
              "#0d0887"
             ],
             [
              0.1111111111111111,
              "#46039f"
             ],
             [
              0.2222222222222222,
              "#7201a8"
             ],
             [
              0.3333333333333333,
              "#9c179e"
             ],
             [
              0.4444444444444444,
              "#bd3786"
             ],
             [
              0.5555555555555556,
              "#d8576b"
             ],
             [
              0.6666666666666666,
              "#ed7953"
             ],
             [
              0.7777777777777778,
              "#fb9f3a"
             ],
             [
              0.8888888888888888,
              "#fdca26"
             ],
             [
              1,
              "#f0f921"
             ]
            ],
            "type": "heatmap"
           }
          ],
          "heatmapgl": [
           {
            "colorbar": {
             "outlinewidth": 0,
             "ticks": ""
            },
            "colorscale": [
             [
              0,
              "#0d0887"
             ],
             [
              0.1111111111111111,
              "#46039f"
             ],
             [
              0.2222222222222222,
              "#7201a8"
             ],
             [
              0.3333333333333333,
              "#9c179e"
             ],
             [
              0.4444444444444444,
              "#bd3786"
             ],
             [
              0.5555555555555556,
              "#d8576b"
             ],
             [
              0.6666666666666666,
              "#ed7953"
             ],
             [
              0.7777777777777778,
              "#fb9f3a"
             ],
             [
              0.8888888888888888,
              "#fdca26"
             ],
             [
              1,
              "#f0f921"
             ]
            ],
            "type": "heatmapgl"
           }
          ],
          "histogram": [
           {
            "marker": {
             "pattern": {
              "fillmode": "overlay",
              "size": 10,
              "solidity": 0.2
             }
            },
            "type": "histogram"
           }
          ],
          "histogram2d": [
           {
            "colorbar": {
             "outlinewidth": 0,
             "ticks": ""
            },
            "colorscale": [
             [
              0,
              "#0d0887"
             ],
             [
              0.1111111111111111,
              "#46039f"
             ],
             [
              0.2222222222222222,
              "#7201a8"
             ],
             [
              0.3333333333333333,
              "#9c179e"
             ],
             [
              0.4444444444444444,
              "#bd3786"
             ],
             [
              0.5555555555555556,
              "#d8576b"
             ],
             [
              0.6666666666666666,
              "#ed7953"
             ],
             [
              0.7777777777777778,
              "#fb9f3a"
             ],
             [
              0.8888888888888888,
              "#fdca26"
             ],
             [
              1,
              "#f0f921"
             ]
            ],
            "type": "histogram2d"
           }
          ],
          "histogram2dcontour": [
           {
            "colorbar": {
             "outlinewidth": 0,
             "ticks": ""
            },
            "colorscale": [
             [
              0,
              "#0d0887"
             ],
             [
              0.1111111111111111,
              "#46039f"
             ],
             [
              0.2222222222222222,
              "#7201a8"
             ],
             [
              0.3333333333333333,
              "#9c179e"
             ],
             [
              0.4444444444444444,
              "#bd3786"
             ],
             [
              0.5555555555555556,
              "#d8576b"
             ],
             [
              0.6666666666666666,
              "#ed7953"
             ],
             [
              0.7777777777777778,
              "#fb9f3a"
             ],
             [
              0.8888888888888888,
              "#fdca26"
             ],
             [
              1,
              "#f0f921"
             ]
            ],
            "type": "histogram2dcontour"
           }
          ],
          "mesh3d": [
           {
            "colorbar": {
             "outlinewidth": 0,
             "ticks": ""
            },
            "type": "mesh3d"
           }
          ],
          "parcoords": [
           {
            "line": {
             "colorbar": {
              "outlinewidth": 0,
              "ticks": ""
             }
            },
            "type": "parcoords"
           }
          ],
          "pie": [
           {
            "automargin": true,
            "type": "pie"
           }
          ],
          "scatter": [
           {
            "fillpattern": {
             "fillmode": "overlay",
             "size": 10,
             "solidity": 0.2
            },
            "type": "scatter"
           }
          ],
          "scatter3d": [
           {
            "line": {
             "colorbar": {
              "outlinewidth": 0,
              "ticks": ""
             }
            },
            "marker": {
             "colorbar": {
              "outlinewidth": 0,
              "ticks": ""
             }
            },
            "type": "scatter3d"
           }
          ],
          "scattercarpet": [
           {
            "marker": {
             "colorbar": {
              "outlinewidth": 0,
              "ticks": ""
             }
            },
            "type": "scattercarpet"
           }
          ],
          "scattergeo": [
           {
            "marker": {
             "colorbar": {
              "outlinewidth": 0,
              "ticks": ""
             }
            },
            "type": "scattergeo"
           }
          ],
          "scattergl": [
           {
            "marker": {
             "colorbar": {
              "outlinewidth": 0,
              "ticks": ""
             }
            },
            "type": "scattergl"
           }
          ],
          "scattermapbox": [
           {
            "marker": {
             "colorbar": {
              "outlinewidth": 0,
              "ticks": ""
             }
            },
            "type": "scattermapbox"
           }
          ],
          "scatterpolar": [
           {
            "marker": {
             "colorbar": {
              "outlinewidth": 0,
              "ticks": ""
             }
            },
            "type": "scatterpolar"
           }
          ],
          "scatterpolargl": [
           {
            "marker": {
             "colorbar": {
              "outlinewidth": 0,
              "ticks": ""
             }
            },
            "type": "scatterpolargl"
           }
          ],
          "scatterternary": [
           {
            "marker": {
             "colorbar": {
              "outlinewidth": 0,
              "ticks": ""
             }
            },
            "type": "scatterternary"
           }
          ],
          "surface": [
           {
            "colorbar": {
             "outlinewidth": 0,
             "ticks": ""
            },
            "colorscale": [
             [
              0,
              "#0d0887"
             ],
             [
              0.1111111111111111,
              "#46039f"
             ],
             [
              0.2222222222222222,
              "#7201a8"
             ],
             [
              0.3333333333333333,
              "#9c179e"
             ],
             [
              0.4444444444444444,
              "#bd3786"
             ],
             [
              0.5555555555555556,
              "#d8576b"
             ],
             [
              0.6666666666666666,
              "#ed7953"
             ],
             [
              0.7777777777777778,
              "#fb9f3a"
             ],
             [
              0.8888888888888888,
              "#fdca26"
             ],
             [
              1,
              "#f0f921"
             ]
            ],
            "type": "surface"
           }
          ],
          "table": [
           {
            "cells": {
             "fill": {
              "color": "#EBF0F8"
             },
             "line": {
              "color": "white"
             }
            },
            "header": {
             "fill": {
              "color": "#C8D4E3"
             },
             "line": {
              "color": "white"
             }
            },
            "type": "table"
           }
          ]
         },
         "layout": {
          "annotationdefaults": {
           "arrowcolor": "#2a3f5f",
           "arrowhead": 0,
           "arrowwidth": 1
          },
          "autotypenumbers": "strict",
          "coloraxis": {
           "colorbar": {
            "outlinewidth": 0,
            "ticks": ""
           }
          },
          "colorscale": {
           "diverging": [
            [
             0,
             "#8e0152"
            ],
            [
             0.1,
             "#c51b7d"
            ],
            [
             0.2,
             "#de77ae"
            ],
            [
             0.3,
             "#f1b6da"
            ],
            [
             0.4,
             "#fde0ef"
            ],
            [
             0.5,
             "#f7f7f7"
            ],
            [
             0.6,
             "#e6f5d0"
            ],
            [
             0.7,
             "#b8e186"
            ],
            [
             0.8,
             "#7fbc41"
            ],
            [
             0.9,
             "#4d9221"
            ],
            [
             1,
             "#276419"
            ]
           ],
           "sequential": [
            [
             0,
             "#0d0887"
            ],
            [
             0.1111111111111111,
             "#46039f"
            ],
            [
             0.2222222222222222,
             "#7201a8"
            ],
            [
             0.3333333333333333,
             "#9c179e"
            ],
            [
             0.4444444444444444,
             "#bd3786"
            ],
            [
             0.5555555555555556,
             "#d8576b"
            ],
            [
             0.6666666666666666,
             "#ed7953"
            ],
            [
             0.7777777777777778,
             "#fb9f3a"
            ],
            [
             0.8888888888888888,
             "#fdca26"
            ],
            [
             1,
             "#f0f921"
            ]
           ],
           "sequentialminus": [
            [
             0,
             "#0d0887"
            ],
            [
             0.1111111111111111,
             "#46039f"
            ],
            [
             0.2222222222222222,
             "#7201a8"
            ],
            [
             0.3333333333333333,
             "#9c179e"
            ],
            [
             0.4444444444444444,
             "#bd3786"
            ],
            [
             0.5555555555555556,
             "#d8576b"
            ],
            [
             0.6666666666666666,
             "#ed7953"
            ],
            [
             0.7777777777777778,
             "#fb9f3a"
            ],
            [
             0.8888888888888888,
             "#fdca26"
            ],
            [
             1,
             "#f0f921"
            ]
           ]
          },
          "colorway": [
           "#636efa",
           "#EF553B",
           "#00cc96",
           "#ab63fa",
           "#FFA15A",
           "#19d3f3",
           "#FF6692",
           "#B6E880",
           "#FF97FF",
           "#FECB52"
          ],
          "font": {
           "color": "#2a3f5f"
          },
          "geo": {
           "bgcolor": "white",
           "lakecolor": "white",
           "landcolor": "#E5ECF6",
           "showlakes": true,
           "showland": true,
           "subunitcolor": "white"
          },
          "hoverlabel": {
           "align": "left"
          },
          "hovermode": "closest",
          "mapbox": {
           "style": "light"
          },
          "paper_bgcolor": "white",
          "plot_bgcolor": "#E5ECF6",
          "polar": {
           "angularaxis": {
            "gridcolor": "white",
            "linecolor": "white",
            "ticks": ""
           },
           "bgcolor": "#E5ECF6",
           "radialaxis": {
            "gridcolor": "white",
            "linecolor": "white",
            "ticks": ""
           }
          },
          "scene": {
           "xaxis": {
            "backgroundcolor": "#E5ECF6",
            "gridcolor": "white",
            "gridwidth": 2,
            "linecolor": "white",
            "showbackground": true,
            "ticks": "",
            "zerolinecolor": "white"
           },
           "yaxis": {
            "backgroundcolor": "#E5ECF6",
            "gridcolor": "white",
            "gridwidth": 2,
            "linecolor": "white",
            "showbackground": true,
            "ticks": "",
            "zerolinecolor": "white"
           },
           "zaxis": {
            "backgroundcolor": "#E5ECF6",
            "gridcolor": "white",
            "gridwidth": 2,
            "linecolor": "white",
            "showbackground": true,
            "ticks": "",
            "zerolinecolor": "white"
           }
          },
          "shapedefaults": {
           "line": {
            "color": "#2a3f5f"
           }
          },
          "ternary": {
           "aaxis": {
            "gridcolor": "white",
            "linecolor": "white",
            "ticks": ""
           },
           "baxis": {
            "gridcolor": "white",
            "linecolor": "white",
            "ticks": ""
           },
           "bgcolor": "#E5ECF6",
           "caxis": {
            "gridcolor": "white",
            "linecolor": "white",
            "ticks": ""
           }
          },
          "title": {
           "x": 0.05
          },
          "xaxis": {
           "automargin": true,
           "gridcolor": "white",
           "linecolor": "white",
           "ticks": "",
           "title": {
            "standoff": 15
           },
           "zerolinecolor": "white",
           "zerolinewidth": 2
          },
          "yaxis": {
           "automargin": true,
           "gridcolor": "white",
           "linecolor": "white",
           "ticks": "",
           "title": {
            "standoff": 15
           },
           "zerolinecolor": "white",
           "zerolinewidth": 2
          }
         }
        },
        "xaxis": {
         "anchor": "y",
         "domain": [
          0,
          1
         ],
         "title": {
          "text": "x"
         }
        },
        "yaxis": {
         "anchor": "x",
         "domain": [
          0,
          1
         ],
         "title": {
          "text": "y"
         }
        }
       }
      }
     },
     "metadata": {},
     "output_type": "display_data"
    }
   ],
   "source": [
    "from plotly import express as px\n",
    "fig = px.scatter(x=[1,2,3], y=[1,2,3])\n",
    "fig.show()"
   ]
  },
  {
   "cell_type": "code",
   "execution_count": 64,
   "metadata": {},
   "outputs": [],
   "source": [
    "from copy import copy\n",
    "class StandardRBData(pd.DataFrame):\n",
    "    def __init__(self, *args, **kwargs) -> None:\n",
    "        super().__init__(*args, **kwargs)\n",
    "        self.save_func = self.to_csv\n",
    "        self.to_csv = self.to_csv_helper\n",
    "\n",
    "    # def make_savable(self):\n",
    "    #     self.save_func = copy(self.to_csv)\n",
    "    #     self.to_csv = None\n",
    "    \n",
    "    def to_csv_helper(self, path): \n",
    "        self.save_func(f\"{path}/{self.__class__.__name__}.csv\")"
   ]
  },
  {
   "cell_type": "code",
   "execution_count": 129,
   "metadata": {},
   "outputs": [],
   "source": [
    "def bla(array):\n",
    "    print(np.mean(array, axis=1))\n",
    "    return np.mean(array, axis=1)\n",
    "df = StandardRBData([{'a':1, 'b':np.array([10,2,3])}, {'a':1, 'b':np.array([2,3,4])}])\n",
    "newdf = df.assign(Bla = lambda x: np.mean(x.b.to_list(), axis=1))\n"
   ]
  },
  {
   "cell_type": "code",
   "execution_count": 146,
   "metadata": {},
   "outputs": [
    {
     "data": {
      "text/plain": [
       "True"
      ]
     },
     "execution_count": 146,
     "metadata": {},
     "output_type": "execute_result"
    }
   ],
   "source": [
    "np.all(np.log10(np.arange(10,100))*0 == 0)"
   ]
  },
  {
   "cell_type": "code",
   "execution_count": 4,
   "metadata": {},
   "outputs": [
    {
     "data": {
      "application/vnd.plotly.v1+json": {
       "config": {
        "plotlyServerURL": "https://plot.ly"
       },
       "data": [
        {
         "hovertemplate": "x=%{x}<br>y=%{y}<extra></extra>",
         "legendgroup": "",
         "marker": {
          "color": "#636efa",
          "symbol": "circle"
         },
         "mode": "markers",
         "name": "",
         "orientation": "v",
         "showlegend": false,
         "type": "scatter",
         "x": [
          1,
          1,
          1,
          1,
          1,
          1,
          1,
          1,
          1,
          1,
          3,
          3,
          3,
          3,
          3,
          3,
          3,
          3,
          3,
          3,
          5,
          5,
          5,
          5,
          5,
          5,
          5,
          5,
          5,
          5,
          10,
          10,
          10,
          10,
          10,
          10,
          10,
          10,
          10,
          10,
          20,
          20,
          20,
          20,
          20,
          20,
          20,
          20,
          20,
          20
         ],
         "xaxis": "x",
         "y": [
          0.65,
          0.8,
          0.7,
          0.75,
          0.6,
          0.85,
          0.4,
          0.65,
          0.7,
          0.5,
          0.35,
          0.65,
          0.55,
          0.65,
          0.6,
          0.7,
          0.75,
          0.65,
          0.65,
          0.44999999999999996,
          0.5,
          0.65,
          0.55,
          0.44999999999999996,
          0.65,
          0.55,
          0.6,
          0.6,
          0.30000000000000004,
          0.7,
          0.44999999999999996,
          0.4,
          0.44999999999999996,
          0.6,
          0.8,
          0.55,
          0.5,
          0.5,
          0.35,
          0.5,
          0.55,
          0.44999999999999996,
          0.6,
          0.35,
          0.55,
          0.5,
          0.4,
          0.55,
          0.6,
          0.55
         ],
         "yaxis": "y"
        },
        {
         "line": {
          "color": "#aa6464"
         },
         "mode": "markers",
         "name": "average",
         "type": "scatter",
         "x": [
          1,
          3,
          5,
          10,
          20
         ],
         "y": [
          0.6599999999999999,
          0.6,
          0.5549999999999999,
          0.51,
          0.51
         ]
        },
        {
         "line": {
          "dash": "dot"
         },
         "name": "(0.209±0.014)(0.757±0.030)^m + (0.504±0.007)",
         "type": "scatter",
         "x": [
          1,
          1.1919191919191918,
          1.3838383838383839,
          1.5757575757575757,
          1.7676767676767677,
          1.9595959595959596,
          2.1515151515151514,
          2.3434343434343434,
          2.5353535353535355,
          2.727272727272727,
          2.919191919191919,
          3.111111111111111,
          3.3030303030303028,
          3.494949494949495,
          3.686868686868687,
          3.8787878787878785,
          4.070707070707071,
          4.262626262626263,
          4.454545454545454,
          4.646464646464646,
          4.838383838383838,
          5.03030303030303,
          5.222222222222222,
          5.4141414141414135,
          5.6060606060606055,
          5.797979797979798,
          5.98989898989899,
          6.181818181818182,
          6.373737373737374,
          6.565656565656565,
          6.757575757575757,
          6.949494949494949,
          7.141414141414141,
          7.333333333333333,
          7.525252525252525,
          7.717171717171717,
          7.909090909090908,
          8.1010101010101,
          8.292929292929292,
          8.484848484848484,
          8.676767676767676,
          8.868686868686869,
          9.06060606060606,
          9.252525252525253,
          9.444444444444445,
          9.636363636363635,
          9.828282828282827,
          10.020202020202019,
          10.212121212121211,
          10.404040404040403,
          10.595959595959595,
          10.787878787878787,
          10.97979797979798,
          11.171717171717171,
          11.363636363636363,
          11.555555555555555,
          11.747474747474747,
          11.93939393939394,
          12.13131313131313,
          12.323232323232322,
          12.515151515151514,
          12.707070707070706,
          12.898989898989898,
          13.09090909090909,
          13.282828282828282,
          13.474747474747474,
          13.666666666666666,
          13.858585858585858,
          14.05050505050505,
          14.242424242424242,
          14.434343434343434,
          14.626262626262625,
          14.818181818181817,
          15.010101010101009,
          15.2020202020202,
          15.393939393939393,
          15.585858585858585,
          15.777777777777777,
          15.969696969696969,
          16.16161616161616,
          16.353535353535353,
          16.545454545454547,
          16.737373737373737,
          16.929292929292927,
          17.12121212121212,
          17.31313131313131,
          17.505050505050505,
          17.696969696969695,
          17.88888888888889,
          18.08080808080808,
          18.27272727272727,
          18.464646464646464,
          18.656565656565654,
          18.848484848484848,
          19.040404040404038,
          19.232323232323232,
          19.424242424242422,
          19.616161616161616,
          19.808080808080806,
          20
         ],
         "y": [
          0.6621517968239267,
          0.653928465549916,
          0.6461333595482005,
          0.6387441792326731,
          0.6317397862554176,
          0.6251001430358943,
          0.6188062554391087,
          0.6128401184387811,
          0.6071846646100764,
          0.6018237153045451,
          0.5967419343676016,
          0.5919247842661377,
          0.5873584845007663,
          0.5830299721837235,
          0.5789268646696536,
          0.5750374241323747,
          0.5713505239862893,
          0.5678556170563804,
          0.5645427054057371,
          0.5614023117342941,
          0.5584254522669658,
          0.5556036110536158,
          0.5529287156073394,
          0.5503931138113702,
          0.5479895520285455,
          0.5457111543507084,
          0.5435514029286864,
          0.5415041193265744,
          0.5395634468469828,
          0.5377238337766886,
          0.5359800175047594,
          0.5343270094677167,
          0.5327600808786715,
          0.5312747491996077,
          0.5298667653181117,
          0.5285321013918687,
          0.5272669393261483,
          0.5260676598513194,
          0.5249308321691466,
          0.5238532041382501,
          0.5228316929706522,
          0.5218633764127961,
          0.5209454843858069,
          0.5200753910610829,
          0.519250607348545,
          0.5184687737760558,
          0.5177276537396401,
          0.5170251271051953,
          0.5163591841433893,
          0.5157279197803958,
          0.5151295281480178,
          0.514562297417612,
          0.5140246049030324,
          0.5135149124185858,
          0.5130317618787196,
          0.5125737711268514,
          0.5121396299814133,
          0.5117280964877922,
          0.5113379933654516,
          0.5109682046400654,
          0.5106176724510321,
          0.510285394025236,
          0.5099704188083979,
          0.5096718457458087,
          0.5093888207046681,
          0.5091205340306527,
          0.5088662182317251,
          0.5086251457825561,
          0.5083966270432828,
          0.5081800082866429,
          0.5079746698278476,
          0.5077800242518392,
          0.5075955147328629,
          0.5074206134415467,
          0.5072548200349309,
          0.5070976602251299,
          0.5069486844225278,
          0.5068074664496311,
          0.5066736023218954,
          0.5065467090920404,
          0.5064264237545464,
          0.5063124022071983,
          0.5062043182667073,
          0.5061018627355927,
          0.5060047425176556,
          0.5059126797795142,
          0.505825411155801,
          0.5057426869957495,
          0.505664270649014,
          0.5055899377886799,
          0.5055194757695289,
          0.5054526830197206,
          0.5053893684641525,
          0.5053293509778493,
          0.505272458867815,
          0.5052185293818681,
          0.5051674082430537,
          0.5051189492083016,
          0.5050730136500653,
          0.5050294701597488
         ]
        }
       ],
       "layout": {
        "coloraxis": {
         "colorbar": {
          "x": -0.15
         }
        },
        "legend": {
         "tracegroupgap": 0
        },
        "margin": {
         "t": 60
        },
        "template": {
         "data": {
          "bar": [
           {
            "error_x": {
             "color": "#2a3f5f"
            },
            "error_y": {
             "color": "#2a3f5f"
            },
            "marker": {
             "line": {
              "color": "#E5ECF6",
              "width": 0.5
             },
             "pattern": {
              "fillmode": "overlay",
              "size": 10,
              "solidity": 0.2
             }
            },
            "type": "bar"
           }
          ],
          "barpolar": [
           {
            "marker": {
             "line": {
              "color": "#E5ECF6",
              "width": 0.5
             },
             "pattern": {
              "fillmode": "overlay",
              "size": 10,
              "solidity": 0.2
             }
            },
            "type": "barpolar"
           }
          ],
          "carpet": [
           {
            "aaxis": {
             "endlinecolor": "#2a3f5f",
             "gridcolor": "white",
             "linecolor": "white",
             "minorgridcolor": "white",
             "startlinecolor": "#2a3f5f"
            },
            "baxis": {
             "endlinecolor": "#2a3f5f",
             "gridcolor": "white",
             "linecolor": "white",
             "minorgridcolor": "white",
             "startlinecolor": "#2a3f5f"
            },
            "type": "carpet"
           }
          ],
          "choropleth": [
           {
            "colorbar": {
             "outlinewidth": 0,
             "ticks": ""
            },
            "type": "choropleth"
           }
          ],
          "contour": [
           {
            "colorbar": {
             "outlinewidth": 0,
             "ticks": ""
            },
            "colorscale": [
             [
              0,
              "#0d0887"
             ],
             [
              0.1111111111111111,
              "#46039f"
             ],
             [
              0.2222222222222222,
              "#7201a8"
             ],
             [
              0.3333333333333333,
              "#9c179e"
             ],
             [
              0.4444444444444444,
              "#bd3786"
             ],
             [
              0.5555555555555556,
              "#d8576b"
             ],
             [
              0.6666666666666666,
              "#ed7953"
             ],
             [
              0.7777777777777778,
              "#fb9f3a"
             ],
             [
              0.8888888888888888,
              "#fdca26"
             ],
             [
              1,
              "#f0f921"
             ]
            ],
            "type": "contour"
           }
          ],
          "contourcarpet": [
           {
            "colorbar": {
             "outlinewidth": 0,
             "ticks": ""
            },
            "type": "contourcarpet"
           }
          ],
          "heatmap": [
           {
            "colorbar": {
             "outlinewidth": 0,
             "ticks": ""
            },
            "colorscale": [
             [
              0,
              "#0d0887"
             ],
             [
              0.1111111111111111,
              "#46039f"
             ],
             [
              0.2222222222222222,
              "#7201a8"
             ],
             [
              0.3333333333333333,
              "#9c179e"
             ],
             [
              0.4444444444444444,
              "#bd3786"
             ],
             [
              0.5555555555555556,
              "#d8576b"
             ],
             [
              0.6666666666666666,
              "#ed7953"
             ],
             [
              0.7777777777777778,
              "#fb9f3a"
             ],
             [
              0.8888888888888888,
              "#fdca26"
             ],
             [
              1,
              "#f0f921"
             ]
            ],
            "type": "heatmap"
           }
          ],
          "heatmapgl": [
           {
            "colorbar": {
             "outlinewidth": 0,
             "ticks": ""
            },
            "colorscale": [
             [
              0,
              "#0d0887"
             ],
             [
              0.1111111111111111,
              "#46039f"
             ],
             [
              0.2222222222222222,
              "#7201a8"
             ],
             [
              0.3333333333333333,
              "#9c179e"
             ],
             [
              0.4444444444444444,
              "#bd3786"
             ],
             [
              0.5555555555555556,
              "#d8576b"
             ],
             [
              0.6666666666666666,
              "#ed7953"
             ],
             [
              0.7777777777777778,
              "#fb9f3a"
             ],
             [
              0.8888888888888888,
              "#fdca26"
             ],
             [
              1,
              "#f0f921"
             ]
            ],
            "type": "heatmapgl"
           }
          ],
          "histogram": [
           {
            "marker": {
             "pattern": {
              "fillmode": "overlay",
              "size": 10,
              "solidity": 0.2
             }
            },
            "type": "histogram"
           }
          ],
          "histogram2d": [
           {
            "colorbar": {
             "outlinewidth": 0,
             "ticks": ""
            },
            "colorscale": [
             [
              0,
              "#0d0887"
             ],
             [
              0.1111111111111111,
              "#46039f"
             ],
             [
              0.2222222222222222,
              "#7201a8"
             ],
             [
              0.3333333333333333,
              "#9c179e"
             ],
             [
              0.4444444444444444,
              "#bd3786"
             ],
             [
              0.5555555555555556,
              "#d8576b"
             ],
             [
              0.6666666666666666,
              "#ed7953"
             ],
             [
              0.7777777777777778,
              "#fb9f3a"
             ],
             [
              0.8888888888888888,
              "#fdca26"
             ],
             [
              1,
              "#f0f921"
             ]
            ],
            "type": "histogram2d"
           }
          ],
          "histogram2dcontour": [
           {
            "colorbar": {
             "outlinewidth": 0,
             "ticks": ""
            },
            "colorscale": [
             [
              0,
              "#0d0887"
             ],
             [
              0.1111111111111111,
              "#46039f"
             ],
             [
              0.2222222222222222,
              "#7201a8"
             ],
             [
              0.3333333333333333,
              "#9c179e"
             ],
             [
              0.4444444444444444,
              "#bd3786"
             ],
             [
              0.5555555555555556,
              "#d8576b"
             ],
             [
              0.6666666666666666,
              "#ed7953"
             ],
             [
              0.7777777777777778,
              "#fb9f3a"
             ],
             [
              0.8888888888888888,
              "#fdca26"
             ],
             [
              1,
              "#f0f921"
             ]
            ],
            "type": "histogram2dcontour"
           }
          ],
          "mesh3d": [
           {
            "colorbar": {
             "outlinewidth": 0,
             "ticks": ""
            },
            "type": "mesh3d"
           }
          ],
          "parcoords": [
           {
            "line": {
             "colorbar": {
              "outlinewidth": 0,
              "ticks": ""
             }
            },
            "type": "parcoords"
           }
          ],
          "pie": [
           {
            "automargin": true,
            "type": "pie"
           }
          ],
          "scatter": [
           {
            "fillpattern": {
             "fillmode": "overlay",
             "size": 10,
             "solidity": 0.2
            },
            "type": "scatter"
           }
          ],
          "scatter3d": [
           {
            "line": {
             "colorbar": {
              "outlinewidth": 0,
              "ticks": ""
             }
            },
            "marker": {
             "colorbar": {
              "outlinewidth": 0,
              "ticks": ""
             }
            },
            "type": "scatter3d"
           }
          ],
          "scattercarpet": [
           {
            "marker": {
             "colorbar": {
              "outlinewidth": 0,
              "ticks": ""
             }
            },
            "type": "scattercarpet"
           }
          ],
          "scattergeo": [
           {
            "marker": {
             "colorbar": {
              "outlinewidth": 0,
              "ticks": ""
             }
            },
            "type": "scattergeo"
           }
          ],
          "scattergl": [
           {
            "marker": {
             "colorbar": {
              "outlinewidth": 0,
              "ticks": ""
             }
            },
            "type": "scattergl"
           }
          ],
          "scattermapbox": [
           {
            "marker": {
             "colorbar": {
              "outlinewidth": 0,
              "ticks": ""
             }
            },
            "type": "scattermapbox"
           }
          ],
          "scatterpolar": [
           {
            "marker": {
             "colorbar": {
              "outlinewidth": 0,
              "ticks": ""
             }
            },
            "type": "scatterpolar"
           }
          ],
          "scatterpolargl": [
           {
            "marker": {
             "colorbar": {
              "outlinewidth": 0,
              "ticks": ""
             }
            },
            "type": "scatterpolargl"
           }
          ],
          "scatterternary": [
           {
            "marker": {
             "colorbar": {
              "outlinewidth": 0,
              "ticks": ""
             }
            },
            "type": "scatterternary"
           }
          ],
          "surface": [
           {
            "colorbar": {
             "outlinewidth": 0,
             "ticks": ""
            },
            "colorscale": [
             [
              0,
              "#0d0887"
             ],
             [
              0.1111111111111111,
              "#46039f"
             ],
             [
              0.2222222222222222,
              "#7201a8"
             ],
             [
              0.3333333333333333,
              "#9c179e"
             ],
             [
              0.4444444444444444,
              "#bd3786"
             ],
             [
              0.5555555555555556,
              "#d8576b"
             ],
             [
              0.6666666666666666,
              "#ed7953"
             ],
             [
              0.7777777777777778,
              "#fb9f3a"
             ],
             [
              0.8888888888888888,
              "#fdca26"
             ],
             [
              1,
              "#f0f921"
             ]
            ],
            "type": "surface"
           }
          ],
          "table": [
           {
            "cells": {
             "fill": {
              "color": "#EBF0F8"
             },
             "line": {
              "color": "white"
             }
            },
            "header": {
             "fill": {
              "color": "#C8D4E3"
             },
             "line": {
              "color": "white"
             }
            },
            "type": "table"
           }
          ]
         },
         "layout": {
          "annotationdefaults": {
           "arrowcolor": "#2a3f5f",
           "arrowhead": 0,
           "arrowwidth": 1
          },
          "autotypenumbers": "strict",
          "coloraxis": {
           "colorbar": {
            "outlinewidth": 0,
            "ticks": ""
           }
          },
          "colorscale": {
           "diverging": [
            [
             0,
             "#8e0152"
            ],
            [
             0.1,
             "#c51b7d"
            ],
            [
             0.2,
             "#de77ae"
            ],
            [
             0.3,
             "#f1b6da"
            ],
            [
             0.4,
             "#fde0ef"
            ],
            [
             0.5,
             "#f7f7f7"
            ],
            [
             0.6,
             "#e6f5d0"
            ],
            [
             0.7,
             "#b8e186"
            ],
            [
             0.8,
             "#7fbc41"
            ],
            [
             0.9,
             "#4d9221"
            ],
            [
             1,
             "#276419"
            ]
           ],
           "sequential": [
            [
             0,
             "#0d0887"
            ],
            [
             0.1111111111111111,
             "#46039f"
            ],
            [
             0.2222222222222222,
             "#7201a8"
            ],
            [
             0.3333333333333333,
             "#9c179e"
            ],
            [
             0.4444444444444444,
             "#bd3786"
            ],
            [
             0.5555555555555556,
             "#d8576b"
            ],
            [
             0.6666666666666666,
             "#ed7953"
            ],
            [
             0.7777777777777778,
             "#fb9f3a"
            ],
            [
             0.8888888888888888,
             "#fdca26"
            ],
            [
             1,
             "#f0f921"
            ]
           ],
           "sequentialminus": [
            [
             0,
             "#0d0887"
            ],
            [
             0.1111111111111111,
             "#46039f"
            ],
            [
             0.2222222222222222,
             "#7201a8"
            ],
            [
             0.3333333333333333,
             "#9c179e"
            ],
            [
             0.4444444444444444,
             "#bd3786"
            ],
            [
             0.5555555555555556,
             "#d8576b"
            ],
            [
             0.6666666666666666,
             "#ed7953"
            ],
            [
             0.7777777777777778,
             "#fb9f3a"
            ],
            [
             0.8888888888888888,
             "#fdca26"
            ],
            [
             1,
             "#f0f921"
            ]
           ]
          },
          "colorway": [
           "#636efa",
           "#EF553B",
           "#00cc96",
           "#ab63fa",
           "#FFA15A",
           "#19d3f3",
           "#FF6692",
           "#B6E880",
           "#FF97FF",
           "#FECB52"
          ],
          "font": {
           "color": "#2a3f5f"
          },
          "geo": {
           "bgcolor": "white",
           "lakecolor": "white",
           "landcolor": "#E5ECF6",
           "showlakes": true,
           "showland": true,
           "subunitcolor": "white"
          },
          "hoverlabel": {
           "align": "left"
          },
          "hovermode": "closest",
          "mapbox": {
           "style": "light"
          },
          "paper_bgcolor": "white",
          "plot_bgcolor": "#E5ECF6",
          "polar": {
           "angularaxis": {
            "gridcolor": "white",
            "linecolor": "white",
            "ticks": ""
           },
           "bgcolor": "#E5ECF6",
           "radialaxis": {
            "gridcolor": "white",
            "linecolor": "white",
            "ticks": ""
           }
          },
          "scene": {
           "xaxis": {
            "backgroundcolor": "#E5ECF6",
            "gridcolor": "white",
            "gridwidth": 2,
            "linecolor": "white",
            "showbackground": true,
            "ticks": "",
            "zerolinecolor": "white"
           },
           "yaxis": {
            "backgroundcolor": "#E5ECF6",
            "gridcolor": "white",
            "gridwidth": 2,
            "linecolor": "white",
            "showbackground": true,
            "ticks": "",
            "zerolinecolor": "white"
           },
           "zaxis": {
            "backgroundcolor": "#E5ECF6",
            "gridcolor": "white",
            "gridwidth": 2,
            "linecolor": "white",
            "showbackground": true,
            "ticks": "",
            "zerolinecolor": "white"
           }
          },
          "shapedefaults": {
           "line": {
            "color": "#2a3f5f"
           }
          },
          "ternary": {
           "aaxis": {
            "gridcolor": "white",
            "linecolor": "white",
            "ticks": ""
           },
           "baxis": {
            "gridcolor": "white",
            "linecolor": "white",
            "ticks": ""
           },
           "bgcolor": "#E5ECF6",
           "caxis": {
            "gridcolor": "white",
            "linecolor": "white",
            "ticks": ""
           }
          },
          "title": {
           "x": 0.05
          },
          "xaxis": {
           "automargin": true,
           "gridcolor": "white",
           "linecolor": "white",
           "ticks": "",
           "title": {
            "standoff": 15
           },
           "zerolinecolor": "white",
           "zerolinewidth": 2
          },
          "yaxis": {
           "automargin": true,
           "gridcolor": "white",
           "linecolor": "white",
           "ticks": "",
           "title": {
            "standoff": 15
           },
           "zerolinecolor": "white",
           "zerolinewidth": 2
          }
         }
        },
        "xaxis": {
         "anchor": "y",
         "domain": [
          0,
          1
         ],
         "title": {
          "text": "x"
         }
        },
        "yaxis": {
         "anchor": "x",
         "domain": [
          0,
          1
         ],
         "title": {
          "text": "y"
         }
        }
       }
      }
     },
     "metadata": {},
     "output_type": "display_data"
    }
   ],
   "source": [
    "niter = 10\n",
    "nshots = 20\n",
    "depths = [1,3,5,10,20]\n",
    "nqubits = 1\n",
    "qubits = [0]\n",
    "noise_model = 'PauliErrorOnAll'\n",
    "params = StandardRBParameters(nqubits, qubits, depths, niter, nshots, noise_model)\n",
    "data = aquire(params, None, None)\n",
    "result = extract(data)\n",
    "list_figs, str_table = plot(data, result, None)\n",
    "list_figs[0].show()\n"
   ]
  },
  {
   "cell_type": "code",
   "execution_count": 9,
   "metadata": {},
   "outputs": [
    {
     "data": {
      "application/vnd.plotly.v1+json": {
       "config": {
        "plotlyServerURL": "https://plot.ly"
       },
       "data": [
        {
         "hovertemplate": "x=%{x}<br>y=%{y}<extra></extra>",
         "legendgroup": "",
         "marker": {
          "color": "#636efa",
          "symbol": "circle"
         },
         "mode": "markers",
         "name": "",
         "orientation": "v",
         "showlegend": false,
         "type": "scatter",
         "x": [
          1,
          1,
          1,
          1,
          1,
          1,
          1,
          1,
          1,
          1,
          3,
          3,
          3,
          3,
          3,
          3,
          3,
          3,
          3,
          3,
          5,
          5,
          5,
          5,
          5,
          5,
          5,
          5,
          5,
          5,
          10,
          10,
          10,
          10,
          10,
          10,
          10,
          10,
          10,
          10,
          20,
          20,
          20,
          20,
          20,
          20,
          20,
          20,
          20,
          20
         ],
         "xaxis": "x",
         "y": [
          0.8,
          0.7,
          0.9,
          0.65,
          0.85,
          0.8,
          0.8,
          0.9,
          0.7,
          0.8,
          0.85,
          0.65,
          0.6,
          0.8,
          0.55,
          0.75,
          0.6,
          0.7,
          0.6,
          0.6,
          0.6,
          0.65,
          0.5,
          0.6,
          0.5,
          0.44999999999999996,
          0.35,
          0.75,
          0.65,
          0.4,
          0.44999999999999996,
          0.5,
          0.65,
          0.35,
          0.65,
          0.44999999999999996,
          0.65,
          0.4,
          0.5,
          0.55,
          0.44999999999999996,
          0.30000000000000004,
          0.7,
          0.4,
          0.44999999999999996,
          0.6,
          0.65,
          0.4,
          0.5,
          0.5
         ],
         "yaxis": "y"
        },
        {
         "line": {
          "color": "#aa6464"
         },
         "mode": "markers",
         "name": "average",
         "type": "scatter",
         "x": [
          1,
          3,
          5,
          10,
          20
         ],
         "y": [
          0.79,
          0.67,
          0.545,
          0.515,
          0.495
         ]
        },
        {
         "line": {
          "dash": "dot"
         },
         "name": "(0.424±0.053)(0.712±0.060)^m + (0.494±0.022)",
         "type": "scatter",
         "x": [
          1,
          1.1919191919191918,
          1.3838383838383839,
          1.5757575757575757,
          1.7676767676767677,
          1.9595959595959596,
          2.1515151515151514,
          2.3434343434343434,
          2.5353535353535355,
          2.727272727272727,
          2.919191919191919,
          3.111111111111111,
          3.3030303030303028,
          3.494949494949495,
          3.686868686868687,
          3.8787878787878785,
          4.070707070707071,
          4.262626262626263,
          4.454545454545454,
          4.646464646464646,
          4.838383838383838,
          5.03030303030303,
          5.222222222222222,
          5.4141414141414135,
          5.6060606060606055,
          5.797979797979798,
          5.98989898989899,
          6.181818181818182,
          6.373737373737374,
          6.565656565656565,
          6.757575757575757,
          6.949494949494949,
          7.141414141414141,
          7.333333333333333,
          7.525252525252525,
          7.717171717171717,
          7.909090909090908,
          8.1010101010101,
          8.292929292929292,
          8.484848484848484,
          8.676767676767676,
          8.868686868686869,
          9.06060606060606,
          9.252525252525253,
          9.444444444444445,
          9.636363636363635,
          9.828282828282827,
          10.020202020202019,
          10.212121212121211,
          10.404040404040403,
          10.595959595959595,
          10.787878787878787,
          10.97979797979798,
          11.171717171717171,
          11.363636363636363,
          11.555555555555555,
          11.747474747474747,
          11.93939393939394,
          12.13131313131313,
          12.323232323232322,
          12.515151515151514,
          12.707070707070706,
          12.898989898989898,
          13.09090909090909,
          13.282828282828282,
          13.474747474747474,
          13.666666666666666,
          13.858585858585858,
          14.05050505050505,
          14.242424242424242,
          14.434343434343434,
          14.626262626262625,
          14.818181818181817,
          15.010101010101009,
          15.2020202020202,
          15.393939393939393,
          15.585858585858585,
          15.777777777777777,
          15.969696969696969,
          16.16161616161616,
          16.353535353535353,
          16.545454545454547,
          16.737373737373737,
          16.929292929292927,
          17.12121212121212,
          17.31313131313131,
          17.505050505050505,
          17.696969696969695,
          17.88888888888889,
          18.08080808080808,
          18.27272727272727,
          18.464646464646464,
          18.656565656565654,
          18.848484848484848,
          19.040404040404038,
          19.232323232323232,
          19.424242424242422,
          19.616161616161616,
          19.808080808080806,
          20
         ],
         "y": [
          0.7955026797726422,
          0.7764382300168057,
          0.7585775590751457,
          0.7418446572305177,
          0.7261683142165001,
          0.7114818161676258,
          0.6977226617049606,
          0.684832295948776,
          0.6727558613263518,
          0.661441964114419,
          0.650842455722721,
          0.6409122277878958,
          0.631609020205663,
          0.6228932412843572,
          0.6147277992544322,
          0.6070779444168941,
          0.5999111212588901,
          0.5931968299071037,
          0.586906496329342,
          0.5810133507319308,
          0.575492313635414,
          0.5703198891437291,
          0.5654740649526437,
          0.5609342186719182,
          0.5566810300625311,
          0.5526963988154728,
          0.5489633675222,
          0.5454660495089354,
          0.5421895612276969,
          0.5391199589163326,
          0.5362441792580053,
          0.5335499837875916,
          0.5310259068084049,
          0.5286612065975912,
          0.5264458196925437,
          0.5243703180637909,
          0.5224258689921,
          0.5206041974790443,
          0.5188975510310648,
          0.517298666667157,
          0.5158007400097783,
          0.5143973963274362,
          0.5130826634057217,
          0.5118509461313367,
          0.5106970026809513,
          0.509615922213559,
          0.508603103971394,
          0.5076542377004709,
          0.5067652853074228,
          0.5059324636745732,
          0.5051522285601102,
          0.5044212595148437,
          0.5037364457513599,
          0.5030948729054318,
          0.5024938106333503,
          0.5019307009923911,
          0.5014031475549693,
          0.5009089052101543,
          0.5004458706091439,
          0.5000120732140358,
          0.4996056669118031,
          0.49922492215778386,
          0.49886821861525343,
          0.4985340382597512,
          0.49822095891881896,
          0.497927648219657,
          0.4976528579189406,
          0.4973954185906666,
          0.4971542346494235,
          0.49692827968790476,
          0.4967165921088239,
          0.4965182710326417,
          0.4963324724636899,
          0.4961584056983765,
          0.4959953299601853,
          0.49584255124715115,
          0.4956994193783933,
          0.4955653252271385,
          0.4954396981284581,
          0.49532200345068755,
          0.4952117403201925,
          0.4951084394897992,
          0.4950116613418178,
          0.4949209940171597,
          0.4948360516625878,
          0.4947564727886392,
          0.4946819187312336,
          0.49461207221041914,
          0.4945466359801233,
          0.4944853315631616,
          0.4944278980661215,
          0.49437409106907726,
          0.49432368158541135,
          0.4942764550873153,
          0.49423221059282313,
          0.49419075981049126,
          0.4941519263380866,
          0.4941155449118705,
          0.4940814607032856,
          0.4940495286600513
         ]
        }
       ],
       "layout": {
        "coloraxis": {
         "colorbar": {
          "x": -0.15
         }
        },
        "legend": {
         "tracegroupgap": 0
        },
        "margin": {
         "t": 60
        },
        "template": {
         "data": {
          "bar": [
           {
            "error_x": {
             "color": "#2a3f5f"
            },
            "error_y": {
             "color": "#2a3f5f"
            },
            "marker": {
             "line": {
              "color": "#E5ECF6",
              "width": 0.5
             },
             "pattern": {
              "fillmode": "overlay",
              "size": 10,
              "solidity": 0.2
             }
            },
            "type": "bar"
           }
          ],
          "barpolar": [
           {
            "marker": {
             "line": {
              "color": "#E5ECF6",
              "width": 0.5
             },
             "pattern": {
              "fillmode": "overlay",
              "size": 10,
              "solidity": 0.2
             }
            },
            "type": "barpolar"
           }
          ],
          "carpet": [
           {
            "aaxis": {
             "endlinecolor": "#2a3f5f",
             "gridcolor": "white",
             "linecolor": "white",
             "minorgridcolor": "white",
             "startlinecolor": "#2a3f5f"
            },
            "baxis": {
             "endlinecolor": "#2a3f5f",
             "gridcolor": "white",
             "linecolor": "white",
             "minorgridcolor": "white",
             "startlinecolor": "#2a3f5f"
            },
            "type": "carpet"
           }
          ],
          "choropleth": [
           {
            "colorbar": {
             "outlinewidth": 0,
             "ticks": ""
            },
            "type": "choropleth"
           }
          ],
          "contour": [
           {
            "colorbar": {
             "outlinewidth": 0,
             "ticks": ""
            },
            "colorscale": [
             [
              0,
              "#0d0887"
             ],
             [
              0.1111111111111111,
              "#46039f"
             ],
             [
              0.2222222222222222,
              "#7201a8"
             ],
             [
              0.3333333333333333,
              "#9c179e"
             ],
             [
              0.4444444444444444,
              "#bd3786"
             ],
             [
              0.5555555555555556,
              "#d8576b"
             ],
             [
              0.6666666666666666,
              "#ed7953"
             ],
             [
              0.7777777777777778,
              "#fb9f3a"
             ],
             [
              0.8888888888888888,
              "#fdca26"
             ],
             [
              1,
              "#f0f921"
             ]
            ],
            "type": "contour"
           }
          ],
          "contourcarpet": [
           {
            "colorbar": {
             "outlinewidth": 0,
             "ticks": ""
            },
            "type": "contourcarpet"
           }
          ],
          "heatmap": [
           {
            "colorbar": {
             "outlinewidth": 0,
             "ticks": ""
            },
            "colorscale": [
             [
              0,
              "#0d0887"
             ],
             [
              0.1111111111111111,
              "#46039f"
             ],
             [
              0.2222222222222222,
              "#7201a8"
             ],
             [
              0.3333333333333333,
              "#9c179e"
             ],
             [
              0.4444444444444444,
              "#bd3786"
             ],
             [
              0.5555555555555556,
              "#d8576b"
             ],
             [
              0.6666666666666666,
              "#ed7953"
             ],
             [
              0.7777777777777778,
              "#fb9f3a"
             ],
             [
              0.8888888888888888,
              "#fdca26"
             ],
             [
              1,
              "#f0f921"
             ]
            ],
            "type": "heatmap"
           }
          ],
          "heatmapgl": [
           {
            "colorbar": {
             "outlinewidth": 0,
             "ticks": ""
            },
            "colorscale": [
             [
              0,
              "#0d0887"
             ],
             [
              0.1111111111111111,
              "#46039f"
             ],
             [
              0.2222222222222222,
              "#7201a8"
             ],
             [
              0.3333333333333333,
              "#9c179e"
             ],
             [
              0.4444444444444444,
              "#bd3786"
             ],
             [
              0.5555555555555556,
              "#d8576b"
             ],
             [
              0.6666666666666666,
              "#ed7953"
             ],
             [
              0.7777777777777778,
              "#fb9f3a"
             ],
             [
              0.8888888888888888,
              "#fdca26"
             ],
             [
              1,
              "#f0f921"
             ]
            ],
            "type": "heatmapgl"
           }
          ],
          "histogram": [
           {
            "marker": {
             "pattern": {
              "fillmode": "overlay",
              "size": 10,
              "solidity": 0.2
             }
            },
            "type": "histogram"
           }
          ],
          "histogram2d": [
           {
            "colorbar": {
             "outlinewidth": 0,
             "ticks": ""
            },
            "colorscale": [
             [
              0,
              "#0d0887"
             ],
             [
              0.1111111111111111,
              "#46039f"
             ],
             [
              0.2222222222222222,
              "#7201a8"
             ],
             [
              0.3333333333333333,
              "#9c179e"
             ],
             [
              0.4444444444444444,
              "#bd3786"
             ],
             [
              0.5555555555555556,
              "#d8576b"
             ],
             [
              0.6666666666666666,
              "#ed7953"
             ],
             [
              0.7777777777777778,
              "#fb9f3a"
             ],
             [
              0.8888888888888888,
              "#fdca26"
             ],
             [
              1,
              "#f0f921"
             ]
            ],
            "type": "histogram2d"
           }
          ],
          "histogram2dcontour": [
           {
            "colorbar": {
             "outlinewidth": 0,
             "ticks": ""
            },
            "colorscale": [
             [
              0,
              "#0d0887"
             ],
             [
              0.1111111111111111,
              "#46039f"
             ],
             [
              0.2222222222222222,
              "#7201a8"
             ],
             [
              0.3333333333333333,
              "#9c179e"
             ],
             [
              0.4444444444444444,
              "#bd3786"
             ],
             [
              0.5555555555555556,
              "#d8576b"
             ],
             [
              0.6666666666666666,
              "#ed7953"
             ],
             [
              0.7777777777777778,
              "#fb9f3a"
             ],
             [
              0.8888888888888888,
              "#fdca26"
             ],
             [
              1,
              "#f0f921"
             ]
            ],
            "type": "histogram2dcontour"
           }
          ],
          "mesh3d": [
           {
            "colorbar": {
             "outlinewidth": 0,
             "ticks": ""
            },
            "type": "mesh3d"
           }
          ],
          "parcoords": [
           {
            "line": {
             "colorbar": {
              "outlinewidth": 0,
              "ticks": ""
             }
            },
            "type": "parcoords"
           }
          ],
          "pie": [
           {
            "automargin": true,
            "type": "pie"
           }
          ],
          "scatter": [
           {
            "fillpattern": {
             "fillmode": "overlay",
             "size": 10,
             "solidity": 0.2
            },
            "type": "scatter"
           }
          ],
          "scatter3d": [
           {
            "line": {
             "colorbar": {
              "outlinewidth": 0,
              "ticks": ""
             }
            },
            "marker": {
             "colorbar": {
              "outlinewidth": 0,
              "ticks": ""
             }
            },
            "type": "scatter3d"
           }
          ],
          "scattercarpet": [
           {
            "marker": {
             "colorbar": {
              "outlinewidth": 0,
              "ticks": ""
             }
            },
            "type": "scattercarpet"
           }
          ],
          "scattergeo": [
           {
            "marker": {
             "colorbar": {
              "outlinewidth": 0,
              "ticks": ""
             }
            },
            "type": "scattergeo"
           }
          ],
          "scattergl": [
           {
            "marker": {
             "colorbar": {
              "outlinewidth": 0,
              "ticks": ""
             }
            },
            "type": "scattergl"
           }
          ],
          "scattermapbox": [
           {
            "marker": {
             "colorbar": {
              "outlinewidth": 0,
              "ticks": ""
             }
            },
            "type": "scattermapbox"
           }
          ],
          "scatterpolar": [
           {
            "marker": {
             "colorbar": {
              "outlinewidth": 0,
              "ticks": ""
             }
            },
            "type": "scatterpolar"
           }
          ],
          "scatterpolargl": [
           {
            "marker": {
             "colorbar": {
              "outlinewidth": 0,
              "ticks": ""
             }
            },
            "type": "scatterpolargl"
           }
          ],
          "scatterternary": [
           {
            "marker": {
             "colorbar": {
              "outlinewidth": 0,
              "ticks": ""
             }
            },
            "type": "scatterternary"
           }
          ],
          "surface": [
           {
            "colorbar": {
             "outlinewidth": 0,
             "ticks": ""
            },
            "colorscale": [
             [
              0,
              "#0d0887"
             ],
             [
              0.1111111111111111,
              "#46039f"
             ],
             [
              0.2222222222222222,
              "#7201a8"
             ],
             [
              0.3333333333333333,
              "#9c179e"
             ],
             [
              0.4444444444444444,
              "#bd3786"
             ],
             [
              0.5555555555555556,
              "#d8576b"
             ],
             [
              0.6666666666666666,
              "#ed7953"
             ],
             [
              0.7777777777777778,
              "#fb9f3a"
             ],
             [
              0.8888888888888888,
              "#fdca26"
             ],
             [
              1,
              "#f0f921"
             ]
            ],
            "type": "surface"
           }
          ],
          "table": [
           {
            "cells": {
             "fill": {
              "color": "#EBF0F8"
             },
             "line": {
              "color": "white"
             }
            },
            "header": {
             "fill": {
              "color": "#C8D4E3"
             },
             "line": {
              "color": "white"
             }
            },
            "type": "table"
           }
          ]
         },
         "layout": {
          "annotationdefaults": {
           "arrowcolor": "#2a3f5f",
           "arrowhead": 0,
           "arrowwidth": 1
          },
          "autotypenumbers": "strict",
          "coloraxis": {
           "colorbar": {
            "outlinewidth": 0,
            "ticks": ""
           }
          },
          "colorscale": {
           "diverging": [
            [
             0,
             "#8e0152"
            ],
            [
             0.1,
             "#c51b7d"
            ],
            [
             0.2,
             "#de77ae"
            ],
            [
             0.3,
             "#f1b6da"
            ],
            [
             0.4,
             "#fde0ef"
            ],
            [
             0.5,
             "#f7f7f7"
            ],
            [
             0.6,
             "#e6f5d0"
            ],
            [
             0.7,
             "#b8e186"
            ],
            [
             0.8,
             "#7fbc41"
            ],
            [
             0.9,
             "#4d9221"
            ],
            [
             1,
             "#276419"
            ]
           ],
           "sequential": [
            [
             0,
             "#0d0887"
            ],
            [
             0.1111111111111111,
             "#46039f"
            ],
            [
             0.2222222222222222,
             "#7201a8"
            ],
            [
             0.3333333333333333,
             "#9c179e"
            ],
            [
             0.4444444444444444,
             "#bd3786"
            ],
            [
             0.5555555555555556,
             "#d8576b"
            ],
            [
             0.6666666666666666,
             "#ed7953"
            ],
            [
             0.7777777777777778,
             "#fb9f3a"
            ],
            [
             0.8888888888888888,
             "#fdca26"
            ],
            [
             1,
             "#f0f921"
            ]
           ],
           "sequentialminus": [
            [
             0,
             "#0d0887"
            ],
            [
             0.1111111111111111,
             "#46039f"
            ],
            [
             0.2222222222222222,
             "#7201a8"
            ],
            [
             0.3333333333333333,
             "#9c179e"
            ],
            [
             0.4444444444444444,
             "#bd3786"
            ],
            [
             0.5555555555555556,
             "#d8576b"
            ],
            [
             0.6666666666666666,
             "#ed7953"
            ],
            [
             0.7777777777777778,
             "#fb9f3a"
            ],
            [
             0.8888888888888888,
             "#fdca26"
            ],
            [
             1,
             "#f0f921"
            ]
           ]
          },
          "colorway": [
           "#636efa",
           "#EF553B",
           "#00cc96",
           "#ab63fa",
           "#FFA15A",
           "#19d3f3",
           "#FF6692",
           "#B6E880",
           "#FF97FF",
           "#FECB52"
          ],
          "font": {
           "color": "#2a3f5f"
          },
          "geo": {
           "bgcolor": "white",
           "lakecolor": "white",
           "landcolor": "#E5ECF6",
           "showlakes": true,
           "showland": true,
           "subunitcolor": "white"
          },
          "hoverlabel": {
           "align": "left"
          },
          "hovermode": "closest",
          "mapbox": {
           "style": "light"
          },
          "paper_bgcolor": "white",
          "plot_bgcolor": "#E5ECF6",
          "polar": {
           "angularaxis": {
            "gridcolor": "white",
            "linecolor": "white",
            "ticks": ""
           },
           "bgcolor": "#E5ECF6",
           "radialaxis": {
            "gridcolor": "white",
            "linecolor": "white",
            "ticks": ""
           }
          },
          "scene": {
           "xaxis": {
            "backgroundcolor": "#E5ECF6",
            "gridcolor": "white",
            "gridwidth": 2,
            "linecolor": "white",
            "showbackground": true,
            "ticks": "",
            "zerolinecolor": "white"
           },
           "yaxis": {
            "backgroundcolor": "#E5ECF6",
            "gridcolor": "white",
            "gridwidth": 2,
            "linecolor": "white",
            "showbackground": true,
            "ticks": "",
            "zerolinecolor": "white"
           },
           "zaxis": {
            "backgroundcolor": "#E5ECF6",
            "gridcolor": "white",
            "gridwidth": 2,
            "linecolor": "white",
            "showbackground": true,
            "ticks": "",
            "zerolinecolor": "white"
           }
          },
          "shapedefaults": {
           "line": {
            "color": "#2a3f5f"
           }
          },
          "ternary": {
           "aaxis": {
            "gridcolor": "white",
            "linecolor": "white",
            "ticks": ""
           },
           "baxis": {
            "gridcolor": "white",
            "linecolor": "white",
            "ticks": ""
           },
           "bgcolor": "#E5ECF6",
           "caxis": {
            "gridcolor": "white",
            "linecolor": "white",
            "ticks": ""
           }
          },
          "title": {
           "x": 0.05
          },
          "xaxis": {
           "automargin": true,
           "gridcolor": "white",
           "linecolor": "white",
           "ticks": "",
           "title": {
            "standoff": 15
           },
           "zerolinecolor": "white",
           "zerolinewidth": 2
          },
          "yaxis": {
           "automargin": true,
           "gridcolor": "white",
           "linecolor": "white",
           "ticks": "",
           "title": {
            "standoff": 15
           },
           "zerolinecolor": "white",
           "zerolinewidth": 2
          }
         }
        },
        "xaxis": {
         "anchor": "y",
         "domain": [
          0,
          1
         ],
         "title": {
          "text": "x"
         }
        },
        "yaxis": {
         "anchor": "x",
         "domain": [
          0,
          1
         ],
         "title": {
          "text": "y"
         }
        }
       }
      }
     },
     "metadata": {},
     "output_type": "display_data"
    }
   ],
   "source": [
    "from qibocal.protocols.characterization.RB.standard_rb import (\n",
    "    StandardRBData,\n",
    "    StandardRBParameters,\n",
    "    aquire,\n",
    "    extract,\n",
    "    plot,\n",
    "    setup_scan,\n",
    "    aggregate,\n",
    "\n",
    ")\n",
    "niter = 10\n",
    "nshots = 20\n",
    "depths = [1,3,5,10,20]\n",
    "nqubits = 1\n",
    "qubits = [0]\n",
    "noise_model = 'PauliErrorOnAll'\n",
    "\n",
    "\n",
    "params = StandardRBParameters(nqubits, qubits, depths, niter, nshots, noise_model)\n",
    "data = aquire(params, None, None)\n",
    "result = extract(data)\n",
    "\n",
    "list_figs, str_table = plot(data, result, None)\n",
    "list_figs[0].show()"
   ]
  },
  {
   "cell_type": "code",
   "execution_count": 10,
   "metadata": {},
   "outputs": [
    {
     "data": {
      "application/vnd.plotly.v1+json": {
       "config": {
        "plotlyServerURL": "https://plot.ly"
       },
       "data": [
        {
         "hovertemplate": "x=%{x}<br>y=%{y}<extra></extra>",
         "legendgroup": "",
         "marker": {
          "color": "#636efa",
          "symbol": "circle"
         },
         "mode": "markers",
         "name": "",
         "orientation": "v",
         "showlegend": false,
         "type": "scatter",
         "x": [
          1,
          1,
          1,
          1,
          1,
          1,
          1,
          1,
          1,
          1,
          3,
          3,
          3,
          3,
          3,
          3,
          3,
          3,
          3,
          3,
          5,
          5,
          5,
          5,
          5,
          5,
          5,
          5,
          5,
          5,
          10,
          10,
          10,
          10,
          10,
          10,
          10,
          10,
          10,
          10,
          20,
          20,
          20,
          20,
          20,
          20,
          20,
          20,
          20,
          20
         ],
         "xaxis": "x",
         "y": [
          0.8,
          0.7,
          0.9,
          0.65,
          0.85,
          0.8,
          0.8,
          0.9,
          0.7,
          0.8,
          0.85,
          0.65,
          0.6,
          0.8,
          0.55,
          0.75,
          0.6,
          0.7,
          0.6,
          0.6,
          0.6,
          0.65,
          0.5,
          0.6,
          0.5,
          0.44999999999999996,
          0.35,
          0.75,
          0.65,
          0.4,
          0.44999999999999996,
          0.5,
          0.65,
          0.35,
          0.65,
          0.44999999999999996,
          0.65,
          0.4,
          0.5,
          0.55,
          0.44999999999999996,
          0.30000000000000004,
          0.7,
          0.4,
          0.44999999999999996,
          0.6,
          0.65,
          0.4,
          0.5,
          0.5
         ],
         "yaxis": "y"
        },
        {
         "line": {
          "color": "#aa6464"
         },
         "mode": "markers",
         "name": "average",
         "type": "scatter",
         "x": [
          1,
          3,
          5,
          10,
          20
         ],
         "y": [
          0.79,
          0.67,
          0.545,
          0.515,
          0.495
         ]
        },
        {
         "line": {
          "dash": "dot"
         },
         "name": "(0.424±0.053)(0.712±0.060)^m + (0.494±0.022)",
         "type": "scatter",
         "x": [
          1,
          1.1919191919191918,
          1.3838383838383839,
          1.5757575757575757,
          1.7676767676767677,
          1.9595959595959596,
          2.1515151515151514,
          2.3434343434343434,
          2.5353535353535355,
          2.727272727272727,
          2.919191919191919,
          3.111111111111111,
          3.3030303030303028,
          3.494949494949495,
          3.686868686868687,
          3.8787878787878785,
          4.070707070707071,
          4.262626262626263,
          4.454545454545454,
          4.646464646464646,
          4.838383838383838,
          5.03030303030303,
          5.222222222222222,
          5.4141414141414135,
          5.6060606060606055,
          5.797979797979798,
          5.98989898989899,
          6.181818181818182,
          6.373737373737374,
          6.565656565656565,
          6.757575757575757,
          6.949494949494949,
          7.141414141414141,
          7.333333333333333,
          7.525252525252525,
          7.717171717171717,
          7.909090909090908,
          8.1010101010101,
          8.292929292929292,
          8.484848484848484,
          8.676767676767676,
          8.868686868686869,
          9.06060606060606,
          9.252525252525253,
          9.444444444444445,
          9.636363636363635,
          9.828282828282827,
          10.020202020202019,
          10.212121212121211,
          10.404040404040403,
          10.595959595959595,
          10.787878787878787,
          10.97979797979798,
          11.171717171717171,
          11.363636363636363,
          11.555555555555555,
          11.747474747474747,
          11.93939393939394,
          12.13131313131313,
          12.323232323232322,
          12.515151515151514,
          12.707070707070706,
          12.898989898989898,
          13.09090909090909,
          13.282828282828282,
          13.474747474747474,
          13.666666666666666,
          13.858585858585858,
          14.05050505050505,
          14.242424242424242,
          14.434343434343434,
          14.626262626262625,
          14.818181818181817,
          15.010101010101009,
          15.2020202020202,
          15.393939393939393,
          15.585858585858585,
          15.777777777777777,
          15.969696969696969,
          16.16161616161616,
          16.353535353535353,
          16.545454545454547,
          16.737373737373737,
          16.929292929292927,
          17.12121212121212,
          17.31313131313131,
          17.505050505050505,
          17.696969696969695,
          17.88888888888889,
          18.08080808080808,
          18.27272727272727,
          18.464646464646464,
          18.656565656565654,
          18.848484848484848,
          19.040404040404038,
          19.232323232323232,
          19.424242424242422,
          19.616161616161616,
          19.808080808080806,
          20
         ],
         "y": [
          0.7955026384843605,
          0.7764382063898773,
          0.7585775508133797,
          0.7418446622572826,
          0.7261683306561515,
          0.7114818423284037,
          0.6977226960632467,
          0.684832337134604,
          0.6727559081100785,
          0.6614420153944657,
          0.6508425105143031,
          0.6409122852126655,
          0.6316090794821947,
          0.6228933017194089,
          0.6147278602349254,
          0.6070780054025539,
          0.5999111817754953,
          0.5931968895403001,
          0.586906554718972,
          0.5810134075668414,
          0.5754923686487045,
          0.570319942108403,
          0.5654741156776333,
          0.560934266998453,
          0.55668107586082,
          0.5526964419816786,
          0.5489634079756782,
          0.5454660871897201,
          0.5421895960942105,
          0.5391199909433025,
          0.5362442084345713,
          0.5335500101155861,
          0.5310259303007934,
          0.528661227277059,
          0.5264458375902168,
          0.5243703332180796,
          0.522425881447655,
          0.5206042072858155,
          0.5188975582434537,
          0.5172986713432558,
          0.5158007422106868,
          0.5143973961166504,
          0.5130826608485874,
          0.5118509412945631,
          0.5106969956321779,
          0.5096159130209722,
          0.5086030927033887,
          0.5076542244253521,
          0.5067652700931441,
          0.5059324465885091,
          0.5051522096688581,
          0.5044212388840537,
          0.5037364234455884,
          0.5030948489880187,
          0.5024937851663144,
          0.5019306740363446,
          0.5014031191690486,
          0.5009088754519642,
          0.5004458395347157,
          0.5000120408777959,
          0.49960563336655234,
          0.4992248874546863,
          0.49886818280383194,
          0.498534001387891,
          0.498220921032777,
          0.4979276093640766,
          0.49765281813687073,
          0.49739537792358546,
          0.497154193137265,
          0.49692823736908837,
          0.4967165490202865,
          0.4965182272098717,
          0.49633242794076315,
          0.49615836050799267,
          0.4959952841337062,
          0.4958425048146392,
          0.4956993723686506,
          0.49556527766774605,
          0.4954396500458153,
          0.49532195487005143,
          0.4952116912657166,
          0.4951083899845724,
          0.4950116114079023,
          0.49492094367562883,
          0.4948360009335627,
          0.4947564216913253,
          0.4946818672839557,
          0.4946120204306564,
          0.49454658388454276,
          0.49448527916765117,
          0.4944278453858218,
          0.49437403811841274,
          0.49432362837812027,
          0.494276401636479,
          0.49423215691089395,
          0.4941907059093202,
          0.4941518722289493,
          0.4941154906054928,
          0.49408140620986807,
          0.49404947398929266
         ]
        }
       ],
       "layout": {
        "coloraxis": {
         "colorbar": {
          "x": -0.15
         }
        },
        "legend": {
         "tracegroupgap": 0
        },
        "margin": {
         "t": 60
        },
        "template": {
         "data": {
          "bar": [
           {
            "error_x": {
             "color": "#2a3f5f"
            },
            "error_y": {
             "color": "#2a3f5f"
            },
            "marker": {
             "line": {
              "color": "#E5ECF6",
              "width": 0.5
             },
             "pattern": {
              "fillmode": "overlay",
              "size": 10,
              "solidity": 0.2
             }
            },
            "type": "bar"
           }
          ],
          "barpolar": [
           {
            "marker": {
             "line": {
              "color": "#E5ECF6",
              "width": 0.5
             },
             "pattern": {
              "fillmode": "overlay",
              "size": 10,
              "solidity": 0.2
             }
            },
            "type": "barpolar"
           }
          ],
          "carpet": [
           {
            "aaxis": {
             "endlinecolor": "#2a3f5f",
             "gridcolor": "white",
             "linecolor": "white",
             "minorgridcolor": "white",
             "startlinecolor": "#2a3f5f"
            },
            "baxis": {
             "endlinecolor": "#2a3f5f",
             "gridcolor": "white",
             "linecolor": "white",
             "minorgridcolor": "white",
             "startlinecolor": "#2a3f5f"
            },
            "type": "carpet"
           }
          ],
          "choropleth": [
           {
            "colorbar": {
             "outlinewidth": 0,
             "ticks": ""
            },
            "type": "choropleth"
           }
          ],
          "contour": [
           {
            "colorbar": {
             "outlinewidth": 0,
             "ticks": ""
            },
            "colorscale": [
             [
              0,
              "#0d0887"
             ],
             [
              0.1111111111111111,
              "#46039f"
             ],
             [
              0.2222222222222222,
              "#7201a8"
             ],
             [
              0.3333333333333333,
              "#9c179e"
             ],
             [
              0.4444444444444444,
              "#bd3786"
             ],
             [
              0.5555555555555556,
              "#d8576b"
             ],
             [
              0.6666666666666666,
              "#ed7953"
             ],
             [
              0.7777777777777778,
              "#fb9f3a"
             ],
             [
              0.8888888888888888,
              "#fdca26"
             ],
             [
              1,
              "#f0f921"
             ]
            ],
            "type": "contour"
           }
          ],
          "contourcarpet": [
           {
            "colorbar": {
             "outlinewidth": 0,
             "ticks": ""
            },
            "type": "contourcarpet"
           }
          ],
          "heatmap": [
           {
            "colorbar": {
             "outlinewidth": 0,
             "ticks": ""
            },
            "colorscale": [
             [
              0,
              "#0d0887"
             ],
             [
              0.1111111111111111,
              "#46039f"
             ],
             [
              0.2222222222222222,
              "#7201a8"
             ],
             [
              0.3333333333333333,
              "#9c179e"
             ],
             [
              0.4444444444444444,
              "#bd3786"
             ],
             [
              0.5555555555555556,
              "#d8576b"
             ],
             [
              0.6666666666666666,
              "#ed7953"
             ],
             [
              0.7777777777777778,
              "#fb9f3a"
             ],
             [
              0.8888888888888888,
              "#fdca26"
             ],
             [
              1,
              "#f0f921"
             ]
            ],
            "type": "heatmap"
           }
          ],
          "heatmapgl": [
           {
            "colorbar": {
             "outlinewidth": 0,
             "ticks": ""
            },
            "colorscale": [
             [
              0,
              "#0d0887"
             ],
             [
              0.1111111111111111,
              "#46039f"
             ],
             [
              0.2222222222222222,
              "#7201a8"
             ],
             [
              0.3333333333333333,
              "#9c179e"
             ],
             [
              0.4444444444444444,
              "#bd3786"
             ],
             [
              0.5555555555555556,
              "#d8576b"
             ],
             [
              0.6666666666666666,
              "#ed7953"
             ],
             [
              0.7777777777777778,
              "#fb9f3a"
             ],
             [
              0.8888888888888888,
              "#fdca26"
             ],
             [
              1,
              "#f0f921"
             ]
            ],
            "type": "heatmapgl"
           }
          ],
          "histogram": [
           {
            "marker": {
             "pattern": {
              "fillmode": "overlay",
              "size": 10,
              "solidity": 0.2
             }
            },
            "type": "histogram"
           }
          ],
          "histogram2d": [
           {
            "colorbar": {
             "outlinewidth": 0,
             "ticks": ""
            },
            "colorscale": [
             [
              0,
              "#0d0887"
             ],
             [
              0.1111111111111111,
              "#46039f"
             ],
             [
              0.2222222222222222,
              "#7201a8"
             ],
             [
              0.3333333333333333,
              "#9c179e"
             ],
             [
              0.4444444444444444,
              "#bd3786"
             ],
             [
              0.5555555555555556,
              "#d8576b"
             ],
             [
              0.6666666666666666,
              "#ed7953"
             ],
             [
              0.7777777777777778,
              "#fb9f3a"
             ],
             [
              0.8888888888888888,
              "#fdca26"
             ],
             [
              1,
              "#f0f921"
             ]
            ],
            "type": "histogram2d"
           }
          ],
          "histogram2dcontour": [
           {
            "colorbar": {
             "outlinewidth": 0,
             "ticks": ""
            },
            "colorscale": [
             [
              0,
              "#0d0887"
             ],
             [
              0.1111111111111111,
              "#46039f"
             ],
             [
              0.2222222222222222,
              "#7201a8"
             ],
             [
              0.3333333333333333,
              "#9c179e"
             ],
             [
              0.4444444444444444,
              "#bd3786"
             ],
             [
              0.5555555555555556,
              "#d8576b"
             ],
             [
              0.6666666666666666,
              "#ed7953"
             ],
             [
              0.7777777777777778,
              "#fb9f3a"
             ],
             [
              0.8888888888888888,
              "#fdca26"
             ],
             [
              1,
              "#f0f921"
             ]
            ],
            "type": "histogram2dcontour"
           }
          ],
          "mesh3d": [
           {
            "colorbar": {
             "outlinewidth": 0,
             "ticks": ""
            },
            "type": "mesh3d"
           }
          ],
          "parcoords": [
           {
            "line": {
             "colorbar": {
              "outlinewidth": 0,
              "ticks": ""
             }
            },
            "type": "parcoords"
           }
          ],
          "pie": [
           {
            "automargin": true,
            "type": "pie"
           }
          ],
          "scatter": [
           {
            "fillpattern": {
             "fillmode": "overlay",
             "size": 10,
             "solidity": 0.2
            },
            "type": "scatter"
           }
          ],
          "scatter3d": [
           {
            "line": {
             "colorbar": {
              "outlinewidth": 0,
              "ticks": ""
             }
            },
            "marker": {
             "colorbar": {
              "outlinewidth": 0,
              "ticks": ""
             }
            },
            "type": "scatter3d"
           }
          ],
          "scattercarpet": [
           {
            "marker": {
             "colorbar": {
              "outlinewidth": 0,
              "ticks": ""
             }
            },
            "type": "scattercarpet"
           }
          ],
          "scattergeo": [
           {
            "marker": {
             "colorbar": {
              "outlinewidth": 0,
              "ticks": ""
             }
            },
            "type": "scattergeo"
           }
          ],
          "scattergl": [
           {
            "marker": {
             "colorbar": {
              "outlinewidth": 0,
              "ticks": ""
             }
            },
            "type": "scattergl"
           }
          ],
          "scattermapbox": [
           {
            "marker": {
             "colorbar": {
              "outlinewidth": 0,
              "ticks": ""
             }
            },
            "type": "scattermapbox"
           }
          ],
          "scatterpolar": [
           {
            "marker": {
             "colorbar": {
              "outlinewidth": 0,
              "ticks": ""
             }
            },
            "type": "scatterpolar"
           }
          ],
          "scatterpolargl": [
           {
            "marker": {
             "colorbar": {
              "outlinewidth": 0,
              "ticks": ""
             }
            },
            "type": "scatterpolargl"
           }
          ],
          "scatterternary": [
           {
            "marker": {
             "colorbar": {
              "outlinewidth": 0,
              "ticks": ""
             }
            },
            "type": "scatterternary"
           }
          ],
          "surface": [
           {
            "colorbar": {
             "outlinewidth": 0,
             "ticks": ""
            },
            "colorscale": [
             [
              0,
              "#0d0887"
             ],
             [
              0.1111111111111111,
              "#46039f"
             ],
             [
              0.2222222222222222,
              "#7201a8"
             ],
             [
              0.3333333333333333,
              "#9c179e"
             ],
             [
              0.4444444444444444,
              "#bd3786"
             ],
             [
              0.5555555555555556,
              "#d8576b"
             ],
             [
              0.6666666666666666,
              "#ed7953"
             ],
             [
              0.7777777777777778,
              "#fb9f3a"
             ],
             [
              0.8888888888888888,
              "#fdca26"
             ],
             [
              1,
              "#f0f921"
             ]
            ],
            "type": "surface"
           }
          ],
          "table": [
           {
            "cells": {
             "fill": {
              "color": "#EBF0F8"
             },
             "line": {
              "color": "white"
             }
            },
            "header": {
             "fill": {
              "color": "#C8D4E3"
             },
             "line": {
              "color": "white"
             }
            },
            "type": "table"
           }
          ]
         },
         "layout": {
          "annotationdefaults": {
           "arrowcolor": "#2a3f5f",
           "arrowhead": 0,
           "arrowwidth": 1
          },
          "autotypenumbers": "strict",
          "coloraxis": {
           "colorbar": {
            "outlinewidth": 0,
            "ticks": ""
           }
          },
          "colorscale": {
           "diverging": [
            [
             0,
             "#8e0152"
            ],
            [
             0.1,
             "#c51b7d"
            ],
            [
             0.2,
             "#de77ae"
            ],
            [
             0.3,
             "#f1b6da"
            ],
            [
             0.4,
             "#fde0ef"
            ],
            [
             0.5,
             "#f7f7f7"
            ],
            [
             0.6,
             "#e6f5d0"
            ],
            [
             0.7,
             "#b8e186"
            ],
            [
             0.8,
             "#7fbc41"
            ],
            [
             0.9,
             "#4d9221"
            ],
            [
             1,
             "#276419"
            ]
           ],
           "sequential": [
            [
             0,
             "#0d0887"
            ],
            [
             0.1111111111111111,
             "#46039f"
            ],
            [
             0.2222222222222222,
             "#7201a8"
            ],
            [
             0.3333333333333333,
             "#9c179e"
            ],
            [
             0.4444444444444444,
             "#bd3786"
            ],
            [
             0.5555555555555556,
             "#d8576b"
            ],
            [
             0.6666666666666666,
             "#ed7953"
            ],
            [
             0.7777777777777778,
             "#fb9f3a"
            ],
            [
             0.8888888888888888,
             "#fdca26"
            ],
            [
             1,
             "#f0f921"
            ]
           ],
           "sequentialminus": [
            [
             0,
             "#0d0887"
            ],
            [
             0.1111111111111111,
             "#46039f"
            ],
            [
             0.2222222222222222,
             "#7201a8"
            ],
            [
             0.3333333333333333,
             "#9c179e"
            ],
            [
             0.4444444444444444,
             "#bd3786"
            ],
            [
             0.5555555555555556,
             "#d8576b"
            ],
            [
             0.6666666666666666,
             "#ed7953"
            ],
            [
             0.7777777777777778,
             "#fb9f3a"
            ],
            [
             0.8888888888888888,
             "#fdca26"
            ],
            [
             1,
             "#f0f921"
            ]
           ]
          },
          "colorway": [
           "#636efa",
           "#EF553B",
           "#00cc96",
           "#ab63fa",
           "#FFA15A",
           "#19d3f3",
           "#FF6692",
           "#B6E880",
           "#FF97FF",
           "#FECB52"
          ],
          "font": {
           "color": "#2a3f5f"
          },
          "geo": {
           "bgcolor": "white",
           "lakecolor": "white",
           "landcolor": "#E5ECF6",
           "showlakes": true,
           "showland": true,
           "subunitcolor": "white"
          },
          "hoverlabel": {
           "align": "left"
          },
          "hovermode": "closest",
          "mapbox": {
           "style": "light"
          },
          "paper_bgcolor": "white",
          "plot_bgcolor": "#E5ECF6",
          "polar": {
           "angularaxis": {
            "gridcolor": "white",
            "linecolor": "white",
            "ticks": ""
           },
           "bgcolor": "#E5ECF6",
           "radialaxis": {
            "gridcolor": "white",
            "linecolor": "white",
            "ticks": ""
           }
          },
          "scene": {
           "xaxis": {
            "backgroundcolor": "#E5ECF6",
            "gridcolor": "white",
            "gridwidth": 2,
            "linecolor": "white",
            "showbackground": true,
            "ticks": "",
            "zerolinecolor": "white"
           },
           "yaxis": {
            "backgroundcolor": "#E5ECF6",
            "gridcolor": "white",
            "gridwidth": 2,
            "linecolor": "white",
            "showbackground": true,
            "ticks": "",
            "zerolinecolor": "white"
           },
           "zaxis": {
            "backgroundcolor": "#E5ECF6",
            "gridcolor": "white",
            "gridwidth": 2,
            "linecolor": "white",
            "showbackground": true,
            "ticks": "",
            "zerolinecolor": "white"
           }
          },
          "shapedefaults": {
           "line": {
            "color": "#2a3f5f"
           }
          },
          "ternary": {
           "aaxis": {
            "gridcolor": "white",
            "linecolor": "white",
            "ticks": ""
           },
           "baxis": {
            "gridcolor": "white",
            "linecolor": "white",
            "ticks": ""
           },
           "bgcolor": "#E5ECF6",
           "caxis": {
            "gridcolor": "white",
            "linecolor": "white",
            "ticks": ""
           }
          },
          "title": {
           "x": 0.05
          },
          "xaxis": {
           "automargin": true,
           "gridcolor": "white",
           "linecolor": "white",
           "ticks": "",
           "title": {
            "standoff": 15
           },
           "zerolinecolor": "white",
           "zerolinewidth": 2
          },
          "yaxis": {
           "automargin": true,
           "gridcolor": "white",
           "linecolor": "white",
           "ticks": "",
           "title": {
            "standoff": 15
           },
           "zerolinecolor": "white",
           "zerolinewidth": 2
          }
         }
        },
        "xaxis": {
         "anchor": "y",
         "domain": [
          0,
          1
         ],
         "title": {
          "text": "x"
         }
        },
        "yaxis": {
         "anchor": "x",
         "domain": [
          0,
          1
         ],
         "title": {
          "text": "y"
         }
        }
       }
      }
     },
     "metadata": {},
     "output_type": "display_data"
    }
   ],
   "source": [
    "from scipy.optimize import minimize, Bounds\n",
    "import numpy as np\n",
    "result.reset_fittingparams()\n",
    "result.fit(bounds = Bounds((0,-np.inf,-np.inf),(np.inf,np.inf,np.inf), keep_feasible=False))#, max_nfev=1000000000000)\n",
    "result.plot().show()\n"
   ]
  },
  {
   "cell_type": "code",
   "execution_count": 14,
   "metadata": {},
   "outputs": [
    {
     "name": "stdout",
     "output_type": "stream",
     "text": [
      "[0.42412892 0.71187537 0.49357576]\n"
     ]
    }
   ],
   "source": [
    "from scipy.optimize import curve_fit\n",
    "exp1B_func = lambda x, A, p, B: A*p**x + B\n",
    "popt, pcov = curve_fit(\n",
    "                exp1B_func,\n",
    "                result.m,\n",
    "                result.y,\n",
    "                p0 = (np.max(result.y) - np.mean(result.y), 0.9, np.mean(result.y)),\n",
    "                bounds = ((0,0,0),(1,1,1)),\n",
    "            )\n",
    "print(popt)"
   ]
  },
  {
   "cell_type": "code",
   "execution_count": 21,
   "metadata": {},
   "outputs": [
    {
     "name": "stdout",
     "output_type": "stream",
     "text": [
      "   depth                                            samples\n",
      "0      1  [[0], [0], [1], [0], [0], [0], [0], [0], [0], ...\n",
      "1      3  [[0], [0], [1], [0], [0], [1], [0], [0], [0], ...\n",
      "2      5  [[0], [0], [0], [0], [1], [1], [0], [0], [1], ...\n",
      "3     10  [[0], [1], [0], [1], [1], [0], [1], [1], [1], ...\n",
      "4     20  [[0], [1], [1], [1], [1], [1], [0], [0], [0], ...\n",
      "   depth                                            samples  bla\n",
      "0      1  [[0], [0], [1], [0], [0], [0], [0], [0], [0], ...   11\n",
      "1      3  [[0], [0], [1], [0], [0], [1], [0], [0], [0], ...   13\n",
      "2      5  [[0], [0], [0], [0], [1], [1], [0], [0], [1], ...   15\n",
      "3     10  [[0], [1], [0], [1], [1], [0], [1], [1], [1], ...   20\n",
      "4     20  [[0], [1], [1], [1], [1], [1], [0], [0], [0], ...   30\n",
      "{'nqubits': 1, 'qubits': [0], 'depths': [1, 3, 5, 10, 20], 'niter': 10, 'nshots': 20, 'noise_model': 'PauliErrorOnAll', 'noise_params': []}\n"
     ]
    }
   ],
   "source": [
    "data1=data.assign(bla = lambda x: x.depth + 10)\n",
    "print(data.head())\n",
    "print(data1.head())\n",
    "print(data1.attrs)"
   ]
  },
  {
   "cell_type": "code",
   "execution_count": null,
   "metadata": {},
   "outputs": [],
   "source": []
  }
 ],
 "metadata": {
  "kernelspec": {
   "display_name": "qibocalenv",
   "language": "python",
   "name": "python3"
  },
  "language_info": {
   "codemirror_mode": {
    "name": "ipython",
    "version": 3
   },
   "file_extension": ".py",
   "mimetype": "text/x-python",
   "name": "python",
   "nbconvert_exporter": "python",
   "pygments_lexer": "ipython3",
   "version": "3.8.16"
  },
  "orig_nbformat": 4
 },
 "nbformat": 4,
 "nbformat_minor": 2
}
