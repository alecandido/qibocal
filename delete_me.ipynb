{
 "cells": [
  {
   "cell_type": "code",
   "execution_count": null,
   "metadata": {},
   "outputs": [],
   "source": [
    "import pandas as pd\n",
    "from IPython.display import display, HTML\n",
    "from jinja2 import Environment, FileSystemLoader\n",
    "import os\n",
    "import pathlib"
   ]
  },
  {
   "cell_type": "code",
   "execution_count": null,
   "metadata": {},
   "outputs": [],
   "source": [
    "__file__ = 'src/qibocal/web/delete_me.ipynb'\n",
    "WEB_DIR = pathlib.Path(__file__).parent\n",
    "STYLES = WEB_DIR / \"static\" / \"styles.css\"\n",
    "TEMPLATES = WEB_DIR / \"templates\""
   ]
  },
  {
   "cell_type": "code",
   "execution_count": null,
   "metadata": {},
   "outputs": [],
   "source": [
    "mydf = pd.DataFrame([{'a':1, 'b':2, 'c':3}])#, index=['hello'])"
   ]
  },
  {
   "cell_type": "code",
   "execution_count": null,
   "metadata": {},
   "outputs": [],
   "source": [
    "mydf.to_html()#table_id=12, classes=['hello'], notebook=True)"
   ]
  },
  {
   "cell_type": "code",
   "execution_count": null,
   "metadata": {},
   "outputs": [],
   "source": [
    "with open(STYLES) as file:\n",
    "        css_styles = f\"<style>\\n{file.read()}\\n</style>\""
   ]
  },
  {
   "cell_type": "code",
   "execution_count": null,
   "metadata": {},
   "outputs": [],
   "source": [
    "mydf.style.css['row_heading'] = 'hi!'"
   ]
  },
  {
   "cell_type": "code",
   "execution_count": null,
   "metadata": {},
   "outputs": [],
   "source": [
    "mydf = mydf.style.set_table_styles(\n",
    "    [{'selector': 'thead th',\n",
    "    'props': [('background-color', '#f0e6ff')]},\n",
    "    # {'selector': 'thead th:first-child',\n",
    "    # 'props': [('display','none')]},\n",
    "    # {'selector': 'tbody th:first-child',\n",
    "    # 'props': [('display','none')]}\n",
    "    ]\n",
    ")\n",
    "# background-color: #f0e6ff;\n",
    "#   padding: 8px;\n",
    "#   text-align: center;\n",
    "env = Environment(loader=FileSystemLoader(TEMPLATES))\n",
    "template = env.get_template(\"test.html\")\n",
    "html = template.render(\n",
    "    is_static=True,\n",
    "    css_styles=css_styles,\n",
    "    reports = mydf,\n",
    "    )"
   ]
  },
  {
   "cell_type": "code",
   "execution_count": null,
   "metadata": {},
   "outputs": [],
   "source": [
    "with open(os.path.join('delete_me/', \"index.html\"), \"w\") as file:\n",
    "        file.write(html)"
   ]
  },
  {
   "cell_type": "code",
   "execution_count": null,
   "metadata": {},
   "outputs": [],
   "source": [
    "HTML(html)"
   ]
  },
  {
   "cell_type": "code",
   "execution_count": null,
   "metadata": {},
   "outputs": [],
   "source": [
    "import pandas as pd\n",
    "import numpy as np\n",
    "\n",
    "# Set up a DataFrame\n",
    "np.random.seed(24)\n",
    "df = pd.DataFrame({'A': np.linspace(1, 10, 10)})\n",
    "df = pd.concat([df, pd.DataFrame(np.random.randn(10, 4), columns=list('BCDE'))],\n",
    "               axis=1)\n",
    "df.iloc[0, 2] = np.nan\n",
    "\n",
    "df_html_output = df.style.set_table_styles(\n",
    "    [{'selector': 'thead th',\n",
    "    'props': [('background-color', '#f0e6ff'),\n",
    "              ( 'padding', '8px'),\n",
    "              ('text-align', 'center')]},\n",
    "    # {'selector': 'thead th:first-child',\n",
    "    # 'props': [('display','none')]},\n",
    "    # {'selector': 'tbody th:first-child',\n",
    "    # 'props': [('display','none')]}\n",
    "    ]\n",
    ").to_html()\n",
    "\n",
    "HTML(df_html_output)\n",
    "# html.append(df_html_output)\n",
    "# body = '\\r\\n\\n<br>'.join('%s'%item for item in html)\n",
    "# msg.attach(MIMEText(body, 'html'))"
   ]
  },
  {
   "cell_type": "code",
   "execution_count": 172,
   "metadata": {},
   "outputs": [],
   "source": [
    "from qibo.models import Circuit\n",
    "from qibo import gates\n",
    "import numpy as np"
   ]
  },
  {
   "cell_type": "code",
   "execution_count": null,
   "metadata": {},
   "outputs": [],
   "source": [
    "c = Circuit(3)\n",
    "c.add([gates.X(0), gates.Y(1), gates.CZ(0,2), gates.H(1), gates.M(0), gates.M(1)])"
   ]
  },
  {
   "cell_type": "code",
   "execution_count": null,
   "metadata": {},
   "outputs": [],
   "source": [
    "nqubits = 3\n",
    "qubits = [0,2]\n",
    "layers = 4\n",
    "\n",
    "gate_set = [gates.X, gates.Y, gates.H, gates.Unitary] #qasm\n",
    "\n",
    "moments_int = np.random.randint(0, len(gate_set),size=(layers, len(qubits)))\n",
    "\n",
    "\n",
    "init_kwargs_list = np.tile(np.arange(0, len(qubits)), layers).reshape((*moments_int.shape,1)).tolist()\n",
    "# ? inverse ? what is faster? using matrices of gates or a analytic function?\n",
    "\n",
    "collection_array = np.array([])\n",
    "for l in init_kwargs_list:\n",
    "    init_kwargs = np.empty(len(l), dtype=object)\n",
    "    init_kwargs[:] = tuple(l)\n",
    "    collection_array = np.append(collection_array, init_kwargs)\n",
    "collection_array =  collection_array.reshape(layers, len(qubits))"
   ]
  },
  {
   "cell_type": "code",
   "execution_count": null,
   "metadata": {},
   "outputs": [],
   "source": [
    "print(moments_int == 3)\n",
    "for init_list in collection_array[moments_int == 3]:\n",
    "    init_list.insert(0, np.random.uniform(0,1,(2,2)))\n",
    "\n",
    "myc = Circuit(len(qubits))\n",
    "for moment, moment_init in zip(moments_int, collection_array):\n",
    "    for gate_index, init in zip(moment, moment_init):\n",
    "        print(init)\n",
    "        myc.add(gate_set[gate_index](*init))\n"
   ]
  },
  {
   "cell_type": "code",
   "execution_count": null,
   "metadata": {},
   "outputs": [],
   "source": [
    "class sCircuit(Circuit):\n",
    "    def __init__(self, nqubits, accelerators=None, density_matrix=False):\n",
    "        super().__init__(nqubits, accelerators, density_matrix)\n",
    "\n",
    "    def build(self, gate_set, moment_gates_indices, init_args=None):\n",
    "        if init_args is None:\n",
    "            init_args = np.tile(\n",
    "                np.arange(0, len(qubits)), layers\n",
    "            ).reshape((*moment_gates_indices.shape,1))\n",
    "\n",
    "        for moment, moment_inits in zip(moment_gates_indices, init_args):\n",
    "            for gate_index, init in zip(moment, moment_inits):\n",
    "                self.add(gate_set[gate_index](*init))\n",
    "    \n",
    "    def compress(self):\n",
    "        # ...\n",
    "        # return gate_set, moment_gates_indices, init_args\n",
    "        pass\n",
    "\n",
    "    def save(self):\n",
    "        # gate_set, moment_gates_indices, init_args =  self.compress()\n",
    "        pass\n",
    "\n",
    "    @classmethod\n",
    "    def load(cls, path):\n",
    "        # unpack file to gate_set, moment_gates_indices, init_args\n",
    "        # obj = cls(len(moment_gates_inidices[0]))\n",
    "        # obj.build(gate_set, moment_gates_indices, init_args)\n",
    "        # return obj\n",
    "        pass"
   ]
  },
  {
   "cell_type": "code",
   "execution_count": null,
   "metadata": {},
   "outputs": [],
   "source": []
  }
 ],
 "metadata": {
  "kernelspec": {
   "display_name": "qibocalenv",
   "language": "python",
   "name": "python3"
  },
  "language_info": {
   "codemirror_mode": {
    "name": "ipython",
    "version": 3
   },
   "file_extension": ".py",
   "mimetype": "text/x-python",
   "name": "python",
   "nbconvert_exporter": "python",
   "pygments_lexer": "ipython3",
   "version": "3.8.16"
  },
  "orig_nbformat": 4
 },
 "nbformat": 4,
 "nbformat_minor": 2
}
